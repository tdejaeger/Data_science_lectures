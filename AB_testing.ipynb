{
 "cells": [
  {
   "cell_type": "markdown",
   "metadata": {},
   "source": [
    "# Comparing Two Samples: A/B testing\n",
    "\n",
    "In modern data analytics, deciding whether two numerical samples come from the same underlying distribution is called A/B testing."
   ]
  },
  {
   "cell_type": "code",
   "execution_count": 2,
   "metadata": {},
   "outputs": [],
   "source": [
    "import pandas as pd\n",
    "import numpy as np\n",
    "%matplotlib inline\n",
    "import matplotlib.pyplot as plt\n",
    "import statsmodels.api as sm\n",
    "import statsmodels as sms\n"
   ]
  },
  {
   "cell_type": "markdown",
   "metadata": {},
   "source": [
    "# Difference in Population Proportions"
   ]
  },
  {
   "cell_type": "markdown",
   "metadata": {},
   "source": [
    "### From a technical test interview\n",
    "\n",
    "| Action | Price A | Price B |\n",
    "| --- | --- | ----------- |\n",
    "| Buy | 200 | 182 |\n",
    "| No buy | 23539 | 22406 |\n",
    "\n",
    "\n",
    "Does the difference in the conversion rate from both price significant? "
   ]
  },
  {
   "cell_type": "code",
   "execution_count": 162,
   "metadata": {},
   "outputs": [
    {
     "name": "stdout",
     "output_type": "stream",
     "text": [
      "Conversion rate price A: 0.8424954715868402.  Conversion rate price B: 0.8057375597662475\n",
      "Difference conversion rate 0.03675791182059274\n"
     ]
    }
   ],
   "source": [
    "CR_A=200/(23539+200)*100\n",
    "CR_B=182/(22406+182)*100\n",
    "\n",
    "print('Conversion rate price A: %s.  Conversion rate price B: %s'%(CR_A,CR_B))\n",
    "print('Difference conversion rate %s'%(CR_A-CR_B))\n"
   ]
  },
  {
   "cell_type": "markdown",
   "metadata": {},
   "source": [
    "***Null hypothesis (H0):*** There is no difference between the price A and B\n",
    "\n",
    "***Alternative hypothesis:*** The difference of conversion rate between price A and B is stastically significant"
   ]
  },
  {
   "cell_type": "code",
   "execution_count": 163,
   "metadata": {},
   "outputs": [
    {
     "name": "stdout",
     "output_type": "stream",
     "text": [
      "23739 22588 46327\n"
     ]
    }
   ],
   "source": [
    "Total_buy=200+182\n",
    "Toal_nobuy=23539+22406\n",
    "Total_A=200+23539\n",
    "Total_B=182+22406\n",
    "Total=Total_A+Total_B\n",
    "print(Total_A,Total_B,Total)"
   ]
  },
  {
   "cell_type": "code",
   "execution_count": 164,
   "metadata": {},
   "outputs": [],
   "source": [
    "n1 = Total_A\n",
    "p1 = CR_A/100\n",
    "\n",
    "n2 = Total_B\n",
    "p2 = CR_B/100\n",
    "\n",
    "tt=[]\n",
    "for i in range(5000):\n",
    "    population1 = np.random.binomial(1, p1, n1)\n",
    "    population2 = np.random.binomial(1, p2, n2)\n",
    "\n",
    "    tt.append(sm.stats.ttest_ind(population1, population2)[1])\n",
    "\n"
   ]
  },
  {
   "cell_type": "code",
   "execution_count": 165,
   "metadata": {},
   "outputs": [
    {
     "data": {
      "text/plain": [
       "0.4675574429629131"
      ]
     },
     "execution_count": 165,
     "metadata": {},
     "output_type": "execute_result"
    }
   ],
   "source": [
    "np.mean(tt)"
   ]
  },
  {
   "cell_type": "markdown",
   "metadata": {},
   "source": [
    "**Conclusion of the hypothesis test**\n",
    "\n",
    "Since the p-value (0.47) is higher than the standard confidence level 0.05, we cannot reject the Null hypothesis. The difference is not « statistically significant »."
   ]
  },
  {
   "cell_type": "markdown",
   "metadata": {},
   "source": [
    "From those number we create a dataframe to do a boostraap"
   ]
  },
  {
   "cell_type": "code",
   "execution_count": 166,
   "metadata": {},
   "outputs": [],
   "source": [
    "df = pd.DataFrame(columns=['price','buy'])"
   ]
  },
  {
   "cell_type": "code",
   "execution_count": 167,
   "metadata": {},
   "outputs": [
    {
     "name": "stdout",
     "output_type": "stream",
     "text": [
      "      price  buy\n",
      "0         A    1\n",
      "1         A    1\n",
      "2         A    1\n",
      "3         A    1\n",
      "4         A    1\n",
      "...     ...  ...\n",
      "46322     B    0\n",
      "46323     B    0\n",
      "46324     B    0\n",
      "46325     B    0\n",
      "46326     B    0\n",
      "\n",
      "[46327 rows x 2 columns]\n"
     ]
    }
   ],
   "source": [
    "# price column\n",
    "price = ['A'] * Total_A + ['B'] * Total_B\n",
    "\n",
    "# buy\n",
    "buy_A = [1] * 200 + [0] * 23539\n",
    "buy_B = [1] * 182 + [0] * 22406\n",
    "buy=buy_A+buy_B\n",
    "df = pd.DataFrame({'price': price, 'buy': buy})\n",
    "print(df)"
   ]
  },
  {
   "cell_type": "code",
   "execution_count": 168,
   "metadata": {},
   "outputs": [
    {
     "data": {
      "text/html": [
       "<div>\n",
       "<style scoped>\n",
       "    .dataframe tbody tr th:only-of-type {\n",
       "        vertical-align: middle;\n",
       "    }\n",
       "\n",
       "    .dataframe tbody tr th {\n",
       "        vertical-align: top;\n",
       "    }\n",
       "\n",
       "    .dataframe thead th {\n",
       "        text-align: right;\n",
       "    }\n",
       "</style>\n",
       "<table border=\"1\" class=\"dataframe\">\n",
       "  <thead>\n",
       "    <tr style=\"text-align: right;\">\n",
       "      <th></th>\n",
       "      <th>price</th>\n",
       "      <th>Buy average</th>\n",
       "    </tr>\n",
       "  </thead>\n",
       "  <tbody>\n",
       "    <tr>\n",
       "      <th>0</th>\n",
       "      <td>A</td>\n",
       "      <td>0.008425</td>\n",
       "    </tr>\n",
       "    <tr>\n",
       "      <th>1</th>\n",
       "      <td>B</td>\n",
       "      <td>0.008057</td>\n",
       "    </tr>\n",
       "  </tbody>\n",
       "</table>\n",
       "</div>"
      ],
      "text/plain": [
       "  price  Buy average\n",
       "0     A     0.008425\n",
       "1     B     0.008057"
      ]
     },
     "execution_count": 168,
     "metadata": {},
     "output_type": "execute_result"
    }
   ],
   "source": [
    "df.groupby('price')['buy'].mean().reset_index(name='Buy average')\n"
   ]
  },
  {
   "cell_type": "markdown",
   "metadata": {},
   "source": [
    "We recover the good CR for both price."
   ]
  },
  {
   "cell_type": "code",
   "execution_count": 75,
   "metadata": {},
   "outputs": [
    {
     "data": {
      "text/plain": [
       "0.0003675791182059275"
      ]
     },
     "execution_count": 75,
     "metadata": {},
     "output_type": "execute_result"
    }
   ],
   "source": [
    "def difference_of_means(df, label, group_label):\n",
    "    reduced = df[[label, group_label]]\n",
    "    means_table = reduced.groupby(group_label).mean()\n",
    "    means = means_table[label]\n",
    "    return means.iloc[0] - means.iloc[1]\n",
    "\n",
    "observed_diff = difference_of_means(df, 'buy', 'price')\n",
    "observed_diff"
   ]
  },
  {
   "cell_type": "markdown",
   "metadata": {},
   "source": [
    "We recover the same difference of CR_A-CR_B so this function is correct. To see how the statistic should vary under the null hypothesis, we have to figure out how to simulate the statistic under that hypothesis. A clever method based on random permutations does just that.\n",
    "\n",
    "The idea, is to shuffle all the labels randomly among the price"
   ]
  },
  {
   "cell_type": "code",
   "execution_count": 76,
   "metadata": {},
   "outputs": [],
   "source": [
    "def one_simulated_difference(df, label, group_label):\n",
    "    shuffled_labels = df.sample(frac=1, replace=False, ignore_index=True)[group_label]\n",
    "    shuffled_table = pd.DataFrame()\n",
    "    shuffled_table[label] = df[label]\n",
    "    shuffled_table['Shuffled Label'] = shuffled_labels\n",
    "    return difference_of_means(shuffled_table, label, 'Shuffled Label')"
   ]
  },
  {
   "cell_type": "code",
   "execution_count": 77,
   "metadata": {},
   "outputs": [],
   "source": [
    "simulated_diffs = np.array([])\n",
    "\n",
    "for i in np.arange(10000):\n",
    "    sim_diff = one_simulated_difference(df, 'buy', 'price')\n",
    "    simulated_diffs = np.append(simulated_diffs, sim_diff)"
   ]
  },
  {
   "cell_type": "code",
   "execution_count": 78,
   "metadata": {},
   "outputs": [
    {
     "name": "stdout",
     "output_type": "stream",
     "text": [
      "Observed Difference: 0.0003675791182059275\n"
     ]
    },
    {
     "data": {
      "text/plain": [
       "Text(0.5, 1.0, 'Prediction Under the Null Hypothesis')"
      ]
     },
     "execution_count": 78,
     "metadata": {},
     "output_type": "execute_result"
    },
    {
     "data": {
      "image/png": "[encoded data removed]",
      "text/plain": [
       "<Figure size 640x480 with 1 Axes>"
      ]
     },
     "metadata": {},
     "output_type": "display_data"
    }
   ],
   "source": [
    "df = pd.DataFrame()\n",
    "df['Difference Between Group Means'] = simulated_diffs\n",
    "df.hist()\n",
    "plt.plot(observed_diff, 10, 'ro',label='Observed diff')                 # Additional point\n",
    "print('Observed Difference:', observed_diff)\n",
    "plt.legend()\n",
    "plt.title('Prediction Under the Null Hypothesis')"
   ]
  },
  {
   "cell_type": "code",
   "execution_count": 79,
   "metadata": {},
   "outputs": [
    {
     "name": "stdout",
     "output_type": "stream",
     "text": [
      "P-value is: 0.36\n"
     ]
    }
   ],
   "source": [
    "# p-value\n",
    "pval=sum(simulated_diffs >= observed_diff)/len(simulated_diffs)\n",
    "print('P-value is: %0.2f'%pval)"
   ]
  },
  {
   "cell_type": "code",
   "execution_count": 84,
   "metadata": {},
   "outputs": [
    {
     "name": "stdout",
     "output_type": "stream",
     "text": [
      "We do not reject the null hypothesis, the difference between price A and B is not statistically significant.\n"
     ]
    }
   ],
   "source": [
    "alpha=0.05\n",
    "# interpret via p-value\n",
    "if pval > alpha:\n",
    " print('We do not reject the null hypothesis, the difference between price A and B is not statistically significant.')\n",
    "else:\n",
    " print('Reject the null hypothesis.')\n"
   ]
  },
  {
   "cell_type": "markdown",
   "metadata": {},
   "source": [
    "# Difference in Population Means: step by step "
   ]
  },
  {
   "cell_type": "markdown",
   "metadata": {},
   "source": [
    "The table births contains the following variables for 1,174 mother-baby pairs: \n",
    "the baby’s birth weight in ounces, the number of gestational days, the mother’s age in completed years, \n",
    "the mother’s height in inches, pregnancy weight in pounds, and whether or not the mother smoked during pregnancy.\n"
   ]
  },
  {
   "cell_type": "code",
   "execution_count": 86,
   "metadata": {},
   "outputs": [
    {
     "data": {
      "text/html": [
       "<div>\n",
       "<style scoped>\n",
       "    .dataframe tbody tr th:only-of-type {\n",
       "        vertical-align: middle;\n",
       "    }\n",
       "\n",
       "    .dataframe tbody tr th {\n",
       "        vertical-align: top;\n",
       "    }\n",
       "\n",
       "    .dataframe thead th {\n",
       "        text-align: right;\n",
       "    }\n",
       "</style>\n",
       "<table border=\"1\" class=\"dataframe\">\n",
       "  <thead>\n",
       "    <tr style=\"text-align: right;\">\n",
       "      <th></th>\n",
       "      <th>Birth Weight</th>\n",
       "      <th>Gestational Days</th>\n",
       "      <th>Maternal Age</th>\n",
       "      <th>Maternal Height</th>\n",
       "      <th>Maternal Pregnancy Weight</th>\n",
       "      <th>Maternal Smoker</th>\n",
       "    </tr>\n",
       "  </thead>\n",
       "  <tbody>\n",
       "    <tr>\n",
       "      <th>0</th>\n",
       "      <td>120</td>\n",
       "      <td>284</td>\n",
       "      <td>27</td>\n",
       "      <td>62</td>\n",
       "      <td>100</td>\n",
       "      <td>False</td>\n",
       "    </tr>\n",
       "    <tr>\n",
       "      <th>1</th>\n",
       "      <td>113</td>\n",
       "      <td>282</td>\n",
       "      <td>33</td>\n",
       "      <td>64</td>\n",
       "      <td>135</td>\n",
       "      <td>False</td>\n",
       "    </tr>\n",
       "    <tr>\n",
       "      <th>2</th>\n",
       "      <td>128</td>\n",
       "      <td>279</td>\n",
       "      <td>28</td>\n",
       "      <td>64</td>\n",
       "      <td>115</td>\n",
       "      <td>True</td>\n",
       "    </tr>\n",
       "    <tr>\n",
       "      <th>3</th>\n",
       "      <td>108</td>\n",
       "      <td>282</td>\n",
       "      <td>23</td>\n",
       "      <td>67</td>\n",
       "      <td>125</td>\n",
       "      <td>True</td>\n",
       "    </tr>\n",
       "    <tr>\n",
       "      <th>4</th>\n",
       "      <td>136</td>\n",
       "      <td>286</td>\n",
       "      <td>25</td>\n",
       "      <td>62</td>\n",
       "      <td>93</td>\n",
       "      <td>False</td>\n",
       "    </tr>\n",
       "    <tr>\n",
       "      <th>...</th>\n",
       "      <td>...</td>\n",
       "      <td>...</td>\n",
       "      <td>...</td>\n",
       "      <td>...</td>\n",
       "      <td>...</td>\n",
       "      <td>...</td>\n",
       "    </tr>\n",
       "    <tr>\n",
       "      <th>1169</th>\n",
       "      <td>113</td>\n",
       "      <td>275</td>\n",
       "      <td>27</td>\n",
       "      <td>60</td>\n",
       "      <td>100</td>\n",
       "      <td>False</td>\n",
       "    </tr>\n",
       "    <tr>\n",
       "      <th>1170</th>\n",
       "      <td>128</td>\n",
       "      <td>265</td>\n",
       "      <td>24</td>\n",
       "      <td>67</td>\n",
       "      <td>120</td>\n",
       "      <td>False</td>\n",
       "    </tr>\n",
       "    <tr>\n",
       "      <th>1171</th>\n",
       "      <td>130</td>\n",
       "      <td>291</td>\n",
       "      <td>30</td>\n",
       "      <td>65</td>\n",
       "      <td>150</td>\n",
       "      <td>True</td>\n",
       "    </tr>\n",
       "    <tr>\n",
       "      <th>1172</th>\n",
       "      <td>125</td>\n",
       "      <td>281</td>\n",
       "      <td>21</td>\n",
       "      <td>65</td>\n",
       "      <td>110</td>\n",
       "      <td>False</td>\n",
       "    </tr>\n",
       "    <tr>\n",
       "      <th>1173</th>\n",
       "      <td>117</td>\n",
       "      <td>297</td>\n",
       "      <td>38</td>\n",
       "      <td>65</td>\n",
       "      <td>129</td>\n",
       "      <td>False</td>\n",
       "    </tr>\n",
       "  </tbody>\n",
       "</table>\n",
       "<p>1174 rows × 6 columns</p>\n",
       "</div>"
      ],
      "text/plain": [
       "      Birth Weight  Gestational Days  Maternal Age  Maternal Height  \\\n",
       "0              120               284            27               62   \n",
       "1              113               282            33               64   \n",
       "2              128               279            28               64   \n",
       "3              108               282            23               67   \n",
       "4              136               286            25               62   \n",
       "...            ...               ...           ...              ...   \n",
       "1169           113               275            27               60   \n",
       "1170           128               265            24               67   \n",
       "1171           130               291            30               65   \n",
       "1172           125               281            21               65   \n",
       "1173           117               297            38               65   \n",
       "\n",
       "      Maternal Pregnancy Weight  Maternal Smoker  \n",
       "0                           100            False  \n",
       "1                           135            False  \n",
       "2                           115             True  \n",
       "3                           125             True  \n",
       "4                            93            False  \n",
       "...                         ...              ...  \n",
       "1169                        100            False  \n",
       "1170                        120            False  \n",
       "1171                        150             True  \n",
       "1172                        110            False  \n",
       "1173                        129            False  \n",
       "\n",
       "[1174 rows x 6 columns]"
      ]
     },
     "execution_count": 86,
     "metadata": {},
     "output_type": "execute_result"
    }
   ],
   "source": [
    "births = pd.read_csv('data/baby.csv')\n",
    "births"
   ]
  },
  {
   "cell_type": "raw",
   "metadata": {},
   "source": [
    "One of the aims of the study was to see whether maternal smoking was associated with birth weight. Let’s see what we can say about the two variables.\n",
    "\n",
    "We’ll start by selecting just Birth Weight and Maternal Smoker. There are 715 non-smokers among the women in the sample, and 459 smokers."
   ]
  },
  {
   "cell_type": "code",
   "execution_count": 87,
   "metadata": {},
   "outputs": [
    {
     "data": {
      "text/html": [
       "<div>\n",
       "<style scoped>\n",
       "    .dataframe tbody tr th:only-of-type {\n",
       "        vertical-align: middle;\n",
       "    }\n",
       "\n",
       "    .dataframe tbody tr th {\n",
       "        vertical-align: top;\n",
       "    }\n",
       "\n",
       "    .dataframe thead th {\n",
       "        text-align: right;\n",
       "    }\n",
       "</style>\n",
       "<table border=\"1\" class=\"dataframe\">\n",
       "  <thead>\n",
       "    <tr style=\"text-align: right;\">\n",
       "      <th></th>\n",
       "      <th>Birth Weight</th>\n",
       "    </tr>\n",
       "    <tr>\n",
       "      <th>Maternal Smoker</th>\n",
       "      <th></th>\n",
       "    </tr>\n",
       "  </thead>\n",
       "  <tbody>\n",
       "    <tr>\n",
       "      <th>False</th>\n",
       "      <td>715</td>\n",
       "    </tr>\n",
       "    <tr>\n",
       "      <th>True</th>\n",
       "      <td>459</td>\n",
       "    </tr>\n",
       "  </tbody>\n",
       "</table>\n",
       "</div>"
      ],
      "text/plain": [
       "                 Birth Weight\n",
       "Maternal Smoker              \n",
       "False                     715\n",
       "True                      459"
      ]
     },
     "execution_count": 87,
     "metadata": {},
     "output_type": "execute_result"
    }
   ],
   "source": [
    "smoking_and_birthweight = births[['Maternal Smoker', 'Birth Weight']]\n",
    "smoking_and_birthweight.groupby('Maternal Smoker').count()\n"
   ]
  },
  {
   "cell_type": "raw",
   "metadata": {},
   "source": [
    "Let’s look at the distribution of the birth weights of the babies of the non-smoking mothers compared to those of the smoking mothers. To generate two overlaid histograms, we will use hist with the optional group argument which is a column label or index. The rows of the table are first grouped by this column and then a histogram is drawn for each one.\n",
    "\n"
   ]
  },
  {
   "cell_type": "code",
   "execution_count": 88,
   "metadata": {},
   "outputs": [
    {
     "data": {
      "image/png": "[encoded data removed]",
      "text/plain": [
       "<Figure size 800x600 with 1 Axes>"
      ]
     },
     "metadata": {},
     "output_type": "display_data"
    }
   ],
   "source": [
    "fig, ax1 = plt.subplots(figsize=(8,6), facecolor='w', edgecolor='k')\n",
    "\n",
    "# Horizontal Bar Plot\n",
    "ax1.hist(smoking_and_birthweight[smoking_and_birthweight['Maternal Smoker']==True]['Birth Weight'].values,histtype='step',density=True,color='r', alpha=0.7,lw=3,label='Smoking moms')\n",
    "ax1.axvline(x=smoking_and_birthweight[smoking_and_birthweight['Maternal Smoker']==True]['Birth Weight'].mean(),color='r')\n",
    "\n",
    "ax1.hist(smoking_and_birthweight[smoking_and_birthweight['Maternal Smoker']==False]['Birth Weight'].values,histtype='step',density=True,color='b', alpha=0.7,lw=3,label='Non-smoking moms')\n",
    "ax1.axvline(x=smoking_and_birthweight[smoking_and_birthweight['Maternal Smoker']==False]['Birth Weight'].mean(),color='b')\n",
    "\n",
    "\n",
    "ax1.set_ylabel('#',fontsize=20,fontweight='bold')\n",
    "ax1.set_xlabel('Birth weight',fontsize=20,fontweight='bold')\n",
    "ax1.tick_params(axis='both', which='major', labelsize=10,direction='in',right='on',top='on')\n",
    "ax1.legend()\n",
    "ax = plt.gca()\n",
    "for tick in ax.get_xticklabels():\n",
    "    tick.set_fontweight('bold')\n",
    "for tick in ax.get_yticklabels():\n",
    "    tick.set_fontweight('bold')\n",
    "plt.show()"
   ]
  },
  {
   "cell_type": "raw",
   "metadata": {},
   "source": [
    "The weights of the babies of the mothers who smoked seem lower on average than the weights of the babies of the non-smokers.\n",
    "\n",
    "This raises the question of whether the difference reflects just chance variation or a difference in the distributions in the larger population. Could it be that there is no difference between the two distributions in the population, but we are seeing a difference in the samples just because of the mothers who happened to be selected?"
   ]
  },
  {
   "cell_type": "markdown",
   "metadata": {},
   "source": [
    "### First make hypothesis\n",
    "\n",
    "**Null hypothesis**: is the one that states that sample observations result purely from chance. From an A/B test perspective, the null hypothesis states that there is no difference between the control and variant groups. It states the default position to be tested or the situation as it is now, i.e. the status quo.\n",
    "\n",
    "HERE: In the population, the distribution of birth weights of babies is the same for mothers who don’t smoke as for mothers who do. The difference in the sample is due to chance.\n",
    "\n",
    "**Alternative hypothesis**: The alternative hypothesis challenges the null hypothesis and is basically a hypothesis that the researcher believes to be true. The alternative hypothesis is what you might hope that your A/B test will prove to be true.\n",
    "\n",
    "HERE: In the population, the babies of the mothers who smoke have a lower birth weight, on average, than the babies of the non-smokers.\n",
    "\n",
    "\n",
    "\n",
    "\n",
    "**H0** μ1=μ2\n",
    "\n",
    "**H1** μ1≠μ2"
   ]
  },
  {
   "cell_type": "markdown",
   "metadata": {},
   "source": [
    "# Test Statistic\n",
    "\n",
    "[Question] What values of our statistic are in favor of the alternative: positive or negative?"
   ]
  },
  {
   "cell_type": "code",
   "execution_count": 135,
   "metadata": {},
   "outputs": [
    {
     "data": {
      "text/html": [
       "<div>\n",
       "<style scoped>\n",
       "    .dataframe tbody tr th:only-of-type {\n",
       "        vertical-align: middle;\n",
       "    }\n",
       "\n",
       "    .dataframe tbody tr th {\n",
       "        vertical-align: top;\n",
       "    }\n",
       "\n",
       "    .dataframe thead th {\n",
       "        text-align: right;\n",
       "    }\n",
       "</style>\n",
       "<table border=\"1\" class=\"dataframe\">\n",
       "  <thead>\n",
       "    <tr style=\"text-align: right;\">\n",
       "      <th></th>\n",
       "      <th>Birth Weight</th>\n",
       "    </tr>\n",
       "    <tr>\n",
       "      <th>Maternal Smoker</th>\n",
       "      <th></th>\n",
       "    </tr>\n",
       "  </thead>\n",
       "  <tbody>\n",
       "    <tr>\n",
       "      <th>False</th>\n",
       "      <td>123.085315</td>\n",
       "    </tr>\n",
       "    <tr>\n",
       "      <th>True</th>\n",
       "      <td>113.819172</td>\n",
       "    </tr>\n",
       "  </tbody>\n",
       "</table>\n",
       "</div>"
      ],
      "text/plain": [
       "                 Birth Weight\n",
       "Maternal Smoker              \n",
       "False              123.085315\n",
       "True               113.819172"
      ]
     },
     "execution_count": 135,
     "metadata": {},
     "output_type": "execute_result"
    }
   ],
   "source": [
    "means_table = smoking_and_birthweight.groupby('Maternal Smoker').mean()\n",
    "means_table"
   ]
  },
  {
   "cell_type": "code",
   "execution_count": 136,
   "metadata": {},
   "outputs": [
    {
     "data": {
      "text/plain": [
       "-9.266142572024918"
      ]
     },
     "execution_count": 136,
     "metadata": {},
     "output_type": "execute_result"
    }
   ],
   "source": [
    "means = means_table[\"Birth Weight\"]\n",
    "observed_difference = means.iloc[1] - means.iloc[0]\n",
    "observed_difference"
   ]
  },
  {
   "cell_type": "raw",
   "metadata": {},
   "source": [
    "We are going compute such differences repeatedly in our simulations below, so we will define a function to do the job. The function takes three arguments:\n",
    "\n",
    "the name of the table of data\n",
    "\n",
    "the label of the column that contains the numerical variable whose average is of interest\n",
    "\n",
    "the label of the column that contains the Boolean variable for grouping\n",
    "\n",
    "It returns the difference between the means of the True group and the False group."
   ]
  },
  {
   "cell_type": "code",
   "execution_count": 34,
   "metadata": {},
   "outputs": [],
   "source": [
    "def difference_of_means(table, label, group_label):\n",
    "    reduced = table[[label, group_label]]\n",
    "    means_table = reduced.groupby(group_label).mean()\n",
    "    means = means_table[label]\n",
    "    return means.iloc[1] - means.iloc[0]"
   ]
  },
  {
   "cell_type": "code",
   "execution_count": 138,
   "metadata": {},
   "outputs": [
    {
     "data": {
      "text/plain": [
       "-9.266142572024918"
      ]
     },
     "execution_count": 138,
     "metadata": {},
     "output_type": "execute_result"
    }
   ],
   "source": [
    "difference_of_means(births, 'Birth Weight', 'Maternal Smoker')"
   ]
  },
  {
   "cell_type": "markdown",
   "metadata": {},
   "source": [
    "### Predicting the Statistic Under Null Hypothesis"
   ]
  },
  {
   "cell_type": "raw",
   "metadata": {},
   "source": [
    "To see how the statistic should vary under the null hypothesis, we have to figure out how to simulate the statistic under that hypothesis. A clever method based on random permutations does just that.\n",
    "\n",
    "If there were no difference between the two distributions in the underlying population, then whether a birth weight has the label True or False with respect to maternal smoking should make no difference to the average. The idea, then, is to shuffle all the labels randomly among the mothers. This is called random permutation"
   ]
  },
  {
   "cell_type": "code",
   "execution_count": 139,
   "metadata": {},
   "outputs": [
    {
     "data": {
      "text/html": [
       "<div>\n",
       "<style scoped>\n",
       "    .dataframe tbody tr th:only-of-type {\n",
       "        vertical-align: middle;\n",
       "    }\n",
       "\n",
       "    .dataframe tbody tr th {\n",
       "        vertical-align: top;\n",
       "    }\n",
       "\n",
       "    .dataframe thead th {\n",
       "        text-align: right;\n",
       "    }\n",
       "</style>\n",
       "<table border=\"1\" class=\"dataframe\">\n",
       "  <thead>\n",
       "    <tr style=\"text-align: right;\">\n",
       "      <th></th>\n",
       "      <th>Maternal Smoker</th>\n",
       "      <th>Birth Weight</th>\n",
       "    </tr>\n",
       "  </thead>\n",
       "  <tbody>\n",
       "    <tr>\n",
       "      <th>0</th>\n",
       "      <td>False</td>\n",
       "      <td>120</td>\n",
       "    </tr>\n",
       "    <tr>\n",
       "      <th>1</th>\n",
       "      <td>False</td>\n",
       "      <td>113</td>\n",
       "    </tr>\n",
       "    <tr>\n",
       "      <th>2</th>\n",
       "      <td>True</td>\n",
       "      <td>128</td>\n",
       "    </tr>\n",
       "    <tr>\n",
       "      <th>3</th>\n",
       "      <td>True</td>\n",
       "      <td>108</td>\n",
       "    </tr>\n",
       "    <tr>\n",
       "      <th>4</th>\n",
       "      <td>False</td>\n",
       "      <td>136</td>\n",
       "    </tr>\n",
       "    <tr>\n",
       "      <th>...</th>\n",
       "      <td>...</td>\n",
       "      <td>...</td>\n",
       "    </tr>\n",
       "    <tr>\n",
       "      <th>1169</th>\n",
       "      <td>False</td>\n",
       "      <td>113</td>\n",
       "    </tr>\n",
       "    <tr>\n",
       "      <th>1170</th>\n",
       "      <td>False</td>\n",
       "      <td>128</td>\n",
       "    </tr>\n",
       "    <tr>\n",
       "      <th>1171</th>\n",
       "      <td>True</td>\n",
       "      <td>130</td>\n",
       "    </tr>\n",
       "    <tr>\n",
       "      <th>1172</th>\n",
       "      <td>False</td>\n",
       "      <td>125</td>\n",
       "    </tr>\n",
       "    <tr>\n",
       "      <th>1173</th>\n",
       "      <td>False</td>\n",
       "      <td>117</td>\n",
       "    </tr>\n",
       "  </tbody>\n",
       "</table>\n",
       "<p>1174 rows × 2 columns</p>\n",
       "</div>"
      ],
      "text/plain": [
       "      Maternal Smoker  Birth Weight\n",
       "0               False           120\n",
       "1               False           113\n",
       "2                True           128\n",
       "3                True           108\n",
       "4               False           136\n",
       "...               ...           ...\n",
       "1169            False           113\n",
       "1170            False           128\n",
       "1171             True           130\n",
       "1172            False           125\n",
       "1173            False           117\n",
       "\n",
       "[1174 rows x 2 columns]"
      ]
     },
     "execution_count": 139,
     "metadata": {},
     "output_type": "execute_result"
    }
   ],
   "source": [
    "smoking_and_birthweight"
   ]
  },
  {
   "cell_type": "code",
   "execution_count": 140,
   "metadata": {},
   "outputs": [],
   "source": [
    "shuffled_labels = smoking_and_birthweight.sample(frac=1, replace=False, ignore_index=True)[\"Maternal Smoker\"]\n",
    "original_and_shuffled = smoking_and_birthweight.copy()\n",
    "original_and_shuffled['Shuffled Label'] = shuffled_labels"
   ]
  },
  {
   "cell_type": "code",
   "execution_count": 141,
   "metadata": {},
   "outputs": [
    {
     "data": {
      "text/html": [
       "<div>\n",
       "<style scoped>\n",
       "    .dataframe tbody tr th:only-of-type {\n",
       "        vertical-align: middle;\n",
       "    }\n",
       "\n",
       "    .dataframe tbody tr th {\n",
       "        vertical-align: top;\n",
       "    }\n",
       "\n",
       "    .dataframe thead th {\n",
       "        text-align: right;\n",
       "    }\n",
       "</style>\n",
       "<table border=\"1\" class=\"dataframe\">\n",
       "  <thead>\n",
       "    <tr style=\"text-align: right;\">\n",
       "      <th></th>\n",
       "      <th>Maternal Smoker</th>\n",
       "      <th>Birth Weight</th>\n",
       "      <th>Shuffled Label</th>\n",
       "    </tr>\n",
       "  </thead>\n",
       "  <tbody>\n",
       "    <tr>\n",
       "      <th>0</th>\n",
       "      <td>False</td>\n",
       "      <td>120</td>\n",
       "      <td>True</td>\n",
       "    </tr>\n",
       "    <tr>\n",
       "      <th>1</th>\n",
       "      <td>False</td>\n",
       "      <td>113</td>\n",
       "      <td>True</td>\n",
       "    </tr>\n",
       "    <tr>\n",
       "      <th>2</th>\n",
       "      <td>True</td>\n",
       "      <td>128</td>\n",
       "      <td>True</td>\n",
       "    </tr>\n",
       "    <tr>\n",
       "      <th>3</th>\n",
       "      <td>True</td>\n",
       "      <td>108</td>\n",
       "      <td>False</td>\n",
       "    </tr>\n",
       "    <tr>\n",
       "      <th>4</th>\n",
       "      <td>False</td>\n",
       "      <td>136</td>\n",
       "      <td>True</td>\n",
       "    </tr>\n",
       "    <tr>\n",
       "      <th>...</th>\n",
       "      <td>...</td>\n",
       "      <td>...</td>\n",
       "      <td>...</td>\n",
       "    </tr>\n",
       "    <tr>\n",
       "      <th>1169</th>\n",
       "      <td>False</td>\n",
       "      <td>113</td>\n",
       "      <td>True</td>\n",
       "    </tr>\n",
       "    <tr>\n",
       "      <th>1170</th>\n",
       "      <td>False</td>\n",
       "      <td>128</td>\n",
       "      <td>True</td>\n",
       "    </tr>\n",
       "    <tr>\n",
       "      <th>1171</th>\n",
       "      <td>True</td>\n",
       "      <td>130</td>\n",
       "      <td>False</td>\n",
       "    </tr>\n",
       "    <tr>\n",
       "      <th>1172</th>\n",
       "      <td>False</td>\n",
       "      <td>125</td>\n",
       "      <td>False</td>\n",
       "    </tr>\n",
       "    <tr>\n",
       "      <th>1173</th>\n",
       "      <td>False</td>\n",
       "      <td>117</td>\n",
       "      <td>True</td>\n",
       "    </tr>\n",
       "  </tbody>\n",
       "</table>\n",
       "<p>1174 rows × 3 columns</p>\n",
       "</div>"
      ],
      "text/plain": [
       "      Maternal Smoker  Birth Weight  Shuffled Label\n",
       "0               False           120            True\n",
       "1               False           113            True\n",
       "2                True           128            True\n",
       "3                True           108           False\n",
       "4               False           136            True\n",
       "...               ...           ...             ...\n",
       "1169            False           113            True\n",
       "1170            False           128            True\n",
       "1171             True           130           False\n",
       "1172            False           125           False\n",
       "1173            False           117            True\n",
       "\n",
       "[1174 rows x 3 columns]"
      ]
     },
     "execution_count": 141,
     "metadata": {},
     "output_type": "execute_result"
    }
   ],
   "source": [
    "original_and_shuffled"
   ]
  },
  {
   "cell_type": "raw",
   "metadata": {},
   "source": [
    "Each baby’s mother now has a random smoker/non-smoker label in the column Shuffled Label, while her original label is in Maternal Smoker. If the null hypothesis is true, all the random re-arrangements of the labels should be equally likely.\n",
    "\n",
    "Let’s see how different the average weights are in the two randomly labeled groups."
   ]
  },
  {
   "cell_type": "code",
   "execution_count": 142,
   "metadata": {
    "scrolled": true
   },
   "outputs": [
    {
     "data": {
      "text/html": [
       "<div>\n",
       "<style scoped>\n",
       "    .dataframe tbody tr th:only-of-type {\n",
       "        vertical-align: middle;\n",
       "    }\n",
       "\n",
       "    .dataframe tbody tr th {\n",
       "        vertical-align: top;\n",
       "    }\n",
       "\n",
       "    .dataframe thead th {\n",
       "        text-align: right;\n",
       "    }\n",
       "</style>\n",
       "<table border=\"1\" class=\"dataframe\">\n",
       "  <thead>\n",
       "    <tr style=\"text-align: right;\">\n",
       "      <th></th>\n",
       "      <th>Birth Weight</th>\n",
       "    </tr>\n",
       "    <tr>\n",
       "      <th>Shuffled Label</th>\n",
       "      <th></th>\n",
       "    </tr>\n",
       "  </thead>\n",
       "  <tbody>\n",
       "    <tr>\n",
       "      <th>False</th>\n",
       "      <td>119.976224</td>\n",
       "    </tr>\n",
       "    <tr>\n",
       "      <th>True</th>\n",
       "      <td>118.662309</td>\n",
       "    </tr>\n",
       "  </tbody>\n",
       "</table>\n",
       "</div>"
      ],
      "text/plain": [
       "                Birth Weight\n",
       "Shuffled Label              \n",
       "False             119.976224\n",
       "True              118.662309"
      ]
     },
     "execution_count": 142,
     "metadata": {},
     "output_type": "execute_result"
    }
   ],
   "source": [
    "shuffled_only = original_and_shuffled.drop('Maternal Smoker', axis=1)\n",
    "shuffled_group_means = shuffled_only.groupby('Shuffled Label').mean()\n",
    "shuffled_group_means"
   ]
  },
  {
   "cell_type": "raw",
   "metadata": {},
   "source": [
    "The averages of the two randomly selected groups are quite a bit closer than the averages of the two original groups. We can use our function difference_of_means to find the two differences"
   ]
  },
  {
   "cell_type": "code",
   "execution_count": 143,
   "metadata": {},
   "outputs": [
    {
     "data": {
      "text/plain": [
       "-1.313914408032062"
      ]
     },
     "execution_count": 143,
     "metadata": {},
     "output_type": "execute_result"
    }
   ],
   "source": [
    "difference_of_means(original_and_shuffled, 'Birth Weight', 'Shuffled Label')\n"
   ]
  },
  {
   "cell_type": "raw",
   "metadata": {},
   "source": [
    "But could a different shuffle have resulted in a larger difference between the group averages? To get a sense of the variability, we must simulate the difference many times.\n",
    "\n",
    "As always, we will start by defining a function that simulates one value of the test statistic under the null hypothesis. This is just a matter of collecting the code that we wrote above. But because we will later want to use the same process for comparing means of other variables, we will define a function that takes three arguments:\n",
    "\n",
    "the name of the table of data\n",
    "\n",
    "the label of the column that contains the numerical variable\n",
    "\n",
    "the label of the column that contains the Boolean variable for grouping\n",
    "\n",
    "It returns the difference between the means of two groups formed by randomly shuffling all the labels."
   ]
  },
  {
   "cell_type": "code",
   "execution_count": 35,
   "metadata": {},
   "outputs": [],
   "source": [
    "def one_simulated_difference(table, label, group_label):\n",
    "    shuffled_labels = table.sample(frac=1, replace=False, ignore_index=True)[group_label]\n",
    "    shuffled_table = pd.DataFrame()\n",
    "    shuffled_table[label] = table[label]\n",
    "    shuffled_table['Shuffled Label'] = shuffled_labels\n",
    "    return difference_of_means(shuffled_table, label, 'Shuffled Label') "
   ]
  },
  {
   "cell_type": "code",
   "execution_count": 145,
   "metadata": {},
   "outputs": [
    {
     "data": {
      "text/plain": [
       "-0.33374773374774236"
      ]
     },
     "execution_count": 145,
     "metadata": {},
     "output_type": "execute_result"
    }
   ],
   "source": [
    "one_simulated_difference(births, 'Birth Weight', 'Maternal Smoker')"
   ]
  },
  {
   "cell_type": "markdown",
   "metadata": {},
   "source": [
    "### Permutation Test"
   ]
  },
  {
   "cell_type": "raw",
   "metadata": {},
   "source": [
    "Tests based on random permutations of the data are called permutation tests. We are performing one in this example. In the cell below, we will simulate our test statistic – the difference between the averages of the two groups – many times and collect the differences in an array."
   ]
  },
  {
   "cell_type": "code",
   "execution_count": 146,
   "metadata": {},
   "outputs": [],
   "source": [
    "differences = np.array([])\n",
    "\n",
    "for i in np.arange(2500):\n",
    "    new_difference = one_simulated_difference(births, 'Birth Weight', 'Maternal Smoker')\n",
    "    differences = np.append(differences, new_difference)"
   ]
  },
  {
   "cell_type": "markdown",
   "metadata": {},
   "source": [
    "### Conclusion of the Test\n"
   ]
  },
  {
   "cell_type": "code",
   "execution_count": 101,
   "metadata": {},
   "outputs": [
    {
     "name": "stdout",
     "output_type": "stream",
     "text": [
      "Observed Difference: -9.266142572024918\n"
     ]
    },
    {
     "data": {
      "text/plain": [
       "Text(0.5, 1.0, 'Prediction Under the Null Hypothesis')"
      ]
     },
     "execution_count": 101,
     "metadata": {},
     "output_type": "execute_result"
    },
    {
     "data": {
      "image/png": "[encoded data removed]",
      "text/plain": [
       "<Figure size 640x480 with 1 Axes>"
      ]
     },
     "metadata": {},
     "output_type": "display_data"
    }
   ],
   "source": [
    "df = pd.DataFrame()\n",
    "df['Difference Between Group Means'] = differences\n",
    "df.hist()\n",
    "print('Observed Difference:', observed_difference)\n",
    "plt.plot(observed_difference, 0, 'ro')                 # Additional point\n",
    "\n",
    "plt.title('Prediction Under the Null Hypothesis')"
   ]
  },
  {
   "cell_type": "raw",
   "metadata": {},
   "source": [
    "Notice how the distribution is centered around 0. This makes sense, because under the null hypothesis the two groups should have roughly the same average. Therefore the difference between the group averages should be around 0.\n",
    "\n",
    "The observed difference in the original sample is about −9.27\n",
    " ounces, which doesn’t even appear on the horizontal scale of the histogram. The observed value of the statistic and the predicted behavior of the statistic under the null hypothesis are inconsistent.\n",
    "\n",
    "The conclusion of the test is that the data favor the alternative over the null. The average birth weight of babies born to mothers who smoke is less than the average birth weight of babies born to non-smokers."
   ]
  },
  {
   "cell_type": "code",
   "execution_count": 102,
   "metadata": {},
   "outputs": [
    {
     "data": {
      "text/plain": [
       "0.0"
      ]
     },
     "execution_count": 102,
     "metadata": {},
     "output_type": "execute_result"
    }
   ],
   "source": [
    "\n",
    "# Empirical P-value\n",
    "empirical_P = np.count_nonzero(differences <= observed_difference) / len(differences)\n",
    "empirical_P\n",
    "# 0.0"
   ]
  },
  {
   "cell_type": "raw",
   "metadata": {},
   "source": [
    "The empirical P-value is 0, meaning that none of the 2,500 permuted samples resulted in a difference of -9.27 or lower. This is only an approximation. The exact chance of getting a difference in that range is not 0 but it is vanishingly small."
   ]
  },
  {
   "cell_type": "markdown",
   "metadata": {},
   "source": [
    "## Using Z-test (N>30 and Gaussian distrubution)"
   ]
  },
  {
   "cell_type": "raw",
   "metadata": {},
   "source": [
    "* Z-test is a parametric statistical method for comparing the means of the two populations (two-sample independent and paired Z-test) and for comparing the mean of a sample to a specific value (one sample Z-test).\n",
    "\n",
    "*Z-test requires a large sample size (n ≥ 30) and known population variance (or deviation). If the population variance is not known, use a t-test, which uses sample standard deviation (s).\n",
    "\n",
    "*In Z-test, the test statistic follows the standard normal distribution (Z-distribution) (type of continuous probability distribution) under the null hypothesis"
   ]
  },
  {
   "cell_type": "markdown",
   "metadata": {},
   "source": [
    "***Null hypothesis:*** There is no difference between the two sample means (difference=0)\n",
    "\n",
    "***Alternative hypothesis:*** There is a difference between the two sample means (two-tailed)"
   ]
  },
  {
   "cell_type": "markdown",
   "metadata": {},
   "source": [
    "To understand this, we must be familiar with a few terms:\n",
    "\n",
    "***Significance level (alpha):*** The significance level, also denoted as alpha or α, is the probability of rejecting the null hypothesis when it is true. Generally, we use the significance value of 0.05\n",
    "    \n",
    "***P-Value:*** It is the probability that the difference between the two values is just because of random chance. P-value is evidence against the null hypothesis. The smaller the p-value stronger the chances to reject the H0. For the significance level of 0.05, if the p-value is lesser than it hence we can reject the null hypothesis\n",
    "    \n",
    "***Confidence interval:*** The confidence interval is an observed range in which a given percentage of test outcomes fall. We manually select our desired confidence level at the beginning of our test. Generally, we take a 95% confidence interval"
   ]
  },
  {
   "attachments": {
    "ztest.png": {
     "image/png": "[encoded data removed]"
    }
   },
   "cell_type": "markdown",
   "metadata": {},
   "source": [
    "![ztest.png](attachment:ztest.png)"
   ]
  },
  {
   "cell_type": "code",
   "execution_count": 152,
   "metadata": {},
   "outputs": [
    {
     "name": "stdout",
     "output_type": "stream",
     "text": [
      "Z-Score: 8.634634929032464\n",
      "Critical Z-Score: 1.959963984540054\n",
      "Reject the null hypothesis.\n",
      "There is a significant difference between the baby weight for smoker and non smoker mom.\n",
      "P-Value : 0.0\n",
      "Reject the null hypothesis.\n",
      "There is a significant difference between the baby weight for smoker and non smoker mom.\n"
     ]
    }
   ],
   "source": [
    "import scipy.stats as stats\n",
    "from scipy.stats import norm\n",
    "\n",
    "\n",
    "smoke=smoking_and_birthweight[smoking_and_birthweight['Maternal Smoker']==True]['Birth Weight'].values\n",
    "nonsmoke=smoking_and_birthweight[smoking_and_birthweight['Maternal Smoker']==False]['Birth Weight'].values\n",
    "# calculate means\n",
    "x1, x2 = np.mean(smoke), np.mean(nonsmoke)\n",
    "# calculate standard errors\n",
    "std1, std2 = np.std(smoke), np.std(nonsmoke)\n",
    "# size sample\n",
    "n1,n2=np.size(smoke),np.size(nonsmoke)\n",
    "\n",
    "\n",
    "# Null Hypothesis = mu_1-mu_2 = 0 \n",
    "# Hypothesized difference (under the null hypothesis)\n",
    "D = 0\n",
    " \n",
    "# Set the significance level\n",
    "alpha = 0.05\n",
    " \n",
    "# Calculate the test statistic (z-score)\n",
    "z_score = ((x1 - x2) - D) / np.sqrt((std1**2 / n1) + (std2**2 / n2))\n",
    "print('Z-Score:', np.abs(z_score))\n",
    " \n",
    "# Calculate the critical value\n",
    "z_critical = stats.norm.ppf(1 - alpha/2) #(alpha/2 because two sides)\n",
    "print('Critical Z-Score:',z_critical)\n",
    " \n",
    "# Compare the test statistic with the critical value\n",
    "if np.abs(z_score) > z_critical:\n",
    "    print(\"\"\"Reject the null hypothesis.\n",
    "There is a significant difference between the baby weight for smoker and non smoker mom.\"\"\")\n",
    "else:\n",
    "    print(\"\"\"Fail to reject the null hypothesis.\n",
    "There is a significant difference between the baby weight for smoker and non smoker mom.\"\"\")\n",
    " \n",
    "# Approach 2: Using P-value\n",
    "     \n",
    "# P-Value : Probability of getting less than a Z-score\n",
    "p_value = 2 * (1 - stats.norm.cdf(np.abs(z_score)))\n",
    "print('P-Value :',p_value)\n",
    " \n",
    "# Compare the p-value with the significance level\n",
    "if p_value < alpha:\n",
    "    print(\"\"\"Reject the null hypothesis.\n",
    "There is a significant difference between the baby weight for smoker and non smoker mom.\"\"\")\n",
    "else:\n",
    "    print(\"\"\"Fail to reject the null hypothesis.\n",
    "There is a significant difference between the baby weight for smoker and non smoker mom.\"\"\")\n"
   ]
  },
  {
   "cell_type": "markdown",
   "metadata": {},
   "source": [
    "**using sm.stats**"
   ]
  },
  {
   "cell_type": "code",
   "execution_count": 151,
   "metadata": {},
   "outputs": [
    {
     "data": {
      "text/plain": [
       "(8.718755502379533, 2.812762148971705e-18)"
      ]
     },
     "execution_count": 151,
     "metadata": {},
     "output_type": "execute_result"
    }
   ],
   "source": [
    "sm.stats.ztest(nonsmoke, smoke,alternative='two-sided')\n"
   ]
  },
  {
   "cell_type": "markdown",
   "metadata": {},
   "source": [
    "Since the p-value (2.89e-18) is extremely small, we can reject the Null hypothesis that the mean baby weigth of smokier is same as that of non smoker moms. Note, we used alternative=\"two-sided\" in the z-test because here we are checking for inequality."
   ]
  },
  {
   "cell_type": "markdown",
   "metadata": {},
   "source": [
    "### KOLMOGOROV-SMIRNOV TEST"
   ]
  },
  {
   "cell_type": "raw",
   "metadata": {},
   "source": [
    "The Kolmogorov-Smirnov test is a statistical method used to assess the similarity between two probability distributions. It is a non-parametric test, meaning that it makes no assumptions about the underlying distribution of the data.\n",
    "\n",
    "The Kolmogorov-Smirnov test is based on the maximum difference between the cumulative distribution functions (CDFs) of the two distributions being compared. The test statistic, known as the D statistic, measures this difference and is used to determine whether the two distributions are significantly different from each other."
   ]
  },
  {
   "cell_type": "markdown",
   "metadata": {},
   "source": [
    "***Null hypothesis:*** The two samples being compared are drawn from the same underlying probability distribution\n",
    "\n",
    "***Alternative hypothesis:*** They are drawn from different distributions. "
   ]
  },
  {
   "cell_type": "code",
   "execution_count": 104,
   "metadata": {},
   "outputs": [
    {
     "name": "stdout",
     "output_type": "stream",
     "text": [
      "Test statistic: 0.23554092965857673\n",
      "P-value: 4.218576419218256e-14\n",
      "Reject the null hypothesis.\n",
      "There is a significant difference between the baby weight for smoker and non smoker mom.\n"
     ]
    },
    {
     "data": {
      "image/png": "[encoded data removed]",
      "text/plain": [
       "<Figure size 640x480 with 1 Axes>"
      ]
     },
     "metadata": {},
     "output_type": "display_data"
    }
   ],
   "source": [
    "from scipy.stats import ks_2samp\n",
    "\n",
    "\n",
    "# Perform two-sample KS test\n",
    "statistic, p_value = ks_2samp(smoke, nonsmoke)\n",
    "print('Test statistic:', statistic)\n",
    "print('P-value:', p_value)\n",
    " \n",
    " \n",
    "# Compare the p-value with the significance level\n",
    "if p_value < alpha:\n",
    "    print(\"\"\"Reject the null hypothesis.\n",
    "There is a significant difference between the baby weight for smoker and non smoker mom.\"\"\")\n",
    "else:\n",
    "    print(\"\"\"Fail to reject the null hypothesis.\n",
    "There is a significant difference between the baby weight for smoker and non smoker mom.\"\"\")\n",
    "\n",
    "# Visualize the two samples and the test statistic\n",
    "fig, ax = plt.subplots()\n",
    "ax.hist(smoke, alpha=0.7, density=True, histtype=\"step\",cumulative=True, label=\"Smoker mom\")\n",
    "ax.hist(nonsmoke, alpha=0.7, density=True, histtype=\"step\",cumulative=True, label=\"non smoker mom\")\n",
    "ax.legend(loc=2)\n",
    "plt.show()"
   ]
  },
  {
   "cell_type": "markdown",
   "metadata": {},
   "source": [
    "# One Population Mean"
   ]
  },
  {
   "cell_type": "code",
   "execution_count": 156,
   "metadata": {},
   "outputs": [
    {
     "data": {
      "text/plain": [
       "array([ 80.57,  98.96,  85.28,  83.83,  69.94,  89.59,  91.09,  66.25,\n",
       "        91.21,  82.7 ,  73.54,  81.99,  54.01,  82.89,  75.88,  98.32,\n",
       "       107.2 ,  85.53,  79.08,  84.3 ,  89.32,  86.35,  78.98,  92.26,\n",
       "        87.01])"
      ]
     },
     "execution_count": 156,
     "metadata": {},
     "output_type": "execute_result"
    }
   ],
   "source": [
    "Adult_weight=np.array([80.57, 98.96, 85.28, 83.83, 69.94, 89.59, 91.09, 66.25, 91.21, 82.7 , 73.54, 81.99, 54.01, 82.89, 75.88, 98.32, 107.2 , 85.53, 79.08, 84.3 , 89.32, 86.35, 78.98, 92.26, 87.01])\n",
    "Adult_weight"
   ]
  },
  {
   "cell_type": "markdown",
   "metadata": {},
   "source": [
    "**Question**: Is the average weight (in kg) for adults more than 80 kg?"
   ]
  },
  {
   "cell_type": "markdown",
   "metadata": {},
   "source": [
    "**Null Hypothesis (H0)**: μ= 80\n",
    "\n",
    "**Alternative Hypthosis (H1)**: μ> 80"
   ]
  },
  {
   "cell_type": "code",
   "execution_count": 159,
   "metadata": {},
   "outputs": [
    {
     "name": "stdout",
     "output_type": "stream",
     "text": [
      "average adult weight: 83.84\n",
      "std adult weight: 10.72\n"
     ]
    }
   ],
   "source": [
    "print('average adult weight: %0.2f'%np.mean(Adult_weight))\n",
    "print('std adult weight: %0.2f'%np.std(Adult_weight))"
   ]
  },
  {
   "cell_type": "code",
   "execution_count": 160,
   "metadata": {},
   "outputs": [
    {
     "data": {
      "text/plain": [
       "(1.756973189172546, 0.039461189601168366)"
      ]
     },
     "execution_count": 160,
     "metadata": {},
     "output_type": "execute_result"
    }
   ],
   "source": [
    "sm.stats.ztest(Adult_weight, value = 80, alternative = \"larger\")"
   ]
  },
  {
   "cell_type": "markdown",
   "metadata": {},
   "source": [
    "\n",
    "**Conclusion of the hypothesis test**\n",
    "\n",
    "Since the p-value (0.0394) is lower than the standard confidence level 0.05, we can reject the Null hypothesis that the mean weight for adults is equal to 80 kg. There is strong evidence in support for the alternatine hypothesis that the mean is higher than 80 kg. Note, we used alternative=\"larger\" in the z-test."
   ]
  },
  {
   "cell_type": "code",
   "execution_count": 173,
   "metadata": {},
   "outputs": [],
   "source": [
    "mu_bootstrap=[]\n",
    "for i in range (5000):\n",
    "    bootstrap = np.random.choice(Adult_size, size=len(Adult_size), replace=True)\n",
    "    mu_bootstrap.append(np.mean(bootstrap))\n"
   ]
  },
  {
   "cell_type": "code",
   "execution_count": 188,
   "metadata": {},
   "outputs": [
    {
     "data": {
      "text/plain": [
       "Text(0.5, 1.0, 'Prediction Under the Null Hypothesis, mu=80')"
      ]
     },
     "execution_count": 188,
     "metadata": {},
     "output_type": "execute_result"
    },
    {
     "data": {
      "image/png": "[encoded data removed]",
      "text/plain": [
       "<Figure size 640x480 with 1 Axes>"
      ]
     },
     "metadata": {},
     "output_type": "display_data"
    }
   ],
   "source": [
    "df = pd.DataFrame()\n",
    "df['mu_bootstrap'] = np.array(mu_bootstrap)\n",
    "df.hist()\n",
    "plt.plot(80, 0, 'ro')                 # Additional point\n",
    "#print('Observed Difference:', observed_diff)\n",
    "plt.title('Prediction Under the Null Hypothesis, mu=80')"
   ]
  },
  {
   "cell_type": "code",
   "execution_count": 186,
   "metadata": {},
   "outputs": [
    {
     "name": "stdout",
     "output_type": "stream",
     "text": [
      "Reject the Null hypothesis that the mean weight for adults is equal to 80 kg.\n"
     ]
    }
   ],
   "source": [
    "# Empirical P-value\n",
    "empirical_P = np.count_nonzero(np.array(mu_bootstrap) <= 80) / len(mu_bootstrap)\n",
    "empirical_P\n",
    "\n",
    "if empirical_P<0.05:\n",
    "    print('Reject the Null hypothesis that the mean weight for adults is equal to 80 kg.')"
   ]
  },
  {
   "cell_type": "markdown",
   "metadata": {},
   "source": [
    "# Random examples"
   ]
  },
  {
   "cell_type": "raw",
   "metadata": {},
   "source": [
    "Treating Chronic Back Pain: A Randomized Controlled Trial\n",
    "\n",
    "Low-back pain in adults can be very persistent and hard to treat. Common methods run the gamut from corticosteroids to acupuncture. A randomized controlled trial (RCT) examined the effect of using Botulinum Toxin A as a treatment. Botulinum toxin is a neurotoxic protein that causes the disease botulism; Wikipedia says that botulinum “is the most acutely lethal toxin known.” There are seven types of botulinum toxin. Botulinum Toxin A is one of the types that can cause disease in humans, but it is also used in medicine to treat various diseases involving the muscles. The RCT analyzed by Foster, Clapp, and Jabbari in 2001 examined it as a treatment for low back pain."
   ]
  },
  {
   "cell_type": "code",
   "execution_count": 107,
   "metadata": {},
   "outputs": [
    {
     "data": {
      "text/html": [
       "<div>\n",
       "<style scoped>\n",
       "    .dataframe tbody tr th:only-of-type {\n",
       "        vertical-align: middle;\n",
       "    }\n",
       "\n",
       "    .dataframe tbody tr th {\n",
       "        vertical-align: top;\n",
       "    }\n",
       "\n",
       "    .dataframe thead th {\n",
       "        text-align: right;\n",
       "    }\n",
       "</style>\n",
       "<table border=\"1\" class=\"dataframe\">\n",
       "  <thead>\n",
       "    <tr style=\"text-align: right;\">\n",
       "      <th></th>\n",
       "      <th>Group</th>\n",
       "      <th>Result</th>\n",
       "    </tr>\n",
       "  </thead>\n",
       "  <tbody>\n",
       "    <tr>\n",
       "      <th>0</th>\n",
       "      <td>Control</td>\n",
       "      <td>1.0</td>\n",
       "    </tr>\n",
       "    <tr>\n",
       "      <th>1</th>\n",
       "      <td>Control</td>\n",
       "      <td>1.0</td>\n",
       "    </tr>\n",
       "    <tr>\n",
       "      <th>2</th>\n",
       "      <td>Control</td>\n",
       "      <td>0.0</td>\n",
       "    </tr>\n",
       "    <tr>\n",
       "      <th>3</th>\n",
       "      <td>Control</td>\n",
       "      <td>0.0</td>\n",
       "    </tr>\n",
       "    <tr>\n",
       "      <th>4</th>\n",
       "      <td>Control</td>\n",
       "      <td>0.0</td>\n",
       "    </tr>\n",
       "    <tr>\n",
       "      <th>5</th>\n",
       "      <td>Control</td>\n",
       "      <td>0.0</td>\n",
       "    </tr>\n",
       "    <tr>\n",
       "      <th>6</th>\n",
       "      <td>Control</td>\n",
       "      <td>0.0</td>\n",
       "    </tr>\n",
       "    <tr>\n",
       "      <th>7</th>\n",
       "      <td>Control</td>\n",
       "      <td>0.0</td>\n",
       "    </tr>\n",
       "    <tr>\n",
       "      <th>8</th>\n",
       "      <td>Control</td>\n",
       "      <td>0.0</td>\n",
       "    </tr>\n",
       "    <tr>\n",
       "      <th>9</th>\n",
       "      <td>Control</td>\n",
       "      <td>0.0</td>\n",
       "    </tr>\n",
       "    <tr>\n",
       "      <th>10</th>\n",
       "      <td>Control</td>\n",
       "      <td>0.0</td>\n",
       "    </tr>\n",
       "    <tr>\n",
       "      <th>11</th>\n",
       "      <td>Control</td>\n",
       "      <td>0.0</td>\n",
       "    </tr>\n",
       "    <tr>\n",
       "      <th>12</th>\n",
       "      <td>Control</td>\n",
       "      <td>0.0</td>\n",
       "    </tr>\n",
       "    <tr>\n",
       "      <th>13</th>\n",
       "      <td>Control</td>\n",
       "      <td>0.0</td>\n",
       "    </tr>\n",
       "    <tr>\n",
       "      <th>14</th>\n",
       "      <td>Control</td>\n",
       "      <td>0.0</td>\n",
       "    </tr>\n",
       "    <tr>\n",
       "      <th>15</th>\n",
       "      <td>Control</td>\n",
       "      <td>0.0</td>\n",
       "    </tr>\n",
       "    <tr>\n",
       "      <th>16</th>\n",
       "      <td>Treatment</td>\n",
       "      <td>1.0</td>\n",
       "    </tr>\n",
       "    <tr>\n",
       "      <th>17</th>\n",
       "      <td>Treatment</td>\n",
       "      <td>1.0</td>\n",
       "    </tr>\n",
       "    <tr>\n",
       "      <th>18</th>\n",
       "      <td>Treatment</td>\n",
       "      <td>1.0</td>\n",
       "    </tr>\n",
       "    <tr>\n",
       "      <th>19</th>\n",
       "      <td>Treatment</td>\n",
       "      <td>1.0</td>\n",
       "    </tr>\n",
       "    <tr>\n",
       "      <th>20</th>\n",
       "      <td>Treatment</td>\n",
       "      <td>1.0</td>\n",
       "    </tr>\n",
       "    <tr>\n",
       "      <th>21</th>\n",
       "      <td>Treatment</td>\n",
       "      <td>1.0</td>\n",
       "    </tr>\n",
       "    <tr>\n",
       "      <th>22</th>\n",
       "      <td>Treatment</td>\n",
       "      <td>1.0</td>\n",
       "    </tr>\n",
       "    <tr>\n",
       "      <th>23</th>\n",
       "      <td>Treatment</td>\n",
       "      <td>1.0</td>\n",
       "    </tr>\n",
       "    <tr>\n",
       "      <th>24</th>\n",
       "      <td>Treatment</td>\n",
       "      <td>1.0</td>\n",
       "    </tr>\n",
       "    <tr>\n",
       "      <th>25</th>\n",
       "      <td>Treatment</td>\n",
       "      <td>0.0</td>\n",
       "    </tr>\n",
       "    <tr>\n",
       "      <th>26</th>\n",
       "      <td>Treatment</td>\n",
       "      <td>0.0</td>\n",
       "    </tr>\n",
       "    <tr>\n",
       "      <th>27</th>\n",
       "      <td>Treatment</td>\n",
       "      <td>0.0</td>\n",
       "    </tr>\n",
       "    <tr>\n",
       "      <th>28</th>\n",
       "      <td>Treatment</td>\n",
       "      <td>0.0</td>\n",
       "    </tr>\n",
       "    <tr>\n",
       "      <th>29</th>\n",
       "      <td>Treatment</td>\n",
       "      <td>0.0</td>\n",
       "    </tr>\n",
       "    <tr>\n",
       "      <th>30</th>\n",
       "      <td>Treatment</td>\n",
       "      <td>0.0</td>\n",
       "    </tr>\n",
       "  </tbody>\n",
       "</table>\n",
       "</div>"
      ],
      "text/plain": [
       "        Group  Result\n",
       "0     Control     1.0\n",
       "1     Control     1.0\n",
       "2     Control     0.0\n",
       "3     Control     0.0\n",
       "4     Control     0.0\n",
       "5     Control     0.0\n",
       "6     Control     0.0\n",
       "7     Control     0.0\n",
       "8     Control     0.0\n",
       "9     Control     0.0\n",
       "10    Control     0.0\n",
       "11    Control     0.0\n",
       "12    Control     0.0\n",
       "13    Control     0.0\n",
       "14    Control     0.0\n",
       "15    Control     0.0\n",
       "16  Treatment     1.0\n",
       "17  Treatment     1.0\n",
       "18  Treatment     1.0\n",
       "19  Treatment     1.0\n",
       "20  Treatment     1.0\n",
       "21  Treatment     1.0\n",
       "22  Treatment     1.0\n",
       "23  Treatment     1.0\n",
       "24  Treatment     1.0\n",
       "25  Treatment     0.0\n",
       "26  Treatment     0.0\n",
       "27  Treatment     0.0\n",
       "28  Treatment     0.0\n",
       "29  Treatment     0.0\n",
       "30  Treatment     0.0"
      ]
     },
     "execution_count": 107,
     "metadata": {},
     "output_type": "execute_result"
    }
   ],
   "source": [
    "bta = pd.read_csv('data/bta.csv')\n",
    "bta"
   ]
  },
  {
   "cell_type": "raw",
   "metadata": {},
   "source": [
    "Thirty one patients with low-back pain were randomized into treatment and control groups, with 15 in the treatment group and 16 in control. The control group was given normal saline, and the trials were run double-blind so that neither doctors nor patients knew which group they were in."
   ]
  },
  {
   "cell_type": "code",
   "execution_count": 108,
   "metadata": {},
   "outputs": [
    {
     "data": {
      "text/html": [
       "<div>\n",
       "<style scoped>\n",
       "    .dataframe tbody tr th:only-of-type {\n",
       "        vertical-align: middle;\n",
       "    }\n",
       "\n",
       "    .dataframe tbody tr th {\n",
       "        vertical-align: top;\n",
       "    }\n",
       "\n",
       "    .dataframe thead th {\n",
       "        text-align: right;\n",
       "    }\n",
       "</style>\n",
       "<table border=\"1\" class=\"dataframe\">\n",
       "  <thead>\n",
       "    <tr style=\"text-align: right;\">\n",
       "      <th></th>\n",
       "      <th>Group</th>\n",
       "      <th>Result average</th>\n",
       "    </tr>\n",
       "  </thead>\n",
       "  <tbody>\n",
       "    <tr>\n",
       "      <th>0</th>\n",
       "      <td>Control</td>\n",
       "      <td>0.125</td>\n",
       "    </tr>\n",
       "    <tr>\n",
       "      <th>1</th>\n",
       "      <td>Treatment</td>\n",
       "      <td>0.600</td>\n",
       "    </tr>\n",
       "  </tbody>\n",
       "</table>\n",
       "</div>"
      ],
      "text/plain": [
       "       Group  Result average\n",
       "0    Control           0.125\n",
       "1  Treatment           0.600"
      ]
     },
     "execution_count": 108,
     "metadata": {},
     "output_type": "execute_result"
    }
   ],
   "source": [
    "bta.groupby('Group')['Result'].mean().reset_index(name='Result average')"
   ]
  },
  {
   "cell_type": "markdown",
   "metadata": {},
   "source": [
    "In the treatment group, 60% of the patients had pain relief, compared to only 12.5% in the control group. None of the patients suffered any side effects.\n",
    "\n",
    "So the indications are that botulinum toxin A did better than the saline. But the conclusion isn’t yet a slam-dunk. The patients were assigned at random into the two groups, so perhaps the difference could just be due to chance?"
   ]
  },
  {
   "cell_type": "markdown",
   "metadata": {},
   "source": [
    "### Testing the Hypothesis"
   ]
  },
  {
   "cell_type": "markdown",
   "metadata": {},
   "source": [
    "**Null Hypothesis:**  Botulinum toxin A does nothing different from saline; the difference in the two samples is just due to chance.\n",
    "\n",
    "**Alternative Hypothesis:**  The treatment does something different from the control."
   ]
  },
  {
   "cell_type": "code",
   "execution_count": 109,
   "metadata": {},
   "outputs": [
    {
     "data": {
      "text/plain": [
       "0.475"
      ]
     },
     "execution_count": 109,
     "metadata": {},
     "output_type": "execute_result"
    }
   ],
   "source": [
    "observed_diff = difference_of_means(bta, 'Result', 'Group')\n",
    "observed_diff"
   ]
  },
  {
   "cell_type": "code",
   "execution_count": 110,
   "metadata": {},
   "outputs": [
    {
     "data": {
      "text/plain": [
       "0.08750000000000002"
      ]
     },
     "execution_count": 110,
     "metadata": {},
     "output_type": "execute_result"
    }
   ],
   "source": [
    "one_simulated_difference(bta, 'Result', 'Group')"
   ]
  },
  {
   "cell_type": "code",
   "execution_count": 111,
   "metadata": {},
   "outputs": [],
   "source": [
    "simulated_diffs = np.array([])\n",
    "\n",
    "for i in np.arange(10000):\n",
    "    sim_diff = one_simulated_difference(bta, 'Result', 'Group')\n",
    "    simulated_diffs = np.append(simulated_diffs, sim_diff)"
   ]
  },
  {
   "cell_type": "code",
   "execution_count": 112,
   "metadata": {},
   "outputs": [
    {
     "name": "stdout",
     "output_type": "stream",
     "text": [
      "Observed Difference: 0.475\n"
     ]
    },
    {
     "data": {
      "text/plain": [
       "Text(0.5, 1.0, 'Prediction Under the Null Hypothesis')"
      ]
     },
     "execution_count": 112,
     "metadata": {},
     "output_type": "execute_result"
    },
    {
     "data": {
      "image/png": "[encoded data removed]",
      "text/plain": [
       "<Figure size 640x480 with 1 Axes>"
      ]
     },
     "metadata": {},
     "output_type": "display_data"
    }
   ],
   "source": [
    "df = pd.DataFrame()\n",
    "df['Difference Between Group Means'] = simulated_diffs\n",
    "df.hist()\n",
    "plt.plot(observed_diff, 0, 'ro')                 # Additional point\n",
    "print('Observed Difference:', observed_diff)\n",
    "plt.title('Prediction Under the Null Hypothesis')"
   ]
  },
  {
   "cell_type": "code",
   "execution_count": 117,
   "metadata": {},
   "outputs": [
    {
     "data": {
      "text/plain": [
       "0.0069"
      ]
     },
     "execution_count": 117,
     "metadata": {},
     "output_type": "execute_result"
    }
   ],
   "source": [
    "# p-value\n",
    "pval=sum(simulated_diffs >= observed_diff)/len(simulated_diffs)\n",
    "pval"
   ]
  },
  {
   "cell_type": "code",
   "execution_count": 118,
   "metadata": {},
   "outputs": [
    {
     "name": "stdout",
     "output_type": "stream",
     "text": [
      "This is a small P-value. The observed statistic is in the tail of the empirical histogram of the test statistic generated under the null hypothesis.\n",
      "The result is statistically significant. The test favors the alternative hypothesis over the null. The evidence supports the hypothesis that the treatment is doing something.\n"
     ]
    }
   ],
   "source": [
    "if pval<0.05:\n",
    "    print('This is a small P-value. The observed statistic is in the tail of the empirical histogram of the test statistic generated under the null hypothesis.')\n",
    "\n",
    "    print('The result is statistically significant. The test favors the alternative hypothesis over the null. The evidence supports the hypothesis that the treatment is doing something.')"
   ]
  },
  {
   "cell_type": "code",
   "execution_count": 119,
   "metadata": {},
   "outputs": [
    {
     "name": "stdout",
     "output_type": "stream",
     "text": [
      "-0.475\n",
      "0.008399160083991601\n"
     ]
    }
   ],
   "source": [
    "data1=bta[bta['Group']=='Control'].Result\n",
    "data2=bta[bta['Group']=='Treatment'].Result\n",
    "def statistic(x, y, axis):\n",
    "    return np.mean(x, axis=axis) - np.mean(y, axis=axis)\n",
    "from scipy.stats import permutation_test\n",
    "# because our statistic is vectorized, we pass `vectorized=True`\n",
    "# `n_resamples=np.inf` indicates that an exact test is to be performed\n",
    "res = permutation_test((data1, data2), statistic, vectorized=True,n_resamples=10000, alternative='less')\n",
    "print(res.statistic)\n",
    "print(res.pvalue)\n"
   ]
  },
  {
   "cell_type": "markdown",
   "metadata": {},
   "source": [
    "### Student’s t-Test (N<30 and t distrubution)"
   ]
  },
  {
   "cell_type": "raw",
   "metadata": {},
   "source": [
    "*The Student’s t-Test is a statistical hypothesis test for testing whether two samples are expected to have been drawn from the same population.\n"
   ]
  },
  {
   "cell_type": "code",
   "execution_count": 122,
   "metadata": {},
   "outputs": [
    {
     "name": "stdout",
     "output_type": "stream",
     "text": [
      "t=-3.143, df=29, cv=1.699, p=0.004, alpha=0.050\n",
      "t_direct=-3.077, p_direct=0.005\n",
      "Reject the null hypothesis that the means are equal, treatment works\n",
      "Reject the null hypothesis that the means are equal, treatment works.\n"
     ]
    }
   ],
   "source": [
    "# t-test for independent samples\n",
    "from scipy.stats import t\n",
    "\n",
    "data1=bta[bta['Group']=='Control'].Result\n",
    "data2=bta[bta['Group']=='Treatment'].Result\n",
    "\n",
    "\n",
    "# calculate means\n",
    "x1, x2 = np.mean(data1), np.mean(data2)\n",
    "# calculate standard errors\n",
    "std1, std2 = np.std(data1), np.std(data2)\n",
    "# size sample\n",
    "n1,n2=np.size(data1),np.size(data2)\n",
    "se1, se2 = std1/np.sqrt(n1), std2/np.sqrt(n2)\n",
    "# standard error on the difference between the samples\n",
    "sed = np.sqrt(se1**2.0 + se2**2.0)\n",
    "# calculate the t statistic\n",
    "t_stat = (x1 - x2) / sed\n",
    "# degrees of freedom\n",
    "df = len(data1) + len(data2) - 2\n",
    "# calculate the critical value\n",
    "cv = t.ppf(1.0 - alpha, df)\n",
    "# calculate the p-value\n",
    "p = (1.0 - t.cdf(abs(t_stat), df)) * 2.0\n",
    " \n",
    "\n",
    "#using stat\n",
    "t_direct,p_direct=stats.ttest_ind(data1, data2)\n",
    "    \n",
    "    \n",
    "print('t=%.3f, df=%d, cv=%.3f, p=%.3f, alpha=%.3f' % (t_stat, df, cv, p, alpha))\n",
    "print('t_direct=%.3f, p_direct=%.3f' % (t_direct,p_direct))\n",
    "\n",
    "# interpret via critical value\n",
    "if abs(t_stat) <= cv:\n",
    " print('Accept null hypothesis that the means are equal, treatment does not work.')\n",
    "else:\n",
    " print('Reject the null hypothesis that the means are equal, treatment works')\n",
    "# interpret via p-value\n",
    "if p > alpha:\n",
    " print('Accept null hypothesis that the means are equal, treatment does not work.')\n",
    "else:\n",
    " print('Reject the null hypothesis that the means are equal, treatment works.')\n"
   ]
  },
  {
   "cell_type": "markdown",
   "metadata": {},
   "source": [
    "## sleep survey"
   ]
  },
  {
   "cell_type": "code",
   "execution_count": 123,
   "metadata": {
    "scrolled": true
   },
   "outputs": [
    {
     "data": {
      "text/html": [
       "<div>\n",
       "<style scoped>\n",
       "    .dataframe tbody tr th:only-of-type {\n",
       "        vertical-align: middle;\n",
       "    }\n",
       "\n",
       "    .dataframe tbody tr th {\n",
       "        vertical-align: top;\n",
       "    }\n",
       "\n",
       "    .dataframe thead th {\n",
       "        text-align: right;\n",
       "    }\n",
       "</style>\n",
       "<table border=\"1\" class=\"dataframe\">\n",
       "  <thead>\n",
       "    <tr style=\"text-align: right;\">\n",
       "      <th></th>\n",
       "      <th>Year</th>\n",
       "      <th>Extraversion</th>\n",
       "      <th>Number of textees</th>\n",
       "      <th>Hours of sleep</th>\n",
       "      <th>Handedness</th>\n",
       "      <th>Sleep position</th>\n",
       "    </tr>\n",
       "  </thead>\n",
       "  <tbody>\n",
       "    <tr>\n",
       "      <th>0</th>\n",
       "      <td>Second</td>\n",
       "      <td>6</td>\n",
       "      <td>10</td>\n",
       "      <td>7.0</td>\n",
       "      <td>Right-handed</td>\n",
       "      <td>On your back</td>\n",
       "    </tr>\n",
       "    <tr>\n",
       "      <th>1</th>\n",
       "      <td>Fourth or above</td>\n",
       "      <td>9</td>\n",
       "      <td>25</td>\n",
       "      <td>7.0</td>\n",
       "      <td>Right-handed</td>\n",
       "      <td>On your left side</td>\n",
       "    </tr>\n",
       "    <tr>\n",
       "      <th>2</th>\n",
       "      <td>First</td>\n",
       "      <td>7</td>\n",
       "      <td>5</td>\n",
       "      <td>8.0</td>\n",
       "      <td>Right-handed</td>\n",
       "      <td>On your stomach</td>\n",
       "    </tr>\n",
       "    <tr>\n",
       "      <th>3</th>\n",
       "      <td>Second</td>\n",
       "      <td>5</td>\n",
       "      <td>6</td>\n",
       "      <td>8.0</td>\n",
       "      <td>Right-handed</td>\n",
       "      <td>On your right side</td>\n",
       "    </tr>\n",
       "    <tr>\n",
       "      <th>4</th>\n",
       "      <td>Second</td>\n",
       "      <td>5</td>\n",
       "      <td>10</td>\n",
       "      <td>7.0</td>\n",
       "      <td>Right-handed</td>\n",
       "      <td>On your right side</td>\n",
       "    </tr>\n",
       "    <tr>\n",
       "      <th>...</th>\n",
       "      <td>...</td>\n",
       "      <td>...</td>\n",
       "      <td>...</td>\n",
       "      <td>...</td>\n",
       "      <td>...</td>\n",
       "      <td>...</td>\n",
       "    </tr>\n",
       "    <tr>\n",
       "      <th>1317</th>\n",
       "      <td>Fourth or above</td>\n",
       "      <td>9</td>\n",
       "      <td>10</td>\n",
       "      <td>8.0</td>\n",
       "      <td>Right-handed</td>\n",
       "      <td>On your stomach</td>\n",
       "    </tr>\n",
       "    <tr>\n",
       "      <th>1318</th>\n",
       "      <td>Fourth or above</td>\n",
       "      <td>9</td>\n",
       "      <td>3</td>\n",
       "      <td>7.0</td>\n",
       "      <td>Right-handed</td>\n",
       "      <td>On your right side</td>\n",
       "    </tr>\n",
       "    <tr>\n",
       "      <th>1319</th>\n",
       "      <td>Second</td>\n",
       "      <td>4</td>\n",
       "      <td>6</td>\n",
       "      <td>7.0</td>\n",
       "      <td>Left-handed</td>\n",
       "      <td>On your left side</td>\n",
       "    </tr>\n",
       "    <tr>\n",
       "      <th>1320</th>\n",
       "      <td>Second</td>\n",
       "      <td>6</td>\n",
       "      <td>3</td>\n",
       "      <td>8.0</td>\n",
       "      <td>Right-handed</td>\n",
       "      <td>On your left side</td>\n",
       "    </tr>\n",
       "    <tr>\n",
       "      <th>1321</th>\n",
       "      <td>Second</td>\n",
       "      <td>7</td>\n",
       "      <td>30</td>\n",
       "      <td>10.0</td>\n",
       "      <td>Right-handed</td>\n",
       "      <td>On your right side</td>\n",
       "    </tr>\n",
       "  </tbody>\n",
       "</table>\n",
       "<p>1322 rows × 6 columns</p>\n",
       "</div>"
      ],
      "text/plain": [
       "                 Year  Extraversion  Number of textees  Hours of sleep  \\\n",
       "0              Second             6                 10             7.0   \n",
       "1     Fourth or above             9                 25             7.0   \n",
       "2               First             7                  5             8.0   \n",
       "3              Second             5                  6             8.0   \n",
       "4              Second             5                 10             7.0   \n",
       "...               ...           ...                ...             ...   \n",
       "1317  Fourth or above             9                 10             8.0   \n",
       "1318  Fourth or above             9                  3             7.0   \n",
       "1319           Second             4                  6             7.0   \n",
       "1320           Second             6                  3             8.0   \n",
       "1321           Second             7                 30            10.0   \n",
       "\n",
       "        Handedness      Sleep position  \n",
       "0     Right-handed        On your back  \n",
       "1     Right-handed   On your left side  \n",
       "2     Right-handed     On your stomach  \n",
       "3     Right-handed  On your right side  \n",
       "4     Right-handed  On your right side  \n",
       "...            ...                 ...  \n",
       "1317  Right-handed     On your stomach  \n",
       "1318  Right-handed  On your right side  \n",
       "1319   Left-handed   On your left side  \n",
       "1320  Right-handed   On your left side  \n",
       "1321  Right-handed  On your right side  \n",
       "\n",
       "[1322 rows x 6 columns]"
      ]
     },
     "execution_count": 123,
     "metadata": {},
     "output_type": "execute_result"
    }
   ],
   "source": [
    "survey = pd.read_csv('data/welcome_survey_v4.csv')\n",
    "survey"
   ]
  },
  {
   "cell_type": "code",
   "execution_count": 124,
   "metadata": {},
   "outputs": [
    {
     "data": {
      "text/html": [
       "<div>\n",
       "<style scoped>\n",
       "    .dataframe tbody tr th:only-of-type {\n",
       "        vertical-align: middle;\n",
       "    }\n",
       "\n",
       "    .dataframe tbody tr th {\n",
       "        vertical-align: top;\n",
       "    }\n",
       "\n",
       "    .dataframe thead th {\n",
       "        text-align: right;\n",
       "    }\n",
       "</style>\n",
       "<table border=\"1\" class=\"dataframe\">\n",
       "  <thead>\n",
       "    <tr style=\"text-align: right;\">\n",
       "      <th></th>\n",
       "      <th>Year</th>\n",
       "      <th>Extraversion</th>\n",
       "      <th>Number of textees</th>\n",
       "      <th>Hours of sleep</th>\n",
       "      <th>Handedness</th>\n",
       "      <th>Sleep position</th>\n",
       "      <th>Position</th>\n",
       "    </tr>\n",
       "  </thead>\n",
       "  <tbody>\n",
       "    <tr>\n",
       "      <th>0</th>\n",
       "      <td>Second</td>\n",
       "      <td>6</td>\n",
       "      <td>10</td>\n",
       "      <td>7.0</td>\n",
       "      <td>Right-handed</td>\n",
       "      <td>On your back</td>\n",
       "      <td>back or stomach</td>\n",
       "    </tr>\n",
       "    <tr>\n",
       "      <th>1</th>\n",
       "      <td>Fourth or above</td>\n",
       "      <td>9</td>\n",
       "      <td>25</td>\n",
       "      <td>7.0</td>\n",
       "      <td>Right-handed</td>\n",
       "      <td>On your left side</td>\n",
       "      <td>side</td>\n",
       "    </tr>\n",
       "    <tr>\n",
       "      <th>2</th>\n",
       "      <td>First</td>\n",
       "      <td>7</td>\n",
       "      <td>5</td>\n",
       "      <td>8.0</td>\n",
       "      <td>Right-handed</td>\n",
       "      <td>On your stomach</td>\n",
       "      <td>back or stomach</td>\n",
       "    </tr>\n",
       "    <tr>\n",
       "      <th>3</th>\n",
       "      <td>Second</td>\n",
       "      <td>5</td>\n",
       "      <td>6</td>\n",
       "      <td>8.0</td>\n",
       "      <td>Right-handed</td>\n",
       "      <td>On your right side</td>\n",
       "      <td>side</td>\n",
       "    </tr>\n",
       "    <tr>\n",
       "      <th>4</th>\n",
       "      <td>Second</td>\n",
       "      <td>5</td>\n",
       "      <td>10</td>\n",
       "      <td>7.0</td>\n",
       "      <td>Right-handed</td>\n",
       "      <td>On your right side</td>\n",
       "      <td>side</td>\n",
       "    </tr>\n",
       "    <tr>\n",
       "      <th>...</th>\n",
       "      <td>...</td>\n",
       "      <td>...</td>\n",
       "      <td>...</td>\n",
       "      <td>...</td>\n",
       "      <td>...</td>\n",
       "      <td>...</td>\n",
       "      <td>...</td>\n",
       "    </tr>\n",
       "    <tr>\n",
       "      <th>1317</th>\n",
       "      <td>Fourth or above</td>\n",
       "      <td>9</td>\n",
       "      <td>10</td>\n",
       "      <td>8.0</td>\n",
       "      <td>Right-handed</td>\n",
       "      <td>On your stomach</td>\n",
       "      <td>back or stomach</td>\n",
       "    </tr>\n",
       "    <tr>\n",
       "      <th>1318</th>\n",
       "      <td>Fourth or above</td>\n",
       "      <td>9</td>\n",
       "      <td>3</td>\n",
       "      <td>7.0</td>\n",
       "      <td>Right-handed</td>\n",
       "      <td>On your right side</td>\n",
       "      <td>side</td>\n",
       "    </tr>\n",
       "    <tr>\n",
       "      <th>1319</th>\n",
       "      <td>Second</td>\n",
       "      <td>4</td>\n",
       "      <td>6</td>\n",
       "      <td>7.0</td>\n",
       "      <td>Left-handed</td>\n",
       "      <td>On your left side</td>\n",
       "      <td>side</td>\n",
       "    </tr>\n",
       "    <tr>\n",
       "      <th>1320</th>\n",
       "      <td>Second</td>\n",
       "      <td>6</td>\n",
       "      <td>3</td>\n",
       "      <td>8.0</td>\n",
       "      <td>Right-handed</td>\n",
       "      <td>On your left side</td>\n",
       "      <td>side</td>\n",
       "    </tr>\n",
       "    <tr>\n",
       "      <th>1321</th>\n",
       "      <td>Second</td>\n",
       "      <td>7</td>\n",
       "      <td>30</td>\n",
       "      <td>10.0</td>\n",
       "      <td>Right-handed</td>\n",
       "      <td>On your right side</td>\n",
       "      <td>side</td>\n",
       "    </tr>\n",
       "  </tbody>\n",
       "</table>\n",
       "<p>1322 rows × 7 columns</p>\n",
       "</div>"
      ],
      "text/plain": [
       "                 Year  Extraversion  Number of textees  Hours of sleep  \\\n",
       "0              Second             6                 10             7.0   \n",
       "1     Fourth or above             9                 25             7.0   \n",
       "2               First             7                  5             8.0   \n",
       "3              Second             5                  6             8.0   \n",
       "4              Second             5                 10             7.0   \n",
       "...               ...           ...                ...             ...   \n",
       "1317  Fourth or above             9                 10             8.0   \n",
       "1318  Fourth or above             9                  3             7.0   \n",
       "1319           Second             4                  6             7.0   \n",
       "1320           Second             6                  3             8.0   \n",
       "1321           Second             7                 30            10.0   \n",
       "\n",
       "        Handedness      Sleep position         Position  \n",
       "0     Right-handed        On your back  back or stomach  \n",
       "1     Right-handed   On your left side             side  \n",
       "2     Right-handed     On your stomach  back or stomach  \n",
       "3     Right-handed  On your right side             side  \n",
       "4     Right-handed  On your right side             side  \n",
       "...            ...                 ...              ...  \n",
       "1317  Right-handed     On your stomach  back or stomach  \n",
       "1318  Right-handed  On your right side             side  \n",
       "1319   Left-handed   On your left side             side  \n",
       "1320  Right-handed   On your left side             side  \n",
       "1321  Right-handed  On your right side             side  \n",
       "\n",
       "[1322 rows x 7 columns]"
      ]
     },
     "execution_count": 124,
     "metadata": {},
     "output_type": "execute_result"
    }
   ],
   "source": [
    "def simplify(position):\n",
    "    if position == 'On your left side' or position == 'On your right side':\n",
    "        return 'side'\n",
    "    else:\n",
    "        return 'back or stomach'\n",
    "\n",
    "survey['Position']=survey['Sleep position'].apply(simplify) \n",
    "survey\n",
    "\n"
   ]
  },
  {
   "cell_type": "code",
   "execution_count": 125,
   "metadata": {},
   "outputs": [
    {
     "data": {
      "text/plain": [
       "Position\n",
       "back or stomach    7.127918\n",
       "side               7.032797\n",
       "Name: Hours of sleep, dtype: float64"
      ]
     },
     "execution_count": 125,
     "metadata": {},
     "output_type": "execute_result"
    }
   ],
   "source": [
    "means_table = survey.groupby('Position')['Hours of sleep'].mean()\n",
    "means_table"
   ]
  },
  {
   "cell_type": "markdown",
   "metadata": {},
   "source": [
    "**Null Hypothesis:**  In average people sleeping on the side have the same hours of sleep\n",
    "\n",
    "**Alternative Hypothesis:**  Difference between side and back/stomach"
   ]
  },
  {
   "cell_type": "code",
   "execution_count": 126,
   "metadata": {},
   "outputs": [
    {
     "data": {
      "text/plain": [
       "-0.09512125823477291"
      ]
     },
     "execution_count": 126,
     "metadata": {},
     "output_type": "execute_result"
    }
   ],
   "source": [
    "observed_difference = means_table.iloc[1] - means_table.iloc[0]\n",
    "observed_difference"
   ]
  },
  {
   "cell_type": "code",
   "execution_count": 127,
   "metadata": {},
   "outputs": [
    {
     "data": {
      "text/plain": [
       "0.03618364025118481"
      ]
     },
     "execution_count": 127,
     "metadata": {},
     "output_type": "execute_result"
    }
   ],
   "source": [
    "one_simulated_difference(survey, 'Hours of sleep', 'Position')"
   ]
  },
  {
   "cell_type": "code",
   "execution_count": 128,
   "metadata": {},
   "outputs": [],
   "source": [
    "simulated_diffs = np.array([])\n",
    "\n",
    "for i in np.arange(5000):\n",
    "    sim_diff = one_simulated_difference(survey, 'Hours of sleep', 'Position')\n",
    "    simulated_diffs = np.append(simulated_diffs, sim_diff)"
   ]
  },
  {
   "cell_type": "code",
   "execution_count": 129,
   "metadata": {},
   "outputs": [
    {
     "name": "stdout",
     "output_type": "stream",
     "text": [
      "Observed Difference: -0.09512125823477291\n"
     ]
    },
    {
     "data": {
      "text/plain": [
       "Text(0.5, 1.0, 'Prediction Under the Null Hypothesis')"
      ]
     },
     "execution_count": 129,
     "metadata": {},
     "output_type": "execute_result"
    },
    {
     "data": {
      "image/png": "[encoded data removed]",
      "text/plain": [
       "<Figure size 640x480 with 1 Axes>"
      ]
     },
     "metadata": {},
     "output_type": "display_data"
    }
   ],
   "source": [
    "df = pd.DataFrame()\n",
    "df['Difference Between Group Means'] = simulated_diffs\n",
    "df.hist()\n",
    "print('Observed Difference:', observed_difference)\n",
    "plt.plot(observed_difference, 0, 'ro')                 # Additional point\n",
    "plt.title('Prediction Under the Null Hypothesis')"
   ]
  },
  {
   "cell_type": "code",
   "execution_count": 130,
   "metadata": {},
   "outputs": [
    {
     "data": {
      "text/plain": [
       "0.0432"
      ]
     },
     "execution_count": 130,
     "metadata": {},
     "output_type": "execute_result"
    }
   ],
   "source": [
    "# p-value\n",
    "sum(simulated_diffs <= observed_difference)/len(simulated_diffs)"
   ]
  },
  {
   "cell_type": "raw",
   "metadata": {},
   "source": [
    "The p-value is  around 0.05. The result is statistically significant. The test favors the null hypothesis over the alternative. The evidence supports the hypothesis that the sleep position do not have an influence in the number of hours of sleep."
   ]
  },
  {
   "cell_type": "code",
   "execution_count": 131,
   "metadata": {},
   "outputs": [
    {
     "name": "stdout",
     "output_type": "stream",
     "text": [
      "Z-Score: 1.6821667930572257\n",
      "Critical Z-Score: 1.959963984540054\n",
      "Fail to reject the null hypothesis.\n",
      "There is not enough evidence to suggest a significant difference between the two positions.\n",
      "P-Value : 0.09253650135698965\n",
      "Fail to reject the null hypothesis.\n",
      "There is a significant difference between the two positions.\n"
     ]
    }
   ],
   "source": [
    "\n",
    "side=survey[survey['Position']=='side']['Hours of sleep'].values\n",
    "back=survey[survey['Position']=='back or stomach']['Hours of sleep'].values\n",
    "# calculate means\n",
    "x1, x2 = np.mean(side), np.mean(back)\n",
    "# calculate standard errors\n",
    "std1, std2 = np.std(side), np.std(back)\n",
    "# size sample\n",
    "n1,n2=np.size(side),np.size(back)\n",
    "\n",
    "\n",
    "# Null Hypothesis = mu_1-mu_2 = 0 \n",
    "# Hypothesized difference (under the null hypothesis)\n",
    "D = 0\n",
    " \n",
    "# Set the significance level\n",
    "alpha = 0.05\n",
    " \n",
    "# Calculate the test statistic (z-score)\n",
    "z_score = ((x1 - x2) - D) / np.sqrt((std1**2 / n1) + (std2**2 / n2))\n",
    "print('Z-Score:', np.abs(z_score))\n",
    " \n",
    "# Calculate the critical value\n",
    "z_critical = stats.norm.ppf(1 - alpha/2)\n",
    "print('Critical Z-Score:',z_critical)\n",
    " \n",
    " \n",
    "# Compare the test statistic with the critical value\n",
    "if np.abs(z_score) > z_critical:\n",
    "    print(\"\"\"Reject the null hypothesis.\n",
    "There is a significant difference between the two positions.\"\"\")\n",
    "else:\n",
    "    print(\"\"\"Fail to reject the null hypothesis.\n",
    "There is not enough evidence to suggest a significant difference between the two positions.\"\"\")\n",
    " \n",
    "# Approach 2: Using P-value\n",
    "     \n",
    "# P-Value : Probability of getting less than a Z-score\n",
    "p_value = 2 * (1 - stats.norm.cdf(np.abs(z_score)))\n",
    "print('P-Value :',p_value)\n",
    " \n",
    "# Compare the p-value with the significance level\n",
    "if p_value < alpha:\n",
    "    print(\"\"\"Reject the null hypothesis.\n",
    "There is a significant difference between the two positions.\"\"\")\n",
    "else:\n",
    "    print(\"\"\"Fail to reject the null hypothesis.\n",
    "There is a significant difference between the two positions.\"\"\")\n"
   ]
  },
  {
   "cell_type": "markdown",
   "metadata": {},
   "source": [
    "## E-Commerce A/B"
   ]
  },
  {
   "cell_type": "markdown",
   "metadata": {},
   "source": [
    "### Designing our experiment"
   ]
  },
  {
   "cell_type": "markdown",
   "metadata": {},
   "source": [
    "The dataset contains 5 columns , 294478 records:\n",
    "\n",
    "-> user_id: unique id of the user who came to the website\n",
    "\n",
    "-> timestamp: timestamp that the user came to the page\n",
    "\n",
    "-> group: whether the user in treatment group or control group\n",
    "\n",
    "-> landing_page: whether the user saw the old page or new page\n",
    "\n",
    "-> converted: whether the user converted to a paid user. 1 means converted, 0 means not converted.\n",
    "\n",
    "**problem**:\n",
    "The product manager (PM) told you that the current conversion rate is about 12% on average throughout the year, and that the team would be happy with an increase of 2%, meaning that the new design will be considered a success if it raises the conversion rate to 14%."
   ]
  },
  {
   "cell_type": "markdown",
   "metadata": {},
   "source": [
    "**Hypothesis**\n",
    "\n",
    "\n",
    "Given we don't know if the new design will perform better or worse as our current design, we'll choose a two-tailed test:\n",
    "\n",
    "**Null Hypothesis (H0): p=p0** where p,p0 stand for the conversion rate of the new and old design, respectively. \n",
    "\n",
    "**Alternative hypothesis (H1) p≠p0**, i.e; the old an new page do have the same conversion rate\n",
    "\n",
    "**Confidence level** We want a confidence level of 95%, alpha=1-0.95=0.05"
   ]
  },
  {
   "cell_type": "markdown",
   "metadata": {},
   "source": [
    "For our test we'll need two groups:\n",
    "\n",
    "A control group - They'll be shown the old design\n",
    "A treatment (or experimental) group - They'll be shown the new design\n",
    "\n",
    "For our Dependent Variable we are interested in capturing the conversion rate.\n",
    "\n",
    "0 - The user did not buy the product during this user session\n",
    "1 - The user bought the product during this user session\n",
    "This way, we can easily calculate the mean for each group to get the conversion rate of each design."
   ]
  },
  {
   "cell_type": "markdown",
   "metadata": {},
   "source": [
    "### Minimum size of sample to answer the question"
   ]
  },
  {
   "cell_type": "code",
   "execution_count": 30,
   "metadata": {},
   "outputs": [
    {
     "name": "stdout",
     "output_type": "stream",
     "text": [
      "You need at least 4432\n"
     ]
    }
   ],
   "source": [
    "\n",
    "effect_size =sm.stats.proportion_effectsize(0.12, 0.14)    # Calculating effect size based on our expected rates\n",
    "\n",
    "required_n = sm.stats.NormalIndPower().solve_power(\n",
    "    effect_size, \n",
    "    power=0.8, \n",
    "    alpha=0.05, \n",
    "    ratio=1\n",
    "    )                                                  # Calculating sample size needed\n",
    "print('You need at least %s'%round(required_n))\n"
   ]
  },
  {
   "cell_type": "markdown",
   "metadata": {},
   "source": [
    "### Data cleaning"
   ]
  },
  {
   "cell_type": "code",
   "execution_count": 4,
   "metadata": {},
   "outputs": [
    {
     "data": {
      "text/html": [
       "<div>\n",
       "<style scoped>\n",
       "    .dataframe tbody tr th:only-of-type {\n",
       "        vertical-align: middle;\n",
       "    }\n",
       "\n",
       "    .dataframe tbody tr th {\n",
       "        vertical-align: top;\n",
       "    }\n",
       "\n",
       "    .dataframe thead th {\n",
       "        text-align: right;\n",
       "    }\n",
       "</style>\n",
       "<table border=\"1\" class=\"dataframe\">\n",
       "  <thead>\n",
       "    <tr style=\"text-align: right;\">\n",
       "      <th></th>\n",
       "      <th>user_id</th>\n",
       "      <th>timestamp</th>\n",
       "      <th>group</th>\n",
       "      <th>landing_page</th>\n",
       "      <th>converted</th>\n",
       "    </tr>\n",
       "  </thead>\n",
       "  <tbody>\n",
       "    <tr>\n",
       "      <th>0</th>\n",
       "      <td>851104</td>\n",
       "      <td>2017-01-21 22:11:48.556739</td>\n",
       "      <td>control</td>\n",
       "      <td>old_page</td>\n",
       "      <td>0</td>\n",
       "    </tr>\n",
       "    <tr>\n",
       "      <th>1</th>\n",
       "      <td>804228</td>\n",
       "      <td>2017-01-12 08:01:45.159739</td>\n",
       "      <td>control</td>\n",
       "      <td>old_page</td>\n",
       "      <td>0</td>\n",
       "    </tr>\n",
       "    <tr>\n",
       "      <th>2</th>\n",
       "      <td>661590</td>\n",
       "      <td>2017-01-11 16:55:06.154213</td>\n",
       "      <td>treatment</td>\n",
       "      <td>new_page</td>\n",
       "      <td>0</td>\n",
       "    </tr>\n",
       "    <tr>\n",
       "      <th>3</th>\n",
       "      <td>853541</td>\n",
       "      <td>2017-01-08 18:28:03.143765</td>\n",
       "      <td>treatment</td>\n",
       "      <td>new_page</td>\n",
       "      <td>0</td>\n",
       "    </tr>\n",
       "    <tr>\n",
       "      <th>4</th>\n",
       "      <td>864975</td>\n",
       "      <td>2017-01-21 01:52:26.210827</td>\n",
       "      <td>control</td>\n",
       "      <td>old_page</td>\n",
       "      <td>1</td>\n",
       "    </tr>\n",
       "  </tbody>\n",
       "</table>\n",
       "</div>"
      ],
      "text/plain": [
       "   user_id                   timestamp      group landing_page  converted\n",
       "0   851104  2017-01-21 22:11:48.556739    control     old_page          0\n",
       "1   804228  2017-01-12 08:01:45.159739    control     old_page          0\n",
       "2   661590  2017-01-11 16:55:06.154213  treatment     new_page          0\n",
       "3   853541  2017-01-08 18:28:03.143765  treatment     new_page          0\n",
       "4   864975  2017-01-21 01:52:26.210827    control     old_page          1"
      ]
     },
     "execution_count": 4,
     "metadata": {},
     "output_type": "execute_result"
    }
   ],
   "source": [
    "df = pd.read_csv('data/ab_data.csv')\n",
    "\n",
    "df.head()"
   ]
  },
  {
   "cell_type": "code",
   "execution_count": 5,
   "metadata": {},
   "outputs": [
    {
     "name": "stdout",
     "output_type": "stream",
     "text": [
      "There are 3894 duplicates in columns user_id for a total of 294478 rows\n"
     ]
    }
   ],
   "source": [
    "#Check duplicate\n",
    "print('There are %s duplicates in columns user_id for a total of %s rows'%(sum(df.duplicated(subset=['user_id'])),df.shape[0]))"
   ]
  },
  {
   "cell_type": "code",
   "execution_count": 6,
   "metadata": {},
   "outputs": [
    {
     "data": {
      "text/html": [
       "<div>\n",
       "<style scoped>\n",
       "    .dataframe tbody tr th:only-of-type {\n",
       "        vertical-align: middle;\n",
       "    }\n",
       "\n",
       "    .dataframe tbody tr th {\n",
       "        vertical-align: top;\n",
       "    }\n",
       "\n",
       "    .dataframe thead th {\n",
       "        text-align: right;\n",
       "    }\n",
       "</style>\n",
       "<table border=\"1\" class=\"dataframe\">\n",
       "  <thead>\n",
       "    <tr style=\"text-align: right;\">\n",
       "      <th></th>\n",
       "      <th>user_id</th>\n",
       "      <th>timestamp</th>\n",
       "      <th>group</th>\n",
       "      <th>landing_page</th>\n",
       "      <th>converted</th>\n",
       "    </tr>\n",
       "  </thead>\n",
       "  <tbody>\n",
       "    <tr>\n",
       "      <th>0</th>\n",
       "      <td>851104</td>\n",
       "      <td>2017-01-21 22:11:48.556739</td>\n",
       "      <td>control</td>\n",
       "      <td>old_page</td>\n",
       "      <td>0</td>\n",
       "    </tr>\n",
       "    <tr>\n",
       "      <th>1</th>\n",
       "      <td>804228</td>\n",
       "      <td>2017-01-12 08:01:45.159739</td>\n",
       "      <td>control</td>\n",
       "      <td>old_page</td>\n",
       "      <td>0</td>\n",
       "    </tr>\n",
       "    <tr>\n",
       "      <th>2</th>\n",
       "      <td>661590</td>\n",
       "      <td>2017-01-11 16:55:06.154213</td>\n",
       "      <td>treatment</td>\n",
       "      <td>new_page</td>\n",
       "      <td>0</td>\n",
       "    </tr>\n",
       "    <tr>\n",
       "      <th>3</th>\n",
       "      <td>853541</td>\n",
       "      <td>2017-01-08 18:28:03.143765</td>\n",
       "      <td>treatment</td>\n",
       "      <td>new_page</td>\n",
       "      <td>0</td>\n",
       "    </tr>\n",
       "    <tr>\n",
       "      <th>4</th>\n",
       "      <td>864975</td>\n",
       "      <td>2017-01-21 01:52:26.210827</td>\n",
       "      <td>control</td>\n",
       "      <td>old_page</td>\n",
       "      <td>1</td>\n",
       "    </tr>\n",
       "    <tr>\n",
       "      <th>...</th>\n",
       "      <td>...</td>\n",
       "      <td>...</td>\n",
       "      <td>...</td>\n",
       "      <td>...</td>\n",
       "      <td>...</td>\n",
       "    </tr>\n",
       "    <tr>\n",
       "      <th>294473</th>\n",
       "      <td>751197</td>\n",
       "      <td>2017-01-03 22:28:38.630509</td>\n",
       "      <td>control</td>\n",
       "      <td>old_page</td>\n",
       "      <td>0</td>\n",
       "    </tr>\n",
       "    <tr>\n",
       "      <th>294474</th>\n",
       "      <td>945152</td>\n",
       "      <td>2017-01-12 00:51:57.078372</td>\n",
       "      <td>control</td>\n",
       "      <td>old_page</td>\n",
       "      <td>0</td>\n",
       "    </tr>\n",
       "    <tr>\n",
       "      <th>294475</th>\n",
       "      <td>734608</td>\n",
       "      <td>2017-01-22 11:45:03.439544</td>\n",
       "      <td>control</td>\n",
       "      <td>old_page</td>\n",
       "      <td>0</td>\n",
       "    </tr>\n",
       "    <tr>\n",
       "      <th>294476</th>\n",
       "      <td>697314</td>\n",
       "      <td>2017-01-15 01:20:28.957438</td>\n",
       "      <td>control</td>\n",
       "      <td>old_page</td>\n",
       "      <td>0</td>\n",
       "    </tr>\n",
       "    <tr>\n",
       "      <th>294477</th>\n",
       "      <td>715931</td>\n",
       "      <td>2017-01-16 12:40:24.467417</td>\n",
       "      <td>treatment</td>\n",
       "      <td>new_page</td>\n",
       "      <td>0</td>\n",
       "    </tr>\n",
       "  </tbody>\n",
       "</table>\n",
       "<p>290584 rows × 5 columns</p>\n",
       "</div>"
      ],
      "text/plain": [
       "        user_id                   timestamp      group landing_page  converted\n",
       "0        851104  2017-01-21 22:11:48.556739    control     old_page          0\n",
       "1        804228  2017-01-12 08:01:45.159739    control     old_page          0\n",
       "2        661590  2017-01-11 16:55:06.154213  treatment     new_page          0\n",
       "3        853541  2017-01-08 18:28:03.143765  treatment     new_page          0\n",
       "4        864975  2017-01-21 01:52:26.210827    control     old_page          1\n",
       "...         ...                         ...        ...          ...        ...\n",
       "294473   751197  2017-01-03 22:28:38.630509    control     old_page          0\n",
       "294474   945152  2017-01-12 00:51:57.078372    control     old_page          0\n",
       "294475   734608  2017-01-22 11:45:03.439544    control     old_page          0\n",
       "294476   697314  2017-01-15 01:20:28.957438    control     old_page          0\n",
       "294477   715931  2017-01-16 12:40:24.467417  treatment     new_page          0\n",
       "\n",
       "[290584 rows x 5 columns]"
      ]
     },
     "execution_count": 6,
     "metadata": {},
     "output_type": "execute_result"
    }
   ],
   "source": [
    "df=df[~df.duplicated(subset=['user_id'])]\n",
    "df"
   ]
  },
  {
   "cell_type": "code",
   "execution_count": 7,
   "metadata": {},
   "outputs": [
    {
     "name": "stdout",
     "output_type": "stream",
     "text": [
      "<class 'pandas.core.frame.DataFrame'>\n",
      "Index: 290584 entries, 0 to 294477\n",
      "Data columns (total 3 columns):\n",
      " #   Column        Non-Null Count   Dtype \n",
      "---  ------        --------------   ----- \n",
      " 0   group         290584 non-null  object\n",
      " 1   landing_page  290584 non-null  object\n",
      " 2   converted     290584 non-null  int64 \n",
      "dtypes: int64(1), object(2)\n",
      "memory usage: 8.9+ MB\n"
     ]
    }
   ],
   "source": [
    "df=df[['group','landing_page','converted']]\n",
    "df.info()\n"
   ]
  },
  {
   "cell_type": "code",
   "execution_count": 8,
   "metadata": {},
   "outputs": [
    {
     "data": {
      "text/html": [
       "<div>\n",
       "<style scoped>\n",
       "    .dataframe tbody tr th:only-of-type {\n",
       "        vertical-align: middle;\n",
       "    }\n",
       "\n",
       "    .dataframe tbody tr th {\n",
       "        vertical-align: top;\n",
       "    }\n",
       "\n",
       "    .dataframe thead th {\n",
       "        text-align: right;\n",
       "    }\n",
       "</style>\n",
       "<table border=\"1\" class=\"dataframe\">\n",
       "  <thead>\n",
       "    <tr style=\"text-align: right;\">\n",
       "      <th>landing_page</th>\n",
       "      <th>new_page</th>\n",
       "      <th>old_page</th>\n",
       "    </tr>\n",
       "    <tr>\n",
       "      <th>group</th>\n",
       "      <th></th>\n",
       "      <th></th>\n",
       "    </tr>\n",
       "  </thead>\n",
       "  <tbody>\n",
       "    <tr>\n",
       "      <th>control</th>\n",
       "      <td>1006</td>\n",
       "      <td>144226</td>\n",
       "    </tr>\n",
       "    <tr>\n",
       "      <th>treatment</th>\n",
       "      <td>144314</td>\n",
       "      <td>1038</td>\n",
       "    </tr>\n",
       "  </tbody>\n",
       "</table>\n",
       "</div>"
      ],
      "text/plain": [
       "landing_page  new_page  old_page\n",
       "group                           \n",
       "control           1006    144226\n",
       "treatment       144314      1038"
      ]
     },
     "execution_count": 8,
     "metadata": {},
     "output_type": "execute_result"
    }
   ],
   "source": [
    "# To make sure all the control group are seeing the old page and viceversa\n",
    "\n",
    "pd.crosstab(df['group'], df['landing_page'])"
   ]
  },
  {
   "cell_type": "code",
   "execution_count": 9,
   "metadata": {},
   "outputs": [
    {
     "name": "stdout",
     "output_type": "stream",
     "text": [
      "size group control: 145232\n",
      "size group treatment: 145352\n",
      "It is almost the same\n"
     ]
    }
   ],
   "source": [
    "# Check size of both group\n",
    "print('size group control: %s'%len(df[df.group=='control']))\n",
    "print('size group treatment: %s'%len(df[df.group=='treatment']))\n",
    "\n",
    "print('It is almost the same')"
   ]
  },
  {
   "cell_type": "code",
   "execution_count": 10,
   "metadata": {},
   "outputs": [
    {
     "data": {
      "text/html": [
       "<div>\n",
       "<style scoped>\n",
       "    .dataframe tbody tr th:only-of-type {\n",
       "        vertical-align: middle;\n",
       "    }\n",
       "\n",
       "    .dataframe tbody tr th {\n",
       "        vertical-align: top;\n",
       "    }\n",
       "\n",
       "    .dataframe thead th {\n",
       "        text-align: right;\n",
       "    }\n",
       "</style>\n",
       "<table border=\"1\" class=\"dataframe\">\n",
       "  <thead>\n",
       "    <tr style=\"text-align: right;\">\n",
       "      <th>landing_page</th>\n",
       "      <th>new_page</th>\n",
       "      <th>old_page</th>\n",
       "    </tr>\n",
       "    <tr>\n",
       "      <th>group</th>\n",
       "      <th></th>\n",
       "      <th></th>\n",
       "    </tr>\n",
       "  </thead>\n",
       "  <tbody>\n",
       "    <tr>\n",
       "      <th>control</th>\n",
       "      <td>0</td>\n",
       "      <td>144226</td>\n",
       "    </tr>\n",
       "    <tr>\n",
       "      <th>treatment</th>\n",
       "      <td>144314</td>\n",
       "      <td>0</td>\n",
       "    </tr>\n",
       "  </tbody>\n",
       "</table>\n",
       "</div>"
      ],
      "text/plain": [
       "landing_page  new_page  old_page\n",
       "group                           \n",
       "control              0    144226\n",
       "treatment       144314         0"
      ]
     },
     "execution_count": 10,
     "metadata": {},
     "output_type": "execute_result"
    }
   ],
   "source": [
    "# We select only old page for the con\n",
    "df =df.drop(df[(df.landing_page == \"new_page\") & (df.group == \"control\")].index)\n",
    "df =df.drop(df[(df.landing_page == \"old_page\") & (df.group == \"treatment\")].index)\n",
    "pd.crosstab(df['group'], df['landing_page'])"
   ]
  },
  {
   "cell_type": "code",
   "execution_count": 11,
   "metadata": {},
   "outputs": [
    {
     "name": "stderr",
     "output_type": "stream",
     "text": [
      "/tmp/ipykernel_837330/2329567543.py:1: FutureWarning: The provided callable <function std at 0x7f539c30fce0> is currently using SeriesGroupBy.std. In a future version of pandas, the provided callable will be used directly. To keep current behavior pass the string \"std\" instead.\n",
      "  conversion_rates = df.groupby('group')['converted'].agg(['mean', np.std])\n"
     ]
    },
    {
     "data": {
      "text/html": [
       "<div>\n",
       "<style scoped>\n",
       "    .dataframe tbody tr th:only-of-type {\n",
       "        vertical-align: middle;\n",
       "    }\n",
       "\n",
       "    .dataframe tbody tr th {\n",
       "        vertical-align: top;\n",
       "    }\n",
       "\n",
       "    .dataframe thead th {\n",
       "        text-align: right;\n",
       "    }\n",
       "</style>\n",
       "<table border=\"1\" class=\"dataframe\">\n",
       "  <thead>\n",
       "    <tr style=\"text-align: right;\">\n",
       "      <th></th>\n",
       "      <th>mean</th>\n",
       "      <th>std</th>\n",
       "    </tr>\n",
       "    <tr>\n",
       "      <th>group</th>\n",
       "      <th></th>\n",
       "      <th></th>\n",
       "    </tr>\n",
       "  </thead>\n",
       "  <tbody>\n",
       "    <tr>\n",
       "      <th>control</th>\n",
       "      <td>0.120290</td>\n",
       "      <td>0.325302</td>\n",
       "    </tr>\n",
       "    <tr>\n",
       "      <th>treatment</th>\n",
       "      <td>0.118727</td>\n",
       "      <td>0.323468</td>\n",
       "    </tr>\n",
       "  </tbody>\n",
       "</table>\n",
       "</div>"
      ],
      "text/plain": [
       "               mean       std\n",
       "group                        \n",
       "control    0.120290  0.325302\n",
       "treatment  0.118727  0.323468"
      ]
     },
     "execution_count": 11,
     "metadata": {},
     "output_type": "execute_result"
    }
   ],
   "source": [
    "conversion_rates = df.groupby('group')['converted'].agg(['mean', np.std])\n",
    "conversion_rates"
   ]
  },
  {
   "cell_type": "markdown",
   "metadata": {},
   "source": [
    "Judging by the stats above, it does look like our two designs performed very similarly, with our old design performing slightly better"
   ]
  },
  {
   "cell_type": "code",
   "execution_count": 19,
   "metadata": {},
   "outputs": [
    {
     "data": {
      "image/png": "[encoded data removed]",
      "text/plain": [
       "<Figure size 800x600 with 1 Axes>"
      ]
     },
     "metadata": {},
     "output_type": "display_data"
    }
   ],
   "source": [
    "import seaborn as sns\n",
    "\n",
    "fig, ax = plt.subplots(figsize=(8,6), facecolor='w', edgecolor='k')\n",
    "\n",
    "sns.barplot(x=df['group'], y=df['converted'],hue=df['group'])\n",
    "plt.ylim(0, 0.17)\n",
    "plt.title('Conversion rate by group', pad=20)\n",
    "plt.xlabel('Group', labelpad=15)\n",
    "plt.ylabel('Converted (proportion)', labelpad=15)\n",
    "for i in ax.containers:\n",
    "    ax.bar_label(i,)"
   ]
  },
  {
   "cell_type": "markdown",
   "metadata": {},
   "source": [
    "### Testing hypothesis"
   ]
  },
  {
   "cell_type": "code",
   "execution_count": 25,
   "metadata": {},
   "outputs": [
    {
     "name": "stdout",
     "output_type": "stream",
     "text": [
      "[17349, 17134] [144226, 144314]\n"
     ]
    }
   ],
   "source": [
    "from statsmodels.stats.proportion import proportions_ztest, proportion_confint\n",
    "\n",
    "control_results = df[df['group'] == 'control']['converted']\n",
    "treatment_results = df[df['group'] == 'treatment']['converted']\n",
    "\n",
    "n_con = control_results.count()\n",
    "n_treat = treatment_results.count()\n",
    "successes = [control_results.sum(), treatment_results.sum()]\n",
    "nobs = [n_con, n_treat]\n",
    "\n",
    "print(successes,nobs)\n"
   ]
  },
  {
   "cell_type": "code",
   "execution_count": 29,
   "metadata": {},
   "outputs": [
    {
     "name": "stdout",
     "output_type": "stream",
     "text": [
      "z statistic: 1.29\n",
      "p-value: 0.196\n",
      "ci 95% for control group: [0.119, 0.122]\n",
      "ci 95% for treatment group: [0.117, 0.120]\n"
     ]
    }
   ],
   "source": [
    "z_stat, pval = proportions_ztest(successes, nobs=nobs)\n",
    "(lower_con, lower_treat), (upper_con, upper_treat) = proportion_confint(successes, nobs=nobs, alpha=0.05)\n",
    "\n",
    "print(f'z statistic: {z_stat:.2f}')\n",
    "print(f'p-value: {pval:.3f}')\n",
    "print(f'ci 95% for control group: [{lower_con:.3f}, {upper_con:.3f}]')\n",
    "print(f'ci 95% for treatment group: [{lower_treat:.3f}, {upper_treat:.3f}]')\n"
   ]
  },
  {
   "cell_type": "markdown",
   "metadata": {},
   "source": [
    "Since our p-value=0.196 is way above our alpha=0.05, we cannot reject the null hypothesis: our new design did not perform significantly different than our old one.\n",
    "\n",
    "Additionally, if we look at the confidence interval for the treatment group ([0.117, 0.12]) we notice that:\n",
    "\n",
    "    It does not include our target value of 15% (the 2% uplift we were aiming for)\n",
    "\n",
    "What this means is that it is more likely that the true conversion rate of the new design is similar to our baseline, rather than the 15% target we had hoped for."
   ]
  },
  {
   "cell_type": "code",
   "execution_count": 32,
   "metadata": {},
   "outputs": [
    {
     "name": "stdout",
     "output_type": "stream",
     "text": [
      "Z-Score: 1.294238314737139\n",
      "Critical Z-Score: 1.959963984540054\n",
      "Fail to reject the null hypothesis.\n",
      "There is not a significant difference between the 2 webpage.\n",
      "P-Value : 0.19558311606977163\n",
      "Fail to reject the null hypothesis.\n",
      "There is not a significant difference between the 2 webpage.\n"
     ]
    }
   ],
   "source": [
    "import scipy.stats as stats\n",
    "from scipy.stats import norm\n",
    "\n",
    "\n",
    "control_results = df[df['group'] == 'control']['converted']\n",
    "treatment_results = df[df['group'] == 'treatment']['converted']\n",
    "# calculate means\n",
    "x1, x2 = np.mean(control_results ), np.mean(treatment_results )\n",
    "# calculate standard errors\n",
    "std1, std2 = np.std(control_results ), np.std(treatment_results )\n",
    "# size sample\n",
    "n1,n2=np.size(control_results ),np.size(treatment_results )\n",
    "\n",
    "\n",
    "# Null Hypothesis = mu_1-mu_2 = 0 \n",
    "# Hypothesized difference (under the null hypothesis)\n",
    "D = 0\n",
    " \n",
    "# Set the significance level\n",
    "alpha = 0.05\n",
    " \n",
    "# Calculate the test statistic (z-score)\n",
    "z_score = ((x1 - x2) - D) / np.sqrt((std1**2 / n1) + (std2**2 / n2))\n",
    "print('Z-Score:', np.abs(z_score))\n",
    " \n",
    "# Calculate the critical value\n",
    "z_critical = stats.norm.ppf(1 - alpha/2) #(alpha/2 because two sides)\n",
    "print('Critical Z-Score:',z_critical)\n",
    " \n",
    "# Compare the test statistic with the critical value\n",
    "if np.abs(z_score) > z_critical:\n",
    "    print(\"\"\"Reject the null hypothesis.\n",
    "There is a significant difference between the 2 webpage.\"\"\")\n",
    "else:\n",
    "    print(\"\"\"Fail to reject the null hypothesis.\n",
    "There is not a significant difference between the 2 webpage.\"\"\")\n",
    " \n",
    "# Approach 2: Using P-value\n",
    "     \n",
    "# P-Value : Probability of getting less than a Z-score\n",
    "p_value = 2 * (1 - stats.norm.cdf(np.abs(z_score)))\n",
    "print('P-Value :',p_value)\n",
    " \n",
    "# Compare the p-value with the significance level\n",
    "if p_value < alpha:\n",
    "    print(\"\"\"Reject the null hypothesis.\n",
    "There is a significant difference between the 2 webpage.\"\"\")\n",
    "else:\n",
    "    print(\"\"\"Fail to reject the null hypothesis.\n",
    "There is not a significant difference between the 2 webpage.\"\"\")\n"
   ]
  },
  {
   "cell_type": "code",
   "execution_count": 36,
   "metadata": {},
   "outputs": [],
   "source": [
    "differences = np.array([])\n",
    "\n",
    "for i in np.arange(2500):\n",
    "    new_difference = one_simulated_difference(df, 'converted', 'group')\n",
    "    differences = np.append(differences, new_difference)\n",
    "\n"
   ]
  },
  {
   "cell_type": "code",
   "execution_count": 44,
   "metadata": {},
   "outputs": [
    {
     "name": "stdout",
     "output_type": "stream",
     "text": [
      "95% Confidence interval: [-0.2294206   0.22496877]\n",
      "Observed Difference: -0.15631577894657384\n"
     ]
    },
    {
     "data": {
      "text/plain": [
       "Text(0.5, 1.0, 'Prediction Under the Null Hypothesis')"
      ]
     },
     "execution_count": 44,
     "metadata": {},
     "output_type": "execute_result"
    },
    {
     "data": {
      "image/png": "[encoded data removed]",
      "text/plain": [
       "<Figure size 640x480 with 1 Axes>"
      ]
     },
     "metadata": {},
     "output_type": "display_data"
    }
   ],
   "source": [
    "confidence_interval = np.percentile(differences, [2.5, 97.5])\n",
    "print(\"95% Confidence interval:\", confidence_interval*100)    \n",
    "\n",
    "observed_difference=difference_of_means(df, 'converted', 'group')\n",
    "df2 = pd.DataFrame()\n",
    "df2['Difference Between Group Means'] = differences\n",
    "df2.hist()\n",
    "print('Observed Difference:', observed_difference*100)\n",
    "plt.plot(observed_difference, 0, 'ro')                 # Additional point\n",
    "\n",
    "plt.title('Prediction Under the Null Hypothesis')\n"
   ]
  },
  {
   "cell_type": "code",
   "execution_count": 45,
   "metadata": {},
   "outputs": [
    {
     "data": {
      "text/plain": [
       "0.096"
      ]
     },
     "execution_count": 45,
     "metadata": {},
     "output_type": "execute_result"
    }
   ],
   "source": [
    "# Empirical P-value\n",
    "empirical_P = np.count_nonzero(differences <= observed_difference) / len(differences)\n",
    "empirical_P"
   ]
  },
  {
   "cell_type": "markdown",
   "metadata": {},
   "source": [
    "# Bootstrap Sampling for Confidence Intervals"
   ]
  },
  {
   "cell_type": "code",
   "execution_count": 134,
   "metadata": {},
   "outputs": [
    {
     "name": "stdout",
     "output_type": "stream",
     "text": [
      "95% Confidence interval: [39.5 56. ]\n",
      "mean age: 47.5\n",
      "Estimated population mean age: 47.573\n",
      "Standard error of the estimate: 4.37393441906738\n"
     ]
    }
   ],
   "source": [
    "\n",
    "\n",
    "ages = np.array([25, 30, 35, 40, 45, 50, 55, 60, 65, 70])\n",
    " \n",
    "num_samples = 1000\n",
    " \n",
    "bootstrap_means = np.zeros(num_samples)\n",
    " \n",
    "# Perform bootstrap sampling\n",
    "for i in range(num_samples):\n",
    " \n",
    "    bootstrap_sample = np.random.choice(ages, size=len(ages), replace=True)\n",
    "    bootstrap_mean = np.mean(bootstrap_sample)\n",
    "    bootstrap_means[i] = bootstrap_mean\n",
    "    \n",
    "\n",
    " \n",
    "confidence_interval = np.percentile(bootstrap_means, [2.5, 97.5])\n",
    " \n",
    "print(\"95% Confidence interval:\", confidence_interval)    \n",
    " \n",
    "estimated_mean = np.mean(bootstrap_means)\n",
    "estimated_std = np.std(bootstrap_means, ddof=1)\n",
    " \n",
    "print(\"mean age:\", np.mean(ages))\n",
    "print(\"Estimated population mean age:\", estimated_mean)\n",
    "print(\"Standard error of the estimate:\", estimated_std)"
   ]
  },
  {
   "cell_type": "markdown",
   "metadata": {},
   "source": [
    "# Two-Sample Bootstrap Hypothesis Test\n"
   ]
  },
  {
   "cell_type": "markdown",
   "metadata": {},
   "source": [
    "\n",
    "We perform a two-sample bootstrap hypothesis test to determine whether there is a significant difference between the means of two independent groups"
   ]
  },
  {
   "cell_type": "code",
   "execution_count": 109,
   "metadata": {},
   "outputs": [
    {
     "name": "stdout",
     "output_type": "stream",
     "text": [
      "Bootstrap p-value: 0.505\n"
     ]
    }
   ],
   "source": [
    "import numpy as np\n",
    " \n",
    "group1 = [10, 12, 15, 18, 20]\n",
    "group2 = [8, 11, 13, 16, 19]\n",
    " \n",
    "num_samples = 1000\n",
    " \n",
    "bootstrap_diffs = np.zeros(num_samples)\n",
    " \n",
    "# Perform bootstrap sampling\n",
    "for i in range(num_samples):\n",
    "    bootstrap_group1 = np.random.choice(group1, size=len(group1), replace=True)\n",
    "    bootstrap_group2 = np.random.choice(group2, size=len(group2), replace=True)\n",
    "     \n",
    "    bootstrap_diff = np.mean(bootstrap_group1) - np.mean(bootstrap_group2)\n",
    "    bootstrap_diffs[i] = bootstrap_diff\n",
    " \n",
    "p_value = np.mean(bootstrap_diffs >= np.mean(group1) - np.mean(group2))\n",
    " \n",
    "print(\"Bootstrap p-value:\", p_value)"
   ]
  }
 ],
 "metadata": {
  "kernelspec": {
   "display_name": "Python 3 (ipykernel)",
   "language": "python",
   "name": "python3"
  },
  "language_info": {
   "codemirror_mode": {
    "name": "ipython",
    "version": 3
   },
   "file_extension": ".py",
   "mimetype": "text/x-python",
   "name": "python",
   "nbconvert_exporter": "python",
   "pygments_lexer": "ipython3",
   "version": "3.11.8"
  }
 },
 "nbformat": 4,
 "nbformat_minor": 4
}
