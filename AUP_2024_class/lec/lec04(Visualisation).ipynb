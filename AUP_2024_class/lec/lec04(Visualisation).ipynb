{
 "cells": [
  {
   "cell_type": "code",
   "execution_count": 1,
   "metadata": {},
   "outputs": [],
   "source": [
    "import pandas as pd\n",
    "import numpy as np\n",
    "%matplotlib inline\n",
    "import matplotlib.pyplot as plt"
   ]
  },
  {
   "cell_type": "markdown",
   "metadata": {},
   "source": [
    "## Table Review: Welcome Survey"
   ]
  },
  {
   "cell_type": "markdown",
   "metadata": {},
   "source": [
    "## Lecture 4"
   ]
  },
  {
   "cell_type": "code",
   "execution_count": null,
   "metadata": {},
   "outputs": [],
   "source": [
    "welcome = pd.read_csv('welcome_survey_v1.csv')\n",
    "welcome.head(5)"
   ]
  },
  {
   "cell_type": "code",
   "execution_count": null,
   "metadata": {},
   "outputs": [],
   "source": [
    "np.unique(welcome['Sleep position'])"
   ]
  },
  {
   "cell_type": "code",
   "execution_count": null,
   "metadata": {},
   "outputs": [],
   "source": [
    "# On average, how long do side-sleepers sleep?\n",
    "side_sleepers = welcome['Sleep position'].str.contains('side', regex=False)\n",
    "welcome[side_sleepers]['Hours of sleep'].mean()"
   ]
  },
  {
   "cell_type": "code",
   "execution_count": null,
   "metadata": {},
   "outputs": [],
   "source": [
    "# How many students get at least 8 hours of sleep each night (on average)?\n",
    "# First way:\n",
    "welcome['Hours of sleep']>8"
   ]
  },
  {
   "cell_type": "code",
   "execution_count": null,
   "metadata": {},
   "outputs": [],
   "source": [
    "np.sum(welcome['Hours of sleep']>8)"
   ]
  },
  {
   "cell_type": "code",
   "execution_count": null,
   "metadata": {},
   "outputs": [],
   "source": [
    "# Second way\n",
    "np.shape(welcome[welcome['Hours of sleep']>8])[0]"
   ]
  },
  {
   "cell_type": "code",
   "execution_count": null,
   "metadata": {
    "scrolled": true
   },
   "outputs": [],
   "source": [
    "# Create a table with only the two sleep-related columns, \n",
    "# with names 'Hours' and 'Position'\n",
    "two_col = welcome[['Hours of sleep', 'Sleep position']]\n",
    "sleep =  two_col.rename(columns={'Hours of sleep':'Hours','Sleep position': 'Position'})\n",
    "sleep.head(3)"
   ]
  },
  {
   "cell_type": "code",
   "execution_count": null,
   "metadata": {},
   "outputs": [],
   "source": [
    "# Second way\n",
    "two_col = welcome.drop(['Handedness', 'Extraversion', 'Pant leg', 'Number of textees'],axis=1)\n",
    "sleep =  two_col.rename(columns={'Hours of sleep':'Hours','Sleep position': 'Position'})\n",
    "sleep.head(3)"
   ]
  },
  {
   "cell_type": "markdown",
   "metadata": {},
   "source": [
    "## Census ##"
   ]
  },
  {
   "cell_type": "code",
   "execution_count": null,
   "metadata": {},
   "outputs": [],
   "source": [
    "full = pd.read_csv('nc-est2014-agesex-res.csv')\n",
    "full"
   ]
  },
  {
   "cell_type": "code",
   "execution_count": null,
   "metadata": {},
   "outputs": [],
   "source": [
    "# Keep only the columns we care about\n",
    "partial = full[['SEX', 'AGE', 'POPESTIMATE2010', 'POPESTIMATE2014']]\n",
    "partial"
   ]
  },
  {
   "cell_type": "code",
   "execution_count": null,
   "metadata": {},
   "outputs": [],
   "source": [
    "# Make things easier to read\n",
    "simple = partial.rename(columns={'POPESTIMATE2010':'2010','POPESTIMATE2014': '2014'})\n",
    "simple"
   ]
  },
  {
   "cell_type": "code",
   "execution_count": null,
   "metadata": {},
   "outputs": [],
   "source": [
    "# Sort by age\n",
    "simple.sort_values('AGE')"
   ]
  },
  {
   "cell_type": "code",
   "execution_count": null,
   "metadata": {},
   "outputs": [],
   "source": [
    "# Sort by age (another way)\n",
    "simple.sort_values('AGE', ascending=False)"
   ]
  },
  {
   "cell_type": "markdown",
   "metadata": {},
   "source": [
    "## Line Plots ##"
   ]
  },
  {
   "cell_type": "code",
   "execution_count": null,
   "metadata": {},
   "outputs": [],
   "source": [
    "# Remove the age totals\n",
    "no_999 = simple[simple.AGE<999]\n",
    "np.sum(no_999.SEX==0)"
   ]
  },
  {
   "cell_type": "code",
   "execution_count": null,
   "metadata": {},
   "outputs": [],
   "source": [
    "# Remove male and female (keep only combined)\n",
    "everyone = no_999[no_999.SEX==0][['AGE','2010','2014']]"
   ]
  },
  {
   "cell_type": "code",
   "execution_count": null,
   "metadata": {},
   "outputs": [],
   "source": [
    "everyone"
   ]
  },
  {
   "cell_type": "code",
   "execution_count": null,
   "metadata": {},
   "outputs": [],
   "source": [
    "plt.plot(everyone['AGE'].values, everyone['2010'].values)"
   ]
  },
  {
   "cell_type": "code",
   "execution_count": null,
   "metadata": {},
   "outputs": [],
   "source": [
    "fig, ax1 = plt.subplots(figsize=(8,6), facecolor='w', edgecolor='k')\n",
    "\n",
    "\n",
    "ax1.plot(everyone['AGE'].values, everyone['2010'].values,color='b',marker=None,linestyle='-',lw=3,label='US population')\n",
    "\n",
    "ax1.set_xlabel('Age',fontsize=20,fontweight='bold')\n",
    "ax1.set_ylabel('2010',fontsize=20,fontweight='bold')\n",
    "ax1.tick_params(axis='both', which='major', labelsize=20,direction='in',right='on',top='on')\n",
    "\n",
    "ax = plt.gca()\n",
    "for tick in ax.get_xticklabels():\n",
    "    tick.set_fontweight('bold')\n",
    "for tick in ax.get_yticklabels():\n",
    "    tick.set_fontweight('bold')\n",
    "\n",
    "\n",
    "ax1.legend(loc=0,markerscale=1.0,prop={'size':14},ncol=1) \n",
    "plt.show()"
   ]
  },
  {
   "cell_type": "code",
   "execution_count": null,
   "metadata": {
    "scrolled": true
   },
   "outputs": [],
   "source": [
    "fig, ax1 = plt.subplots(figsize=(8,6), facecolor='w', edgecolor='k')\n",
    "\n",
    "\n",
    "ax1.plot(everyone['AGE'].values, everyone['2010'].values,color='b',marker=None,linestyle='-',lw=3,label='2010')\n",
    "ax1.plot(everyone['AGE'].values, everyone['2014'].values,color='r',marker=None,linestyle='-',lw=3,label='2014')\n",
    "\n",
    "ax1.set_title('US Population',fontsize=20,fontweight='bold')\n",
    "\n",
    "ax1.set_xlabel('Age',fontsize=20,fontweight='bold')\n",
    "ax1.set_ylabel('2010',fontsize=20,fontweight='bold')\n",
    "ax1.tick_params(axis='both', which='major', labelsize=20,direction='in',right='on',top='on')\n",
    "\n",
    "ax = plt.gca()\n",
    "for tick in ax.get_xticklabels():\n",
    "    tick.set_fontweight('bold')\n",
    "for tick in ax.get_yticklabels():\n",
    "    tick.set_fontweight('bold')\n",
    "\n",
    "\n",
    "ax1.legend(loc=0,markerscale=1.0,prop={'size':14},ncol=1) \n",
    "plt.show()"
   ]
  },
  {
   "cell_type": "markdown",
   "metadata": {},
   "source": [
    "## Males and Females in 2014 ##"
   ]
  },
  {
   "cell_type": "code",
   "execution_count": null,
   "metadata": {},
   "outputs": [],
   "source": [
    "# Let's compare male and female counts per age\n",
    "males = no_999[no_999.SEX==1][['AGE','2010','2014']]\n",
    "females = no_999[no_999.SEX==2][['AGE','2010','2014']]"
   ]
  },
  {
   "cell_type": "code",
   "execution_count": 1,
   "metadata": {},
   "outputs": [
    {
     "ename": "NameError",
     "evalue": "name 'plt' is not defined",
     "output_type": "error",
     "traceback": [
      "\u001b[0;31m---------------------------------------------------------------------------\u001b[0m",
      "\u001b[0;31mNameError\u001b[0m                                 Traceback (most recent call last)",
      "\u001b[0;32m/tmp/ipykernel_392998/2666069263.py\u001b[0m in \u001b[0;36m<module>\u001b[0;34m\u001b[0m\n\u001b[0;32m----> 1\u001b[0;31m \u001b[0mfig\u001b[0m\u001b[0;34m,\u001b[0m \u001b[0max1\u001b[0m \u001b[0;34m=\u001b[0m \u001b[0mplt\u001b[0m\u001b[0;34m.\u001b[0m\u001b[0msubplots\u001b[0m\u001b[0;34m(\u001b[0m\u001b[0mfigsize\u001b[0m\u001b[0;34m=\u001b[0m\u001b[0;34m(\u001b[0m\u001b[0;36m8\u001b[0m\u001b[0;34m,\u001b[0m\u001b[0;36m6\u001b[0m\u001b[0;34m)\u001b[0m\u001b[0;34m,\u001b[0m \u001b[0mfacecolor\u001b[0m\u001b[0;34m=\u001b[0m\u001b[0;34m'w'\u001b[0m\u001b[0;34m,\u001b[0m \u001b[0medgecolor\u001b[0m\u001b[0;34m=\u001b[0m\u001b[0;34m'k'\u001b[0m\u001b[0;34m)\u001b[0m\u001b[0;34m\u001b[0m\u001b[0;34m\u001b[0m\u001b[0m\n\u001b[0m\u001b[1;32m      2\u001b[0m \u001b[0;34m\u001b[0m\u001b[0m\n\u001b[1;32m      3\u001b[0m \u001b[0;34m\u001b[0m\u001b[0m\n\u001b[1;32m      4\u001b[0m \u001b[0max1\u001b[0m\u001b[0;34m.\u001b[0m\u001b[0mplot\u001b[0m\u001b[0;34m(\u001b[0m\u001b[0mmales\u001b[0m\u001b[0;34m[\u001b[0m\u001b[0;34m'AGE'\u001b[0m\u001b[0;34m]\u001b[0m\u001b[0;34m.\u001b[0m\u001b[0mvalues\u001b[0m\u001b[0;34m,\u001b[0m \u001b[0mmales\u001b[0m\u001b[0;34m[\u001b[0m\u001b[0;34m'2014'\u001b[0m\u001b[0;34m]\u001b[0m\u001b[0;34m.\u001b[0m\u001b[0mvalues\u001b[0m\u001b[0;34m,\u001b[0m\u001b[0mcolor\u001b[0m\u001b[0;34m=\u001b[0m\u001b[0;34m'b'\u001b[0m\u001b[0;34m,\u001b[0m\u001b[0mmarker\u001b[0m\u001b[0;34m=\u001b[0m\u001b[0;32mNone\u001b[0m\u001b[0;34m,\u001b[0m\u001b[0mlinestyle\u001b[0m\u001b[0;34m=\u001b[0m\u001b[0;34m'-'\u001b[0m\u001b[0;34m,\u001b[0m\u001b[0mlw\u001b[0m\u001b[0;34m=\u001b[0m\u001b[0;36m3\u001b[0m\u001b[0;34m,\u001b[0m\u001b[0mlabel\u001b[0m\u001b[0;34m=\u001b[0m\u001b[0;34m'males'\u001b[0m\u001b[0;34m)\u001b[0m\u001b[0;34m\u001b[0m\u001b[0;34m\u001b[0m\u001b[0m\n\u001b[1;32m      5\u001b[0m \u001b[0max1\u001b[0m\u001b[0;34m.\u001b[0m\u001b[0mplot\u001b[0m\u001b[0;34m(\u001b[0m\u001b[0mfemales\u001b[0m\u001b[0;34m[\u001b[0m\u001b[0;34m'AGE'\u001b[0m\u001b[0;34m]\u001b[0m\u001b[0;34m.\u001b[0m\u001b[0mvalues\u001b[0m\u001b[0;34m,\u001b[0m \u001b[0mfemales\u001b[0m\u001b[0;34m[\u001b[0m\u001b[0;34m'2014'\u001b[0m\u001b[0;34m]\u001b[0m\u001b[0;34m.\u001b[0m\u001b[0mvalues\u001b[0m\u001b[0;34m,\u001b[0m\u001b[0mcolor\u001b[0m\u001b[0;34m=\u001b[0m\u001b[0;34m'r'\u001b[0m\u001b[0;34m,\u001b[0m\u001b[0mmarker\u001b[0m\u001b[0;34m=\u001b[0m\u001b[0;32mNone\u001b[0m\u001b[0;34m,\u001b[0m\u001b[0mlinestyle\u001b[0m\u001b[0;34m=\u001b[0m\u001b[0;34m'-'\u001b[0m\u001b[0;34m,\u001b[0m\u001b[0mlw\u001b[0m\u001b[0;34m=\u001b[0m\u001b[0;36m3\u001b[0m\u001b[0;34m,\u001b[0m\u001b[0mlabel\u001b[0m\u001b[0;34m=\u001b[0m\u001b[0;34m'females'\u001b[0m\u001b[0;34m)\u001b[0m\u001b[0;34m\u001b[0m\u001b[0;34m\u001b[0m\u001b[0m\n",
      "\u001b[0;31mNameError\u001b[0m: name 'plt' is not defined"
     ]
    }
   ],
   "source": [
    "fig, ax1 = plt.subplots(figsize=(8,6), facecolor='w', edgecolor='k')\n",
    "\n",
    "\n",
    "ax1.plot(males['AGE'].values, males['2014'].values,color='b',marker=None,linestyle='-',lw=3,label='males')\n",
    "ax1.plot(females['AGE'].values, females['2014'].values,color='r',marker=None,linestyle='-',lw=3,label='females')\n",
    "\n",
    "ax1.set_title('US Population',fontsize=20,fontweight='bold')\n",
    "\n",
    "ax1.set_xlabel('Age',fontsize=20,fontweight='bold')\n",
    "ax1.set_ylabel('Billions',fontsize=20,fontweight='bold')\n",
    "ax1.tick_params(axis='both', which='major', labelsize=20,direction='in',right='on',top='on')\n",
    "\n",
    "ax = plt.gca()\n",
    "for tick in ax.get_xticklabels():\n",
    "    tick.set_fontweight('bold')\n",
    "for tick in ax.get_yticklabels():\n",
    "    tick.set_fontweight('bold')\n",
    "\n",
    "\n",
    "ax1.legend(loc=0,markerscale=1.0,prop={'size':14},ncol=1) \n",
    "plt.show()"
   ]
  },
  {
   "cell_type": "code",
   "execution_count": null,
   "metadata": {},
   "outputs": [],
   "source": [
    "males = no_999[no_999.SEX==1][['AGE','2014']]\n",
    "females = no_999[no_999.SEX==2][['AGE','2014']]\n",
    "# Create DataFrame\n",
    "data = {'Age': males['AGE'].values,'Males': males['2014'].values,'Females': females['2014'].values}\n",
    "pop_2014=pd.DataFrame(data)\n",
    "\n",
    "total=pop_2014.Males+pop_2014.Females\n",
    "pct_female = np.round(pop_2014.Females / total * 100,3)\n",
    "pct_female.values"
   ]
  },
  {
   "cell_type": "code",
   "execution_count": null,
   "metadata": {},
   "outputs": [],
   "source": [
    "# Add female percent to our table\n",
    "pop_2014['Percent female']=pct_female.values\n",
    "pop_2014"
   ]
  },
  {
   "cell_type": "code",
   "execution_count": null,
   "metadata": {},
   "outputs": [],
   "source": [
    "fig, ax1 = plt.subplots(figsize=(8,6), facecolor='w', edgecolor='k')\n",
    "\n",
    "\n",
    "ax1.plot(pop_2014['Age'].values, pop_2014['Percent female'].values,color='b',marker=None,linestyle='-',lw=3,label='Percent female')\n",
    "\n",
    "ax1.set_xlabel('Age',fontsize=20,fontweight='bold')\n",
    "ax1.set_ylabel('Percent',fontsize=20,fontweight='bold')\n",
    "ax1.tick_params(axis='both', which='major', labelsize=20,direction='in',right='on',top='on')\n",
    "\n",
    "ax = plt.gca()\n",
    "for tick in ax.get_xticklabels():\n",
    "    tick.set_fontweight('bold')\n",
    "for tick in ax.get_yticklabels():\n",
    "    tick.set_fontweight('bold')\n",
    "\n",
    "\n",
    "ax1.legend(loc=0,markerscale=1.0,prop={'size':14},ncol=1) \n",
    "plt.show()"
   ]
  },
  {
   "cell_type": "code",
   "execution_count": null,
   "metadata": {},
   "outputs": [],
   "source": [
    "# ^^ Look at the y-axis! Trend is not as dramatic as you might think\n",
    "fig, ax1 = plt.subplots(figsize=(8,6), facecolor='w', edgecolor='k')\n",
    "\n",
    "\n",
    "ax1.plot(pop_2014['Age'].values, pop_2014['Percent female'].values,color='b',marker=None,linestyle='-',lw=3,label='Percent female')\n",
    "\n",
    "ax1.set_xlabel('Age',fontsize=20,fontweight='bold')\n",
    "ax1.set_ylabel('Percent',fontsize=20,fontweight='bold')\n",
    "ax1.tick_params(axis='both', which='major', labelsize=20,direction='in',right='on',top='on')\n",
    "\n",
    "ax = plt.gca()\n",
    "for tick in ax.get_xticklabels():\n",
    "    tick.set_fontweight('bold')\n",
    "for tick in ax.get_yticklabels():\n",
    "    tick.set_fontweight('bold')\n",
    "\n",
    "ax1.set_ylim([0,100])\n",
    "ax1.legend(loc=0,markerscale=1.0,prop={'size':14},ncol=1) \n",
    "plt.show()"
   ]
  },
  {
   "cell_type": "markdown",
   "metadata": {},
   "source": [
    "## Scatter Plots ##"
   ]
  },
  {
   "cell_type": "code",
   "execution_count": null,
   "metadata": {},
   "outputs": [],
   "source": [
    "# Actors and their highest grossing movies\n",
    "actors = pd.read_csv('actors.csv')\n",
    "actors"
   ]
  },
  {
   "cell_type": "code",
   "execution_count": null,
   "metadata": {},
   "outputs": [],
   "source": [
    "fig, ax1 = plt.subplots(figsize=(8,6), facecolor='w', edgecolor='k')\n",
    "\n",
    "\n",
    "ax1.scatter(actors['Number of Movies'].values, actors['Total Gross'].values)\n",
    "ax1.set_xlabel('Number of Movies',fontsize=20,fontweight='bold')\n",
    "ax1.set_ylabel('Total Gross',fontsize=20,fontweight='bold')\n",
    "ax1.tick_params(axis='both', which='major', labelsize=20,direction='in',right='on',top='on')\n",
    "\n",
    "ax = plt.gca()\n",
    "for tick in ax.get_xticklabels():\n",
    "    tick.set_fontweight('bold')\n",
    "for tick in ax.get_yticklabels():\n",
    "    tick.set_fontweight('bold')\n",
    "plt.show()"
   ]
  },
  {
   "cell_type": "code",
   "execution_count": null,
   "metadata": {},
   "outputs": [],
   "source": [
    "fig, ax1 = plt.subplots(figsize=(8,6), facecolor='w', edgecolor='k')\n",
    "\n",
    "\n",
    "ax1.scatter(actors['Number of Movies'].values, actors['Average per Movie'].values)\n",
    "ax1.set_xlabel('Number of Movies',fontsize=20,fontweight='bold')\n",
    "ax1.set_ylabel('Average per Movie',fontsize=20,fontweight='bold')\n",
    "ax1.tick_params(axis='both', which='major', labelsize=20,direction='in',right='on',top='on')\n",
    "\n",
    "ax = plt.gca()\n",
    "for tick in ax.get_xticklabels():\n",
    "    tick.set_fontweight('bold')\n",
    "for tick in ax.get_yticklabels():\n",
    "    tick.set_fontweight('bold')\n",
    "plt.show()"
   ]
  },
  {
   "cell_type": "code",
   "execution_count": null,
   "metadata": {},
   "outputs": [],
   "source": [
    "actors.loc[actors['Average per Movie']>400]"
   ]
  },
  {
   "cell_type": "code",
   "execution_count": null,
   "metadata": {},
   "outputs": [],
   "source": [
    "fig, ax1 = plt.subplots(figsize=(8,6), facecolor='w', edgecolor='k')\n",
    "\n",
    "c=actors['Average per Movie'].values\n",
    "s=20\n",
    "sc=ax1.scatter(actors['Number of Movies'].values, actors['Total Gross'].values,marker='o',alpha=0.8,c=c,s=s, cmap='rainbow')\n",
    "ax1.set_xlabel('Number of Movies',fontsize=20,fontweight='bold')\n",
    "ax1.set_ylabel('Total Gross',fontsize=20,fontweight='bold')\n",
    "ax1.tick_params(axis='both', which='major', labelsize=20,direction='in',right='on',top='on')\n",
    "\n",
    "#Color bar\n",
    "cax = plt.axes([0.95, 0.120, 0.03, 0.76])\n",
    "clb = plt.colorbar(sc,cax=cax,ticks=[50,100,150,200,300,400])\n",
    "clb.ax.set_ylabel('Average per Movie',fontsize=20,fontweight='bold')\n",
    "clb.ax.tick_params(labelsize=18)\n",
    "\n",
    "ax = plt.gca()\n",
    "for tick in ax.get_xticklabels():\n",
    "    tick.set_fontweight('bold')\n",
    "for tick in ax.get_yticklabels():\n",
    "    tick.set_fontweight('bold')\n",
    "plt.show()"
   ]
  },
  {
   "cell_type": "markdown",
   "metadata": {},
   "source": [
    "## Bar Charts ##"
   ]
  },
  {
   "cell_type": "code",
   "execution_count": 3,
   "metadata": {
    "scrolled": true
   },
   "outputs": [
    {
     "data": {
      "text/html": [
       "<div>\n",
       "<style scoped>\n",
       "    .dataframe tbody tr th:only-of-type {\n",
       "        vertical-align: middle;\n",
       "    }\n",
       "\n",
       "    .dataframe tbody tr th {\n",
       "        vertical-align: top;\n",
       "    }\n",
       "\n",
       "    .dataframe thead th {\n",
       "        text-align: right;\n",
       "    }\n",
       "</style>\n",
       "<table border=\"1\" class=\"dataframe\">\n",
       "  <thead>\n",
       "    <tr style=\"text-align: right;\">\n",
       "      <th></th>\n",
       "      <th>Title</th>\n",
       "      <th>Studio</th>\n",
       "      <th>Gross</th>\n",
       "      <th>Gross (Adjusted)</th>\n",
       "      <th>Year</th>\n",
       "    </tr>\n",
       "  </thead>\n",
       "  <tbody>\n",
       "    <tr>\n",
       "      <th>0</th>\n",
       "      <td>Gone with the Wind</td>\n",
       "      <td>MGM</td>\n",
       "      <td>198676459</td>\n",
       "      <td>1796176700</td>\n",
       "      <td>1939</td>\n",
       "    </tr>\n",
       "    <tr>\n",
       "      <th>1</th>\n",
       "      <td>Star Wars</td>\n",
       "      <td>Fox</td>\n",
       "      <td>460998007</td>\n",
       "      <td>1583483200</td>\n",
       "      <td>1977</td>\n",
       "    </tr>\n",
       "    <tr>\n",
       "      <th>2</th>\n",
       "      <td>The Sound of Music</td>\n",
       "      <td>Fox</td>\n",
       "      <td>158671368</td>\n",
       "      <td>1266072700</td>\n",
       "      <td>1965</td>\n",
       "    </tr>\n",
       "    <tr>\n",
       "      <th>3</th>\n",
       "      <td>E.T.: The Extra-Terrestrial</td>\n",
       "      <td>Universal</td>\n",
       "      <td>435110554</td>\n",
       "      <td>1261085000</td>\n",
       "      <td>1982</td>\n",
       "    </tr>\n",
       "    <tr>\n",
       "      <th>4</th>\n",
       "      <td>Titanic</td>\n",
       "      <td>Paramount</td>\n",
       "      <td>658672302</td>\n",
       "      <td>1204368000</td>\n",
       "      <td>1997</td>\n",
       "    </tr>\n",
       "    <tr>\n",
       "      <th>...</th>\n",
       "      <td>...</td>\n",
       "      <td>...</td>\n",
       "      <td>...</td>\n",
       "      <td>...</td>\n",
       "      <td>...</td>\n",
       "    </tr>\n",
       "    <tr>\n",
       "      <th>195</th>\n",
       "      <td>9 to 5</td>\n",
       "      <td>Fox</td>\n",
       "      <td>103290500</td>\n",
       "      <td>341357800</td>\n",
       "      <td>1980</td>\n",
       "    </tr>\n",
       "    <tr>\n",
       "      <th>196</th>\n",
       "      <td>Batman v Superman: Dawn of Justice</td>\n",
       "      <td>Warner Brothers</td>\n",
       "      <td>330360194</td>\n",
       "      <td>340137000</td>\n",
       "      <td>2016</td>\n",
       "    </tr>\n",
       "    <tr>\n",
       "      <th>197</th>\n",
       "      <td>The Firm</td>\n",
       "      <td>Paramount</td>\n",
       "      <td>158348367</td>\n",
       "      <td>340028200</td>\n",
       "      <td>1993</td>\n",
       "    </tr>\n",
       "    <tr>\n",
       "      <th>198</th>\n",
       "      <td>Suicide Squad</td>\n",
       "      <td>Warner Brothers</td>\n",
       "      <td>325100054</td>\n",
       "      <td>339411900</td>\n",
       "      <td>2016</td>\n",
       "    </tr>\n",
       "    <tr>\n",
       "      <th>199</th>\n",
       "      <td>Who Framed Roger Rabbit</td>\n",
       "      <td>Buena Vista</td>\n",
       "      <td>156452370</td>\n",
       "      <td>338409100</td>\n",
       "      <td>1988</td>\n",
       "    </tr>\n",
       "  </tbody>\n",
       "</table>\n",
       "<p>200 rows × 5 columns</p>\n",
       "</div>"
      ],
      "text/plain": [
       "                                  Title           Studio      Gross  \\\n",
       "0                    Gone with the Wind              MGM  198676459   \n",
       "1                             Star Wars              Fox  460998007   \n",
       "2                    The Sound of Music              Fox  158671368   \n",
       "3           E.T.: The Extra-Terrestrial        Universal  435110554   \n",
       "4                               Titanic        Paramount  658672302   \n",
       "..                                  ...              ...        ...   \n",
       "195                              9 to 5              Fox  103290500   \n",
       "196  Batman v Superman: Dawn of Justice  Warner Brothers  330360194   \n",
       "197                            The Firm        Paramount  158348367   \n",
       "198                       Suicide Squad  Warner Brothers  325100054   \n",
       "199             Who Framed Roger Rabbit      Buena Vista  156452370   \n",
       "\n",
       "     Gross (Adjusted)  Year  \n",
       "0          1796176700  1939  \n",
       "1          1583483200  1977  \n",
       "2          1266072700  1965  \n",
       "3          1261085000  1982  \n",
       "4          1204368000  1997  \n",
       "..                ...   ...  \n",
       "195         341357800  1980  \n",
       "196         340137000  2016  \n",
       "197         340028200  1993  \n",
       "198         339411900  2016  \n",
       "199         338409100  1988  \n",
       "\n",
       "[200 rows x 5 columns]"
      ]
     },
     "execution_count": 3,
     "metadata": {},
     "output_type": "execute_result"
    }
   ],
   "source": [
    "# Highest grossing movies as of 2017\n",
    "top_movies = pd.read_csv('../data/top_movies_2017.csv')\n",
    "top_movies"
   ]
  },
  {
   "cell_type": "code",
   "execution_count": 4,
   "metadata": {},
   "outputs": [
    {
     "data": {
      "text/html": [
       "<div>\n",
       "<style scoped>\n",
       "    .dataframe tbody tr th:only-of-type {\n",
       "        vertical-align: middle;\n",
       "    }\n",
       "\n",
       "    .dataframe tbody tr th {\n",
       "        vertical-align: top;\n",
       "    }\n",
       "\n",
       "    .dataframe thead th {\n",
       "        text-align: right;\n",
       "    }\n",
       "</style>\n",
       "<table border=\"1\" class=\"dataframe\">\n",
       "  <thead>\n",
       "    <tr style=\"text-align: right;\">\n",
       "      <th></th>\n",
       "      <th>Title</th>\n",
       "      <th>Gross</th>\n",
       "      <th>Gross (Adjusted)</th>\n",
       "      <th>Year</th>\n",
       "    </tr>\n",
       "    <tr>\n",
       "      <th>Studio</th>\n",
       "      <th></th>\n",
       "      <th></th>\n",
       "      <th></th>\n",
       "      <th></th>\n",
       "    </tr>\n",
       "  </thead>\n",
       "  <tbody>\n",
       "    <tr>\n",
       "      <th>AVCO</th>\n",
       "      <td>1</td>\n",
       "      <td>1</td>\n",
       "      <td>1</td>\n",
       "      <td>1</td>\n",
       "    </tr>\n",
       "    <tr>\n",
       "      <th>Buena Vista</th>\n",
       "      <td>35</td>\n",
       "      <td>35</td>\n",
       "      <td>35</td>\n",
       "      <td>35</td>\n",
       "    </tr>\n",
       "    <tr>\n",
       "      <th>Columbia</th>\n",
       "      <td>9</td>\n",
       "      <td>9</td>\n",
       "      <td>9</td>\n",
       "      <td>9</td>\n",
       "    </tr>\n",
       "    <tr>\n",
       "      <th>Disney</th>\n",
       "      <td>11</td>\n",
       "      <td>11</td>\n",
       "      <td>11</td>\n",
       "      <td>11</td>\n",
       "    </tr>\n",
       "    <tr>\n",
       "      <th>Dreamworks</th>\n",
       "      <td>3</td>\n",
       "      <td>3</td>\n",
       "      <td>3</td>\n",
       "      <td>3</td>\n",
       "    </tr>\n",
       "    <tr>\n",
       "      <th>Fox</th>\n",
       "      <td>24</td>\n",
       "      <td>24</td>\n",
       "      <td>24</td>\n",
       "      <td>24</td>\n",
       "    </tr>\n",
       "    <tr>\n",
       "      <th>IFC</th>\n",
       "      <td>1</td>\n",
       "      <td>1</td>\n",
       "      <td>1</td>\n",
       "      <td>1</td>\n",
       "    </tr>\n",
       "    <tr>\n",
       "      <th>Lionsgate</th>\n",
       "      <td>3</td>\n",
       "      <td>3</td>\n",
       "      <td>3</td>\n",
       "      <td>3</td>\n",
       "    </tr>\n",
       "    <tr>\n",
       "      <th>MGM</th>\n",
       "      <td>7</td>\n",
       "      <td>7</td>\n",
       "      <td>7</td>\n",
       "      <td>7</td>\n",
       "    </tr>\n",
       "    <tr>\n",
       "      <th>Metro</th>\n",
       "      <td>1</td>\n",
       "      <td>1</td>\n",
       "      <td>1</td>\n",
       "      <td>1</td>\n",
       "    </tr>\n",
       "    <tr>\n",
       "      <th>NM</th>\n",
       "      <td>1</td>\n",
       "      <td>1</td>\n",
       "      <td>1</td>\n",
       "      <td>1</td>\n",
       "    </tr>\n",
       "    <tr>\n",
       "      <th>Newline</th>\n",
       "      <td>5</td>\n",
       "      <td>5</td>\n",
       "      <td>5</td>\n",
       "      <td>5</td>\n",
       "    </tr>\n",
       "    <tr>\n",
       "      <th>Orion</th>\n",
       "      <td>1</td>\n",
       "      <td>1</td>\n",
       "      <td>1</td>\n",
       "      <td>1</td>\n",
       "    </tr>\n",
       "    <tr>\n",
       "      <th>Paramount</th>\n",
       "      <td>25</td>\n",
       "      <td>25</td>\n",
       "      <td>25</td>\n",
       "      <td>25</td>\n",
       "    </tr>\n",
       "    <tr>\n",
       "      <th>Paramount/Dreamworks</th>\n",
       "      <td>4</td>\n",
       "      <td>4</td>\n",
       "      <td>4</td>\n",
       "      <td>4</td>\n",
       "    </tr>\n",
       "    <tr>\n",
       "      <th>RKO</th>\n",
       "      <td>3</td>\n",
       "      <td>3</td>\n",
       "      <td>3</td>\n",
       "      <td>3</td>\n",
       "    </tr>\n",
       "    <tr>\n",
       "      <th>Selz.</th>\n",
       "      <td>1</td>\n",
       "      <td>1</td>\n",
       "      <td>1</td>\n",
       "      <td>1</td>\n",
       "    </tr>\n",
       "    <tr>\n",
       "      <th>Sony</th>\n",
       "      <td>4</td>\n",
       "      <td>4</td>\n",
       "      <td>4</td>\n",
       "      <td>4</td>\n",
       "    </tr>\n",
       "    <tr>\n",
       "      <th>Sum.</th>\n",
       "      <td>1</td>\n",
       "      <td>1</td>\n",
       "      <td>1</td>\n",
       "      <td>1</td>\n",
       "    </tr>\n",
       "    <tr>\n",
       "      <th>Tristar</th>\n",
       "      <td>2</td>\n",
       "      <td>2</td>\n",
       "      <td>2</td>\n",
       "      <td>2</td>\n",
       "    </tr>\n",
       "    <tr>\n",
       "      <th>United Artists</th>\n",
       "      <td>6</td>\n",
       "      <td>6</td>\n",
       "      <td>6</td>\n",
       "      <td>6</td>\n",
       "    </tr>\n",
       "    <tr>\n",
       "      <th>Universal</th>\n",
       "      <td>23</td>\n",
       "      <td>23</td>\n",
       "      <td>23</td>\n",
       "      <td>23</td>\n",
       "    </tr>\n",
       "    <tr>\n",
       "      <th>Warner Brothers</th>\n",
       "      <td>29</td>\n",
       "      <td>29</td>\n",
       "      <td>29</td>\n",
       "      <td>29</td>\n",
       "    </tr>\n",
       "  </tbody>\n",
       "</table>\n",
       "</div>"
      ],
      "text/plain": [
       "                      Title  Gross  Gross (Adjusted)  Year\n",
       "Studio                                                    \n",
       "AVCO                      1      1                 1     1\n",
       "Buena Vista              35     35                35    35\n",
       "Columbia                  9      9                 9     9\n",
       "Disney                   11     11                11    11\n",
       "Dreamworks                3      3                 3     3\n",
       "Fox                      24     24                24    24\n",
       "IFC                       1      1                 1     1\n",
       "Lionsgate                 3      3                 3     3\n",
       "MGM                       7      7                 7     7\n",
       "Metro                     1      1                 1     1\n",
       "NM                        1      1                 1     1\n",
       "Newline                   5      5                 5     5\n",
       "Orion                     1      1                 1     1\n",
       "Paramount                25     25                25    25\n",
       "Paramount/Dreamworks      4      4                 4     4\n",
       "RKO                       3      3                 3     3\n",
       "Selz.                     1      1                 1     1\n",
       "Sony                      4      4                 4     4\n",
       "Sum.                      1      1                 1     1\n",
       "Tristar                   2      2                 2     2\n",
       "United Artists            6      6                 6     6\n",
       "Universal                23     23                23    23\n",
       "Warner Brothers          29     29                29    29"
      ]
     },
     "execution_count": 4,
     "metadata": {},
     "output_type": "execute_result"
    }
   ],
   "source": [
    "top_movies.groupby('Studio').count()"
   ]
  },
  {
   "cell_type": "code",
   "execution_count": 5,
   "metadata": {},
   "outputs": [
    {
     "data": {
      "text/html": [
       "<div>\n",
       "<style scoped>\n",
       "    .dataframe tbody tr th:only-of-type {\n",
       "        vertical-align: middle;\n",
       "    }\n",
       "\n",
       "    .dataframe tbody tr th {\n",
       "        vertical-align: top;\n",
       "    }\n",
       "\n",
       "    .dataframe thead th {\n",
       "        text-align: right;\n",
       "    }\n",
       "</style>\n",
       "<table border=\"1\" class=\"dataframe\">\n",
       "  <thead>\n",
       "    <tr style=\"text-align: right;\">\n",
       "      <th></th>\n",
       "      <th>Title</th>\n",
       "      <th>Studio</th>\n",
       "      <th>Gross</th>\n",
       "      <th>Gross (Adjusted)</th>\n",
       "      <th>Year</th>\n",
       "    </tr>\n",
       "  </thead>\n",
       "  <tbody>\n",
       "    <tr>\n",
       "      <th>0</th>\n",
       "      <td>Gone with the Wind</td>\n",
       "      <td>MGM</td>\n",
       "      <td>198676459</td>\n",
       "      <td>1796176700</td>\n",
       "      <td>1939</td>\n",
       "    </tr>\n",
       "    <tr>\n",
       "      <th>1</th>\n",
       "      <td>Star Wars</td>\n",
       "      <td>Fox</td>\n",
       "      <td>460998007</td>\n",
       "      <td>1583483200</td>\n",
       "      <td>1977</td>\n",
       "    </tr>\n",
       "    <tr>\n",
       "      <th>2</th>\n",
       "      <td>The Sound of Music</td>\n",
       "      <td>Fox</td>\n",
       "      <td>158671368</td>\n",
       "      <td>1266072700</td>\n",
       "      <td>1965</td>\n",
       "    </tr>\n",
       "    <tr>\n",
       "      <th>3</th>\n",
       "      <td>E.T.: The Extra-Terrestrial</td>\n",
       "      <td>Universal</td>\n",
       "      <td>435110554</td>\n",
       "      <td>1261085000</td>\n",
       "      <td>1982</td>\n",
       "    </tr>\n",
       "    <tr>\n",
       "      <th>4</th>\n",
       "      <td>Titanic</td>\n",
       "      <td>Paramount</td>\n",
       "      <td>658672302</td>\n",
       "      <td>1204368000</td>\n",
       "      <td>1997</td>\n",
       "    </tr>\n",
       "    <tr>\n",
       "      <th>5</th>\n",
       "      <td>The Ten Commandments</td>\n",
       "      <td>Paramount</td>\n",
       "      <td>65500000</td>\n",
       "      <td>1164590000</td>\n",
       "      <td>1956</td>\n",
       "    </tr>\n",
       "    <tr>\n",
       "      <th>6</th>\n",
       "      <td>Jaws</td>\n",
       "      <td>Universal</td>\n",
       "      <td>260000000</td>\n",
       "      <td>1138620700</td>\n",
       "      <td>1975</td>\n",
       "    </tr>\n",
       "    <tr>\n",
       "      <th>7</th>\n",
       "      <td>Doctor Zhivago</td>\n",
       "      <td>MGM</td>\n",
       "      <td>111721910</td>\n",
       "      <td>1103564200</td>\n",
       "      <td>1965</td>\n",
       "    </tr>\n",
       "    <tr>\n",
       "      <th>8</th>\n",
       "      <td>The Exorcist</td>\n",
       "      <td>Warner Brothers</td>\n",
       "      <td>232906145</td>\n",
       "      <td>983226600</td>\n",
       "      <td>1973</td>\n",
       "    </tr>\n",
       "    <tr>\n",
       "      <th>9</th>\n",
       "      <td>Snow White and the Seven Dwarves</td>\n",
       "      <td>Disney</td>\n",
       "      <td>184925486</td>\n",
       "      <td>969010000</td>\n",
       "      <td>1937</td>\n",
       "    </tr>\n",
       "  </tbody>\n",
       "</table>\n",
       "</div>"
      ],
      "text/plain": [
       "                              Title           Studio      Gross  \\\n",
       "0                Gone with the Wind              MGM  198676459   \n",
       "1                         Star Wars              Fox  460998007   \n",
       "2                The Sound of Music              Fox  158671368   \n",
       "3       E.T.: The Extra-Terrestrial        Universal  435110554   \n",
       "4                           Titanic        Paramount  658672302   \n",
       "5              The Ten Commandments        Paramount   65500000   \n",
       "6                              Jaws        Universal  260000000   \n",
       "7                    Doctor Zhivago              MGM  111721910   \n",
       "8                      The Exorcist  Warner Brothers  232906145   \n",
       "9  Snow White and the Seven Dwarves           Disney  184925486   \n",
       "\n",
       "   Gross (Adjusted)  Year  \n",
       "0        1796176700  1939  \n",
       "1        1583483200  1977  \n",
       "2        1266072700  1965  \n",
       "3        1261085000  1982  \n",
       "4        1204368000  1997  \n",
       "5        1164590000  1956  \n",
       "6        1138620700  1975  \n",
       "7        1103564200  1965  \n",
       "8         983226600  1973  \n",
       "9         969010000  1937  "
      ]
     },
     "execution_count": 5,
     "metadata": {},
     "output_type": "execute_result"
    }
   ],
   "source": [
    "top10_adjusted = top_movies.sort_values('Gross (Adjusted)',ascending=False)[0:10]\n",
    "top10_adjusted"
   ]
  },
  {
   "cell_type": "code",
   "execution_count": 6,
   "metadata": {},
   "outputs": [
    {
     "data": {
      "text/html": [
       "<div>\n",
       "<style scoped>\n",
       "    .dataframe tbody tr th:only-of-type {\n",
       "        vertical-align: middle;\n",
       "    }\n",
       "\n",
       "    .dataframe tbody tr th {\n",
       "        vertical-align: top;\n",
       "    }\n",
       "\n",
       "    .dataframe thead th {\n",
       "        text-align: right;\n",
       "    }\n",
       "</style>\n",
       "<table border=\"1\" class=\"dataframe\">\n",
       "  <thead>\n",
       "    <tr style=\"text-align: right;\">\n",
       "      <th></th>\n",
       "      <th>Title</th>\n",
       "      <th>Studio</th>\n",
       "      <th>Gross</th>\n",
       "      <th>Gross (Adjusted)</th>\n",
       "      <th>Year</th>\n",
       "      <th>Millions</th>\n",
       "    </tr>\n",
       "  </thead>\n",
       "  <tbody>\n",
       "    <tr>\n",
       "      <th>0</th>\n",
       "      <td>Gone with the Wind</td>\n",
       "      <td>MGM</td>\n",
       "      <td>198676459</td>\n",
       "      <td>1796176700</td>\n",
       "      <td>1939</td>\n",
       "      <td>1796.177</td>\n",
       "    </tr>\n",
       "    <tr>\n",
       "      <th>1</th>\n",
       "      <td>Star Wars</td>\n",
       "      <td>Fox</td>\n",
       "      <td>460998007</td>\n",
       "      <td>1583483200</td>\n",
       "      <td>1977</td>\n",
       "      <td>1583.483</td>\n",
       "    </tr>\n",
       "    <tr>\n",
       "      <th>2</th>\n",
       "      <td>The Sound of Music</td>\n",
       "      <td>Fox</td>\n",
       "      <td>158671368</td>\n",
       "      <td>1266072700</td>\n",
       "      <td>1965</td>\n",
       "      <td>1266.073</td>\n",
       "    </tr>\n",
       "    <tr>\n",
       "      <th>3</th>\n",
       "      <td>E.T.: The Extra-Terrestrial</td>\n",
       "      <td>Universal</td>\n",
       "      <td>435110554</td>\n",
       "      <td>1261085000</td>\n",
       "      <td>1982</td>\n",
       "      <td>1261.085</td>\n",
       "    </tr>\n",
       "    <tr>\n",
       "      <th>4</th>\n",
       "      <td>Titanic</td>\n",
       "      <td>Paramount</td>\n",
       "      <td>658672302</td>\n",
       "      <td>1204368000</td>\n",
       "      <td>1997</td>\n",
       "      <td>1204.368</td>\n",
       "    </tr>\n",
       "    <tr>\n",
       "      <th>5</th>\n",
       "      <td>The Ten Commandments</td>\n",
       "      <td>Paramount</td>\n",
       "      <td>65500000</td>\n",
       "      <td>1164590000</td>\n",
       "      <td>1956</td>\n",
       "      <td>1164.590</td>\n",
       "    </tr>\n",
       "    <tr>\n",
       "      <th>6</th>\n",
       "      <td>Jaws</td>\n",
       "      <td>Universal</td>\n",
       "      <td>260000000</td>\n",
       "      <td>1138620700</td>\n",
       "      <td>1975</td>\n",
       "      <td>1138.621</td>\n",
       "    </tr>\n",
       "    <tr>\n",
       "      <th>7</th>\n",
       "      <td>Doctor Zhivago</td>\n",
       "      <td>MGM</td>\n",
       "      <td>111721910</td>\n",
       "      <td>1103564200</td>\n",
       "      <td>1965</td>\n",
       "      <td>1103.564</td>\n",
       "    </tr>\n",
       "    <tr>\n",
       "      <th>8</th>\n",
       "      <td>The Exorcist</td>\n",
       "      <td>Warner Brothers</td>\n",
       "      <td>232906145</td>\n",
       "      <td>983226600</td>\n",
       "      <td>1973</td>\n",
       "      <td>983.227</td>\n",
       "    </tr>\n",
       "    <tr>\n",
       "      <th>9</th>\n",
       "      <td>Snow White and the Seven Dwarves</td>\n",
       "      <td>Disney</td>\n",
       "      <td>184925486</td>\n",
       "      <td>969010000</td>\n",
       "      <td>1937</td>\n",
       "      <td>969.010</td>\n",
       "    </tr>\n",
       "  </tbody>\n",
       "</table>\n",
       "</div>"
      ],
      "text/plain": [
       "                              Title           Studio      Gross  \\\n",
       "0                Gone with the Wind              MGM  198676459   \n",
       "1                         Star Wars              Fox  460998007   \n",
       "2                The Sound of Music              Fox  158671368   \n",
       "3       E.T.: The Extra-Terrestrial        Universal  435110554   \n",
       "4                           Titanic        Paramount  658672302   \n",
       "5              The Ten Commandments        Paramount   65500000   \n",
       "6                              Jaws        Universal  260000000   \n",
       "7                    Doctor Zhivago              MGM  111721910   \n",
       "8                      The Exorcist  Warner Brothers  232906145   \n",
       "9  Snow White and the Seven Dwarves           Disney  184925486   \n",
       "\n",
       "   Gross (Adjusted)  Year  Millions  \n",
       "0        1796176700  1939  1796.177  \n",
       "1        1583483200  1977  1583.483  \n",
       "2        1266072700  1965  1266.073  \n",
       "3        1261085000  1982  1261.085  \n",
       "4        1204368000  1997  1204.368  \n",
       "5        1164590000  1956  1164.590  \n",
       "6        1138620700  1975  1138.621  \n",
       "7        1103564200  1965  1103.564  \n",
       "8         983226600  1973   983.227  \n",
       "9         969010000  1937   969.010  "
      ]
     },
     "execution_count": 6,
     "metadata": {},
     "output_type": "execute_result"
    }
   ],
   "source": [
    "# Convert to millions of dollars for readability\n",
    "millions = np.round(top10_adjusted['Gross (Adjusted)'].values / 1000000, 3)\n",
    "top10_adjusted['Millions']= millions\n",
    "top10_adjusted"
   ]
  },
  {
   "cell_type": "code",
   "execution_count": 7,
   "metadata": {},
   "outputs": [
    {
     "data": {
      "image/png": "[encoded data removed]",
      "text/plain": [
       "<Figure size 800x600 with 1 Axes>"
      ]
     },
     "metadata": {},
     "output_type": "display_data"
    }
   ],
   "source": [
    "# A line plot doesn't make sense here: don't do this!\n",
    "fig, ax1 = plt.subplots(figsize=(8,6), facecolor='w', edgecolor='k')\n",
    "\n",
    "\n",
    "ax1.plot(top10_adjusted['Year'].values, top10_adjusted['Millions'].values)\n",
    "ax1.set_xlabel('Year',fontsize=20,fontweight='bold')\n",
    "ax1.set_ylabel('Millions',fontsize=20,fontweight='bold')\n",
    "ax1.tick_params(axis='both', which='major', labelsize=20,direction='in',right='on',top='on')\n",
    "\n",
    "ax = plt.gca()\n",
    "for tick in ax.get_xticklabels():\n",
    "    tick.set_fontweight('bold')\n",
    "for tick in ax.get_yticklabels():\n",
    "    tick.set_fontweight('bold')\n",
    "plt.show()"
   ]
  },
  {
   "cell_type": "code",
   "execution_count": 8,
   "metadata": {
    "scrolled": true
   },
   "outputs": [
    {
     "data": {
      "image/png": "[encoded data removed]",
      "text/plain": [
       "<Figure size 800x600 with 1 Axes>"
      ]
     },
     "metadata": {},
     "output_type": "display_data"
    }
   ],
   "source": [
    "fig, ax1 = plt.subplots(figsize=(8,6), facecolor='w', edgecolor='k')\n",
    "\n",
    "\n",
    "ax1.plot(top10_adjusted['Millions'].values,top10_adjusted['Title'].values)\n",
    "ax1.set_ylabel('Title',fontsize=20,fontweight='bold')\n",
    "ax1.set_xlabel('Millions',fontsize=20,fontweight='bold')\n",
    "ax1.tick_params(axis='both', which='major', labelsize=20,direction='in',right='on',top='on')\n",
    "\n",
    "ax = plt.gca()\n",
    "for tick in ax.get_xticklabels():\n",
    "    tick.set_fontweight('bold')\n",
    "for tick in ax.get_yticklabels():\n",
    "    tick.set_fontweight('bold')\n",
    "plt.show()"
   ]
  },
  {
   "cell_type": "code",
   "execution_count": 9,
   "metadata": {},
   "outputs": [
    {
     "data": {
      "image/png": "[encoded data removed]",
      "text/plain": [
       "<Figure size 800x600 with 1 Axes>"
      ]
     },
     "metadata": {},
     "output_type": "display_data"
    }
   ],
   "source": [
    "fig, ax1 = plt.subplots(figsize=(8,6), facecolor='w', edgecolor='k')\n",
    "\n",
    "# Horizontal Bar Plot\n",
    "ax1.barh(top10_adjusted['Title'].values,top10_adjusted['Millions'].values)\n",
    "ax1.set_ylabel('Title',fontsize=20,fontweight='bold')\n",
    "ax1.set_xlabel('Millions',fontsize=20,fontweight='bold')\n",
    "ax1.tick_params(axis='both', which='major', labelsize=20,direction='in',right='on',top='on')\n",
    "\n",
    "# Show top values\n",
    "ax1.invert_yaxis()\n",
    " \n",
    "# Add annotation to bars\n",
    "for i in ax1.patches:\n",
    "    plt.text(i.get_width()+0.2, i.get_y()+0.5,\n",
    "             str(round((i.get_width()), 2)),\n",
    "             fontsize=10, fontweight='bold',\n",
    "             color='black')\n",
    "\n",
    "\n",
    "ax = plt.gca()\n",
    "for tick in ax.get_xticklabels():\n",
    "    tick.set_fontweight('bold')\n",
    "for tick in ax.get_yticklabels():\n",
    "    tick.set_fontweight('bold')\n",
    "# Remove axes splines\n",
    "ax1.spines[['right', 'top','left','bottom']].set_visible(False) \n",
    "\n",
    "ax1.tick_params(axis='x',          # changes apply to the x-axis\n",
    "    which='both',      # both major and minor ticks are affected\n",
    "    bottom=False,      # ticks along the bottom edge are off\n",
    "    top=False,         # ticks along the top edge are off\n",
    "    labelbottom=False) # labels along the bottom edge are off\n",
    "\n",
    "ax1.tick_params(axis='y',          # changes apply to the x-axis\n",
    "    which='both',      # both major and minor ticks are affected\n",
    "    left=False,      # ticks along the bottom edge are off\n",
    "    right=False,         # ticks along the top edge are off\n",
    "    labelbottom=False) # labels along the bottom edge are off\n",
    "    \n",
    "plt.show()"
   ]
  },
  {
   "cell_type": "markdown",
   "metadata": {},
   "source": [
    "## Categorical Distribution ##"
   ]
  },
  {
   "cell_type": "code",
   "execution_count": 11,
   "metadata": {},
   "outputs": [],
   "source": [
    "studio_distribution=top_movies.groupby('Studio')['Year'].agg('count').reset_index()"
   ]
  },
  {
   "cell_type": "code",
   "execution_count": 12,
   "metadata": {},
   "outputs": [],
   "source": [
    "studio_distribution=studio_distribution.sort_values(['Year'],ascending=False)"
   ]
  },
  {
   "cell_type": "code",
   "execution_count": 13,
   "metadata": {},
   "outputs": [
    {
     "data": {
      "text/plain": [
       "200"
      ]
     },
     "execution_count": 13,
     "metadata": {},
     "output_type": "execute_result"
    }
   ],
   "source": [
    "sum(studio_distribution.Year)"
   ]
  },
  {
   "cell_type": "markdown",
   "metadata": {},
   "source": [
    "## Bar Charts ##"
   ]
  },
  {
   "cell_type": "code",
   "execution_count": 14,
   "metadata": {},
   "outputs": [
    {
     "data": {
      "image/png": "[encoded data removed]",
      "text/plain": [
       "<Figure size 800x600 with 1 Axes>"
      ]
     },
     "metadata": {},
     "output_type": "display_data"
    }
   ],
   "source": [
    "fig, ax1 = plt.subplots(figsize=(8,6), facecolor='w', edgecolor='k')\n",
    "\n",
    "# Horizontal Bar Plot\n",
    "ax1.barh(studio_distribution.Studio,studio_distribution.Year)\n",
    "ax1.set_ylabel('Studio',fontsize=20,fontweight='bold')\n",
    "ax1.set_xlabel('# of movies',fontsize=20,fontweight='bold')\n",
    "ax1.tick_params(axis='both', which='major', labelsize=10,direction='in',right='on',top='on')\n",
    "\n",
    "# Show top values\n",
    "ax1.invert_yaxis()\n",
    " \n",
    "# Add annotation to bars\n",
    "for i in ax1.patches:\n",
    "    plt.text(i.get_width()+0.2, i.get_y()+0.5,\n",
    "             str(round((i.get_width()), 2)),\n",
    "             fontsize=10, fontweight='bold',\n",
    "             color='black')\n",
    "\n",
    "\n",
    "ax = plt.gca()\n",
    "for tick in ax.get_xticklabels():\n",
    "    tick.set_fontweight('bold')\n",
    "for tick in ax.get_yticklabels():\n",
    "    tick.set_fontweight('bold')\n",
    "    \n",
    "plt.show()"
   ]
  },
  {
   "cell_type": "code",
   "execution_count": null,
   "metadata": {},
   "outputs": [],
   "source": []
  },
  {
   "cell_type": "markdown",
   "metadata": {},
   "source": [
    "## Numerical Distribution ##"
   ]
  },
  {
   "cell_type": "code",
   "execution_count": null,
   "metadata": {},
   "outputs": [],
   "source": [
    "ages = 2024 - top_movies.Year.values\n",
    "top_movies['Age'] = ages"
   ]
  },
  {
   "cell_type": "code",
   "execution_count": null,
   "metadata": {},
   "outputs": [],
   "source": [
    "top_movies"
   ]
  },
  {
   "cell_type": "markdown",
   "metadata": {},
   "source": [
    "## Binning and histograms ##"
   ]
  },
  {
   "cell_type": "code",
   "execution_count": null,
   "metadata": {},
   "outputs": [],
   "source": [
    "min(ages), max(ages)"
   ]
  },
  {
   "cell_type": "code",
   "execution_count": null,
   "metadata": {},
   "outputs": [],
   "source": [
    "my_bins = np.array([0, 5, 10, 15, 25, 40, 65, 100])"
   ]
  },
  {
   "cell_type": "code",
   "execution_count": null,
   "metadata": {},
   "outputs": [],
   "source": [
    "# utiliser la fonction histogram de NumPy\n",
    "counts, bins = np.histogram(top_movies['Age'].values, bins=my_bins)\n",
    "print(counts,bins)"
   ]
  },
  {
   "cell_type": "code",
   "execution_count": null,
   "metadata": {},
   "outputs": [],
   "source": [
    "fig, ax1 = plt.subplots(figsize=(8,6), facecolor='w', edgecolor='k')\n",
    "\n",
    "# Horizontal Bar Plot\n",
    "ax1.hist(top_movies['Age'].values, bins=my_bins)\n",
    "ax1.set_ylabel('#of movies',fontsize=20,fontweight='bold')\n",
    "ax1.set_xlabel('Age',fontsize=20,fontweight='bold')\n",
    "ax1.tick_params(axis='both', which='major', labelsize=10,direction='in',right='on',top='on')\n",
    "plt.show()"
   ]
  },
  {
   "cell_type": "code",
   "execution_count": null,
   "metadata": {},
   "outputs": [],
   "source": [
    "fig, ax1 = plt.subplots(figsize=(8,6), facecolor='w', edgecolor='k')\n",
    "\n",
    "# Horizontal Bar Plot\n",
    "ax1.hist(top_movies['Age'].values,histtype='step',color='r', alpha=0.7,lw=3)\n",
    "ax1.set_ylabel('#of movies',fontsize=20,fontweight='bold')\n",
    "ax1.set_xlabel('Age',fontsize=20,fontweight='bold')\n",
    "ax1.tick_params(axis='both', which='major', labelsize=10,direction='in',right='on',top='on')\n",
    "plt.show()"
   ]
  },
  {
   "cell_type": "code",
   "execution_count": null,
   "metadata": {},
   "outputs": [],
   "source": [
    "t=pd.DataFrame(pd.cut(top_movies['Age'].values, bins=my_bins).value_counts())\n",
    "t"
   ]
  },
  {
   "cell_type": "code",
   "execution_count": null,
   "metadata": {},
   "outputs": [],
   "source": [
    "len(bins),len(counts)\n",
    "binss=[bins[j+1]-bins[j] for j in range(len(bins)-1)]\n",
    "counts_pd=pd.cut(top_movies['Age'].values, bins=my_bins).value_counts()\n",
    "data={'Age counts pd':bins_name,'Bin size':binss,'Age counts':counts,'Percent':100*counts/200}\n",
    "binned_data=pd.DataFrame(data)\n",
    "binned_data"
   ]
  },
  {
   "cell_type": "markdown",
   "metadata": {},
   "source": [
    "## Height ##\n",
    "\n",
    "### Question: What is the height of the [40, 65] bin?"
   ]
  },
  {
   "cell_type": "code",
   "execution_count": null,
   "metadata": {},
   "outputs": [],
   "source": [
    "# Step 1: Calculate % of movies in the [40, 65) bin\n",
    "\n",
    "percent = 21.5"
   ]
  },
  {
   "cell_type": "code",
   "execution_count": null,
   "metadata": {},
   "outputs": [],
   "source": [
    "# Step 2: Calculate the width of the 40-65 bin\n",
    "width = 65 - 40"
   ]
  },
  {
   "cell_type": "code",
   "execution_count": null,
   "metadata": {},
   "outputs": [],
   "source": [
    "# Step 3: Area of rectangle = height * width\n",
    "#         --> height = percent / width\n",
    "height = percent / width\n",
    "height"
   ]
  },
  {
   "cell_type": "markdown",
   "metadata": {},
   "source": [
    "## Visualization Review: Welcome Survey ##"
   ]
  },
  {
   "cell_type": "code",
   "execution_count": null,
   "metadata": {},
   "outputs": [],
   "source": [
    "survey = pd.read_csv('welcome_survey_v1.csv')\n",
    "survey"
   ]
  },
  {
   "cell_type": "markdown",
   "metadata": {},
   "source": [
    "### Categorical Bar Charts"
   ]
  },
  {
   "cell_type": "code",
   "execution_count": null,
   "metadata": {
    "scrolled": true
   },
   "outputs": [],
   "source": [
    "handedness = survey.groupby('Handedness')['Hours of sleep'].agg('count').reset_index()\n",
    "handedness"
   ]
  },
  {
   "cell_type": "code",
   "execution_count": null,
   "metadata": {},
   "outputs": [],
   "source": [
    "fig, ax1 = plt.subplots(figsize=(8,6), facecolor='w', edgecolor='k')\n",
    "\n",
    "# Horizontal Bar Plot\n",
    "ax1.barh(handedness.Handedness,handedness['Hours of sleep'])\n",
    "ax1.set_ylabel('Handedness',fontsize=20,fontweight='bold')\n",
    "ax1.set_xlabel('Counts',fontsize=20,fontweight='bold')\n",
    "ax1.tick_params(axis='both', which='major', labelsize=10,direction='in',right='on',top='on')\n",
    "\n",
    "# Show top values\n",
    "ax1.invert_yaxis()\n",
    " \n",
    "# Add annotation to bars\n",
    "for i in ax1.patches:\n",
    "    plt.text(i.get_width()+0.2, i.get_y()+0.5,\n",
    "             str(round((i.get_width()), 2)),\n",
    "             fontsize=10, fontweight='bold',\n",
    "             color='black')\n",
    "\n",
    "\n",
    "ax = plt.gca()\n",
    "for tick in ax.get_xticklabels():\n",
    "    tick.set_fontweight('bold')\n",
    "for tick in ax.get_yticklabels():\n",
    "    tick.set_fontweight('bold')\n",
    "    \n",
    "plt.show()"
   ]
  },
  {
   "cell_type": "markdown",
   "metadata": {},
   "source": [
    "### Numerical Histograms"
   ]
  },
  {
   "cell_type": "code",
   "execution_count": null,
   "metadata": {},
   "outputs": [],
   "source": [
    "fig, ax1 = plt.subplots(figsize=(8,6), facecolor='w', edgecolor='k')\n",
    "\n",
    "# Horizontal Bar Plot\n",
    "ax1.hist(survey['Extraversion'],rwidth=0.9)\n",
    "ax1.set_ylabel('counts',fontsize=20,fontweight='bold')\n",
    "ax1.set_xlabel('Extraversion',fontsize=20,fontweight='bold')\n",
    "ax1.tick_params(axis='both', which='major', labelsize=10,direction='in',right='on',top='on')\n",
    "\n",
    " \n",
    "\n",
    "\n",
    "ax = plt.gca()\n",
    "for tick in ax.get_xticklabels():\n",
    "    tick.set_fontweight('bold')\n",
    "for tick in ax.get_yticklabels():\n",
    "    tick.set_fontweight('bold')\n",
    "    \n",
    "plt.show()"
   ]
  },
  {
   "cell_type": "code",
   "execution_count": null,
   "metadata": {},
   "outputs": [],
   "source": [
    "fig, ax1 = plt.subplots(figsize=(8,6), facecolor='w', edgecolor='k')\n",
    "\n",
    "# Horizontal Bar Plot\n",
    "ax1.hist(survey['Hours of sleep'],rwidth=0.9)\n",
    "ax1.set_ylabel('counts',fontsize=20,fontweight='bold')\n",
    "ax1.set_xlabel('Hours of sleep',fontsize=20,fontweight='bold')\n",
    "ax1.tick_params(axis='both', which='major', labelsize=10,direction='in',right='on',top='on')\n",
    "\n",
    " \n",
    "\n",
    "\n",
    "ax = plt.gca()\n",
    "for tick in ax.get_xticklabels():\n",
    "    tick.set_fontweight('bold')\n",
    "for tick in ax.get_yticklabels():\n",
    "    tick.set_fontweight('bold')\n",
    "    \n",
    "plt.show()"
   ]
  },
  {
   "cell_type": "code",
   "execution_count": null,
   "metadata": {},
   "outputs": [],
   "source": [
    "max(survey['Hours of sleep'])"
   ]
  },
  {
   "cell_type": "code",
   "execution_count": null,
   "metadata": {},
   "outputs": [],
   "source": [
    "sleep_bins = np.arange(4,12,0.5)"
   ]
  },
  {
   "cell_type": "code",
   "execution_count": null,
   "metadata": {},
   "outputs": [],
   "source": [
    "right=survey[survey['Pant leg'].str.contains('Right', regex=False)]\n",
    "left=survey[survey['Pant leg'].str.contains('Left', regex=False)]\n",
    "fig, ax1 = plt.subplots(figsize=(8,6), facecolor='w', edgecolor='k')\n",
    "\n",
    "# Horizontal Bar Plot\n",
    "ax1.hist(left['Hours of sleep'],rwidth=0.9,bins=sleep_bins)\n",
    "ax1.set_ylabel('counts',fontsize=20,fontweight='bold')\n",
    "ax1.set_xlabel('Hours of sleep',fontsize=20,fontweight='bold')\n",
    "ax1.tick_params(axis='both', which='major', labelsize=10,direction='in',right='on',top='on')\n",
    "ax1.set_title('Left leg first',fontsize=20,fontweight='bold')\n",
    " \n",
    "\n",
    "\n",
    "ax = plt.gca()\n",
    "for tick in ax.get_xticklabels():\n",
    "    tick.set_fontweight('bold')\n",
    "for tick in ax.get_yticklabels():\n",
    "    tick.set_fontweight('bold')\n",
    "    \n",
    "plt.show()\n"
   ]
  },
  {
   "cell_type": "code",
   "execution_count": null,
   "metadata": {},
   "outputs": [],
   "source": [
    "fig, ax1 = plt.subplots(figsize=(8,6), facecolor='w', edgecolor='k')\n",
    "\n",
    "# Horizontal Bar Plot\n",
    "ax1.hist(right['Hours of sleep'],rwidth=0.9,bins=sleep_bins)\n",
    "ax1.set_ylabel('counts',fontsize=20,fontweight='bold')\n",
    "ax1.set_xlabel('Hours of sleep',fontsize=20,fontweight='bold')\n",
    "ax1.tick_params(axis='both', which='major', labelsize=10,direction='in',right='on',top='on')\n",
    "ax1.set_title('Right leg first',fontsize=20,fontweight='bold')\n",
    " \n",
    "\n",
    "\n",
    "ax = plt.gca()\n",
    "for tick in ax.get_xticklabels():\n",
    "    tick.set_fontweight('bold')\n",
    "for tick in ax.get_yticklabels():\n",
    "    tick.set_fontweight('bold')\n",
    "    \n",
    "plt.show()"
   ]
  },
  {
   "cell_type": "markdown",
   "metadata": {},
   "source": [
    "## Histogram Review: Heights and Heredity ##"
   ]
  },
  {
   "cell_type": "code",
   "execution_count": null,
   "metadata": {},
   "outputs": [],
   "source": [
    "galton = pd.read_csv('galton.csv')\n",
    "galton"
   ]
  },
  {
   "cell_type": "code",
   "execution_count": null,
   "metadata": {},
   "outputs": [],
   "source": [
    "fig, ax1 = plt.subplots(figsize=(8,6), facecolor='w', edgecolor='k')\n",
    "\n",
    "ax1.hist(galton.midparentHeight,histtype='step',color='k', alpha=0.4,lw=4,zorder=1,label='midparentHeight')\n",
    "\n",
    "ax1.hist(galton.childHeight,histtype='step',color='r', alpha=0.4,lw=4,zorder=1,label='childHeight')\n",
    "\n",
    "ax1.set_xlabel('height',fontsize=20,fontweight='bold')\n",
    "ax1.tick_params(axis='both', which='major', labelsize=20,direction='in',right='on',top='on')\n",
    "ax1.legend(loc=0,markerscale=1.0,prop={'size':14},ncol=1) \n",
    "plt.show()"
   ]
  },
  {
   "cell_type": "code",
   "execution_count": null,
   "metadata": {},
   "outputs": [],
   "source": [
    "data={'Person': np.array(['Jim', 'Pam', 'Michael', 'Creed']),\n",
    "    'Birth Year': np.array([1985, 1988, 1967, 1904])}\n",
    "ages=pd.DataFrame(data)\n",
    "ages\n",
    "\n"
   ]
  },
  {
   "cell_type": "code",
   "execution_count": null,
   "metadata": {},
   "outputs": [],
   "source": [
    "def name_and_age(name, year):\n",
    "    age = 2019 - year\n",
    "    return name + ' is ' + str(age)\n",
    "\n"
   ]
  },
  {
   "cell_type": "code",
   "execution_count": null,
   "metadata": {},
   "outputs": [],
   "source": [
    "ages.apply(lambda x: name_and_age(x['Person'], x['Birth Year']), axis=1) "
   ]
  },
  {
   "cell_type": "code",
   "execution_count": null,
   "metadata": {},
   "outputs": [],
   "source": []
  },
  {
   "cell_type": "code",
   "execution_count": null,
   "metadata": {},
   "outputs": [],
   "source": []
  }
 ],
 "metadata": {
  "anaconda-cloud": {},
  "kernelspec": {
   "display_name": "Python 3 (ipykernel)",
   "language": "python",
   "name": "python3"
  },
  "language_info": {
   "codemirror_mode": {
    "name": "ipython",
    "version": 3
   },
   "file_extension": ".py",
   "mimetype": "text/x-python",
   "name": "python",
   "nbconvert_exporter": "python",
   "pygments_lexer": "ipython3",
   "version": "3.11.8"
  }
 },
 "nbformat": 4,
 "nbformat_minor": 4
}
