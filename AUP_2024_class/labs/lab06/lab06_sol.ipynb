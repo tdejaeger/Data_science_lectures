{
 "cells": [
  {
   "cell_type": "code",
   "execution_count": null,
   "metadata": {
    "deletable": false,
    "editable": false
   },
   "outputs": [],
   "source": [
    "# Initialize Otter\n",
    "import otter\n",
    "grader = otter.Notebook(\"lab06.ipynb\")"
   ]
  },
  {
   "cell_type": "markdown",
   "metadata": {},
   "source": [
    "## Lab 6: Examining the Therapeutic Touch\n",
    "\n",
    "Welcome to Lab 6!\n",
    "\n",
    "After such an extensive introduction to programming for data science, we are finally moving into the section of the course where we can apply our new skils to answer real questions.  \n",
    "\n",
    "In this lab, we'll use testing techniques that were introduced in lecture to test the idea of the therapeutic touch, the idea that some practitioner can feel and massage your human energy field. "
   ]
  },
  {
   "cell_type": "code",
   "execution_count": 1,
   "metadata": {},
   "outputs": [],
   "source": [
    "# Run this cell, but please don't change it.\n",
    "\n",
    "# These lines import the Numpy and Datascience modules.\n",
    "import numpy as np\n",
    "# These lines do some fancy plotting magic\n",
    "import matplotlib\n",
    "%matplotlib inline\n",
    "import matplotlib.pyplot as plt\n",
    "import warnings\n",
    "warnings.simplefilter('ignore', FutureWarning)\n",
    "from matplotlib import patches\n",
    "from ipywidgets import interact, interactive, fixed\n",
    "import ipywidgets as widgets\n"
   ]
  },
  {
   "cell_type": "markdown",
   "metadata": {},
   "source": [
    "### What is the Therapeutic Touch\n",
    "\n",
    "The Therapeutic Touch (TT) is the idea that everyone can feel the Human Energy Field (HEF) around individuals.  Those who practice TT have described different people's HEFs as \"warm as Jell-O\" and \"tactile as taffy.\" \n",
    "\n",
    "TT was a popular technique used throughout the 20th century that was toted as a great way to bring balance to a person's health. Certain practitioners claim they have the ability to feel the HEF and can massage it in order to promote health and relaxation in individuals.\n",
    "\n",
    "### Emily Rosa\n",
    "\n",
    "[Emily Rosa](https://en.wikipedia.org/wiki/Emily_Rosa) was a 4th grade student who was very familiar with the world of TT, thanks to her parents, who were both medical practitioners and skeptics of TT.\n",
    "\n",
    "For her 4th grade science fair project, Emily decided to test whether or not TT practitioners could truly interact with a person's HEF. She later went on to publish her work in TT, becoming the youngest person to have a research paper published in a peer reviewed medical journal."
   ]
  },
  {
   "cell_type": "markdown",
   "metadata": {},
   "source": [
    "### Emily's Experiment\n",
    "\n",
    "Emily's experiment was clean, simple, and effective. Due to her parents' occupations in the medical field, she had wide access to people who claimed to be TT practitioners. \n",
    "\n",
    "Emily took 21 TT practitioners and used them for her science experiment. She would take a TT practitioner and ask them to extend their hands through a screen (which they can't see through). Emily would be on the other side and would flip a fair coin. Depending on how the coin landed, she would put out either her left hand or her right hand. The TT practitioner would then have to answer which hand Emily put out. If a pracitioner could truly interact with a person's HEF, it would be expected that they answered correctly.\n",
    "\n",
    "Overall, through 210 samples, the practitioner picked the correct hand 44% of the time. \n",
    "\n",
    "Emily's main goal here was to test whether or not the TT practicioners' guesses were random, like the flip of a coin. In most medical experiments, this is the norm. We want to test whether or not the treatment has an effect, *not* whether or not the treatment actually works. \n",
    "\n",
    "We will now begin to formulate this experiment in terms of the terminology we learned in this course. "
   ]
  },
  {
   "cell_type": "markdown",
   "metadata": {
    "deletable": false,
    "editable": false
   },
   "source": [
    "**Question 1**: Describe Emily’s model for how likely the TT practitioners are to choose the correct hand. What alternative model is her model meant to discredit? Discuss with students around you to come to a conclusion. Check in with a TA or LA if you are stuck.\n",
    "\n",
    "<!--\n",
    "BEGIN QUESTION\n",
    "name: q1_1\n",
    "-->"
   ]
  },
  {
   "cell_type": "markdown",
   "metadata": {},
   "source": [
    "If π represents the probability of picking the correct hand, specify the null and alternative hypotheses. \n",
    "H o : π > 0.5 \n",
    "H a : π < 0.5 \n",
    "\n",
    "There isn't a real solution, but you want to get the students to start thinking about creating experiments in\n",
    "order to test a hypothesis\n",
    "\n",
    "Emily's Hypothesis: The TT practitioenrs answers were aqually random and any devation that was observed\n",
    "from this was due to chance.\n",
    "Alternative Hypothesis: The TT practitioners answers were not random"
   ]
  },
  {
   "cell_type": "markdown",
   "metadata": {
    "deletable": false,
    "editable": false
   },
   "source": [
    "**Question 2:** Remember that the practitioner got the correct answer 44% (0.44) of the time. According to Emily's model, on average, what proportion of times do we expect the practitioner to guess the correct hand? Make sure your answer is between 0 and 1. \n",
    "\n",
    "<!--\n",
    "BEGIN QUESTION\n",
    "name: q1_2\n",
    "-->"
   ]
  },
  {
   "cell_type": "code",
   "execution_count": 7,
   "metadata": {},
   "outputs": [
    {
     "data": {
      "text/plain": [
       "0.5"
      ]
     },
     "execution_count": 7,
     "metadata": {},
     "output_type": "execute_result"
    }
   ],
   "source": [
    "expected_proportion_correct = 0.5\n",
    "expected_proportion_correct"
   ]
  },
  {
   "cell_type": "code",
   "execution_count": null,
   "metadata": {
    "deletable": false,
    "editable": false
   },
   "outputs": [],
   "source": [
    "grader.check(\"q1_2\")"
   ]
  },
  {
   "cell_type": "markdown",
   "metadata": {
    "deletable": false,
    "editable": false
   },
   "source": [
    "The goal now is to see if our deviation from this expected proportion of correct answers is due to something other than chance. \n",
    "\n",
    "**Question 3:** We usually use a statistic to help determine which model the evidence points towards. What is a statistic that we can use to compare outcomes under Emily’s model to what was observed? Assign `valid_stat` to an array of integer(s) representing test statistics that Emily can use: \n",
    "\n",
    "1. The difference between the expected percent correct and the actual percent correct\n",
    "2. The absolute difference between the expected percent correct and the actual percent correct\n",
    "3. The sum of the expected percent correct and the actual percent correct\n",
    "\n",
    "\n",
    "<!--\n",
    "BEGIN QUESTION\n",
    "name: q1_3\n",
    "-->"
   ]
  },
  {
   "cell_type": "code",
   "execution_count": 2,
   "metadata": {},
   "outputs": [
    {
     "data": {
      "text/plain": [
       "array([2])"
      ]
     },
     "execution_count": 2,
     "metadata": {},
     "output_type": "execute_result"
    }
   ],
   "source": [
    "valid_stat = np.array([2])\n",
    "valid_stat"
   ]
  },
  {
   "cell_type": "code",
   "execution_count": null,
   "metadata": {
    "deletable": false,
    "editable": false
   },
   "outputs": [],
   "source": [
    "grader.check(\"q1_3\")"
   ]
  },
  {
   "cell_type": "markdown",
   "metadata": {
    "deletable": false,
    "editable": false
   },
   "source": [
    "**Question 4:** Why is the statistic from Question 3 the best choice for comparing outcomes in Emily's experiment? How does it relate to the models you defined in question 1?\n",
    "\n",
    "<!--\n",
    "BEGIN QUESTION\n",
    "name: q1_4\n",
    "-->"
   ]
  },
  {
   "cell_type": "markdown",
   "metadata": {},
   "source": [
    "_Type your answer here, replacing this text._"
   ]
  },
  {
   "cell_type": "markdown",
   "metadata": {
    "deletable": false,
    "editable": false
   },
   "source": [
    "**Question 5:** Define the function `statistic` which takes in an expected proportion and an actual proportion, and returns the value of the statistic chosen in Question 3. Assume that the argument takes in proportions, but  return your answer as a percentage. \n",
    "\n",
    "*Hint:* Remember we are asking for a **percentage**, not a proportion. \n",
    "\n",
    "<!--\n",
    "BEGIN QUESTION\n",
    "name: q1_5\n",
    "-->"
   ]
  },
  {
   "cell_type": "code",
   "execution_count": 4,
   "metadata": {},
   "outputs": [],
   "source": [
    "def statistic(expected_prop, actual_prop):\n",
    "    return 100 * abs(expected_prop - actual_prop)"
   ]
  },
  {
   "cell_type": "code",
   "execution_count": null,
   "metadata": {
    "deletable": false,
    "editable": false
   },
   "outputs": [],
   "source": [
    "grader.check(\"q1_5\")"
   ]
  },
  {
   "cell_type": "markdown",
   "metadata": {
    "deletable": false,
    "editable": false
   },
   "source": [
    "**Question 6:** Use your newly defined function to calculate the observed statistic from Emily's experiment. \n",
    "\n",
    "<!--\n",
    "BEGIN QUESTION\n",
    "name: q1_6\n",
    "-->"
   ]
  },
  {
   "cell_type": "code",
   "execution_count": 8,
   "metadata": {},
   "outputs": [
    {
     "data": {
      "text/plain": [
       "6.0"
      ]
     },
     "execution_count": 8,
     "metadata": {},
     "output_type": "execute_result"
    }
   ],
   "source": [
    "observed_statistic = statistic(expected_proportion_correct,.44)\n",
    "observed_statistic"
   ]
  },
  {
   "cell_type": "code",
   "execution_count": 9,
   "metadata": {
    "deletable": false,
    "editable": false
   },
   "outputs": [
    {
     "ename": "NameError",
     "evalue": "name 'grader' is not defined",
     "output_type": "error",
     "traceback": [
      "\u001b[0;31m---------------------------------------------------------------------------\u001b[0m",
      "\u001b[0;31mNameError\u001b[0m                                 Traceback (most recent call last)",
      "\u001b[0;32m/tmp/ipykernel_925014/841589129.py\u001b[0m in \u001b[0;36m<module>\u001b[0;34m\u001b[0m\n\u001b[0;32m----> 1\u001b[0;31m \u001b[0mgrader\u001b[0m\u001b[0;34m.\u001b[0m\u001b[0mcheck\u001b[0m\u001b[0;34m(\u001b[0m\u001b[0;34m\"q1_6\"\u001b[0m\u001b[0;34m)\u001b[0m\u001b[0;34m\u001b[0m\u001b[0;34m\u001b[0m\u001b[0m\n\u001b[0m",
      "\u001b[0;31mNameError\u001b[0m: name 'grader' is not defined"
     ]
    }
   ],
   "source": [
    "grader.check(\"q1_6\")"
   ]
  },
  {
   "cell_type": "markdown",
   "metadata": {},
   "source": [
    "**Is this observed statistic consistent with what we might see under Emily’s model?**\n",
    "\n",
    "In order to answer this question, we must simulate the experiment as though Emily's model was correct, and calculate our statistic for every simulation.\n",
    "\n",
    "### `sample_proportions`\n",
    "\n",
    "`sample_proportions` can be used to randomly sample from multiple categories when you know the proportion of data points that are expected to fall in each category. `sample_proportions` takes two arguments: the sample size and an array that contains the distribution of categories in the population (should sum to 1).\n",
    "\n",
    "Consider flipping a fair coin, where the two outcomes (coin lands heads and coin lands tails) occur with an equal chance. We expect that half of all coin flips will land heads, and half of all coin flips will land tails.\n",
    "\n",
    "Run the following cell to see the simulation of 10 flips of a fair coin. Let the first item of `coin_proportions` be the proportion of heads and the second item of `coin_proportions` be the proportion of tails."
   ]
  },
  {
   "cell_type": "code",
   "execution_count": 23,
   "metadata": {},
   "outputs": [
    {
     "data": {
      "text/plain": [
       "array([0.55, 0.45])"
      ]
     },
     "execution_count": 23,
     "metadata": {},
     "output_type": "execute_result"
    }
   ],
   "source": [
    "import random\n",
    "coin_proportions = np.array([0.5, 0.5])\n",
    "sample_size=100\n",
    "ten_flips = np.random.multinomial(sample_size, coin_proportions) / sample_size\n",
    "ten_flips"
   ]
  },
  {
   "cell_type": "markdown",
   "metadata": {},
   "source": [
    "`sample_proportions` returns an array that is the same length as the proportion array that is passed through. It contains the proportion of each category that appears in the sample. \n",
    "\n",
    "In our example, the first item of `ten_flips` is the simulated proportion of heads and the second item of `ten_flips` is the simulated proportion of tails."
   ]
  },
  {
   "cell_type": "code",
   "execution_count": 24,
   "metadata": {},
   "outputs": [
    {
     "name": "stdout",
     "output_type": "stream",
     "text": [
      "In our simluation, 0.55 of flips were heads and 0.45 of flips were tails.\n"
     ]
    }
   ],
   "source": [
    "simluated_proportion_heads = ten_flips[0]\n",
    "simluated_proportion_tails = ten_flips[1]\n",
    "\n",
    "print(\"In our simluation, \" + str(simluated_proportion_heads) + \" of flips were heads and \" \\\n",
    "      + str(simluated_proportion_tails) + \" of flips were tails.\")"
   ]
  },
  {
   "cell_type": "code",
   "execution_count": 25,
   "metadata": {},
   "outputs": [
    {
     "data": {
      "text/plain": [
       "array([5., 5.])"
      ]
     },
     "execution_count": 25,
     "metadata": {},
     "output_type": "execute_result"
    }
   ],
   "source": [
    "one_statistic = statistic(expected_proportion_correct, ten_flips)\n",
    "one_statistic"
   ]
  },
  {
   "cell_type": "markdown",
   "metadata": {
    "deletable": false,
    "editable": false
   },
   "source": [
    "**Question 7:** To begin simulating, we should start by creating a representation of Emily's model to use for our simulation. This will be an array with two items in it. The first item should be the proportion of times, assuming that Emily’s model was correct, a TT practictioner picks the correct hand. The second item should be the proportion of times, under the same assumption, that the TT practitioner picks the incorrect hand. Assign `model_proportions` to this array. \n",
    "\n",
    "After this, we can simulate 210 hand choices, as Emily evaluated in real life, and find a single statistic to summarize this instance of the simulation. Use the `sample_proportions` function and assign the proportion of correct hand choices (out of 210) to `simulation_proportion_correct`. Lastly, use your statistic function to assign `one_statistic`  to the value of the statistic for this one simulation.\n",
    "\n",
    "*Hint:* `sample_proportions` usage can be found [here](http://data8.org/su19/python-reference.html).\n",
    "\n",
    "<!--\n",
    "BEGIN QUESTION\n",
    "name: q1_7\n",
    "-->"
   ]
  },
  {
   "cell_type": "code",
   "execution_count": 29,
   "metadata": {},
   "outputs": [
    {
     "data": {
      "text/plain": [
       "4.761904761904762"
      ]
     },
     "execution_count": 29,
     "metadata": {},
     "output_type": "execute_result"
    }
   ],
   "source": [
    "model_proportions = np.array([.5,.5])\n",
    "sample_size=210\n",
    "simulation_proportion = np.random.multinomial(sample_size, coin_proportions) / sample_size\n",
    "one_statistic = statistic(expected_proportion_correct, simulation_proportion)[0]\n",
    "one_statistic"
   ]
  },
  {
   "cell_type": "code",
   "execution_count": null,
   "metadata": {
    "deletable": false,
    "editable": false
   },
   "outputs": [],
   "source": [
    "grader.check(\"q1_7\")"
   ]
  },
  {
   "cell_type": "markdown",
   "metadata": {
    "deletable": false,
    "editable": false
   },
   "source": [
    "**Question 8:** Let's now see what the distribution of statistics is actually like under Emily's model. \n",
    "\n",
    "Define the function `simulation_and_statistic` to take in the `model_proportions` array and the expected proportion of times a TT practitioner would guess a hand correctly under Emily's model. The function should simulate Emily running through the experiment 210 times and return the statistic of this one simulation. \n",
    "\n",
    "*Hint:* This should follow the same pattern as the code you did in the previous problem.  \n",
    "\n",
    "<!--\n",
    "BEGIN QUESTION\n",
    "name: q1_8\n",
    "-->"
   ]
  },
  {
   "cell_type": "code",
   "execution_count": 31,
   "metadata": {
    "for_assignment_type": "solution"
   },
   "outputs": [],
   "source": [
    "def simulation_and_statistic(model_proportions, expected_proportion_correct):\n",
    "    '''Simulates Emily running through this experiment 210 times.\n",
    "    Returns one statistic from the simulation.'''\n",
    "    model_proportions = np.array([.5, .5])\n",
    "    return statistic(expected_proportion_correct,np.random.multinomial(num_guesses, model_proportions) / num_guesses)[0] \n",
    "                     "
   ]
  },
  {
   "cell_type": "markdown",
   "metadata": {
    "deletable": false,
    "editable": false
   },
   "source": [
    "Using this function, assign `simulated_statistics` to an array of 1000 statistics that you calculated under the assumption that Emily's model was true.\n",
    "\n",
    "<!--\n",
    "BEGIN QUESTION\n",
    "name: q1_8\n",
    "-->"
   ]
  },
  {
   "cell_type": "code",
   "execution_count": 34,
   "metadata": {},
   "outputs": [
    {
     "data": {
      "text/plain": [
       "array([ 1.42857143,  5.71428571,  3.80952381,  2.38095238,  0.        ,\n",
       "        0.95238095,  0.        ,  3.33333333,  3.33333333,  2.85714286,\n",
       "        0.95238095,  6.66666667,  0.95238095,  3.33333333,  1.9047619 ,\n",
       "        4.28571429,  0.95238095,  0.47619048,  0.95238095,  3.80952381,\n",
       "        0.47619048,  0.47619048,  1.9047619 ,  0.95238095,  5.23809524,\n",
       "        4.76190476,  0.95238095,  1.42857143,  1.9047619 ,  2.38095238,\n",
       "        2.38095238,  6.19047619,  4.76190476,  2.85714286,  0.95238095,\n",
       "        0.47619048,  1.42857143,  2.38095238,  1.42857143,  2.38095238,\n",
       "        3.33333333,  2.85714286,  0.47619048,  3.80952381,  1.42857143,\n",
       "        7.61904762,  2.38095238,  1.9047619 ,  0.95238095,  3.33333333,\n",
       "        5.71428571,  0.47619048,  1.9047619 ,  0.95238095,  4.76190476,\n",
       "        0.47619048,  4.28571429,  3.33333333,  0.95238095,  0.47619048,\n",
       "        3.33333333,  0.47619048,  8.57142857,  5.23809524,  0.        ,\n",
       "        6.66666667,  1.42857143,  0.47619048,  1.42857143,  3.80952381,\n",
       "        4.76190476,  0.95238095,  0.        ,  1.9047619 ,  4.28571429,\n",
       "        5.71428571,  0.95238095,  2.85714286,  1.42857143,  4.28571429,\n",
       "        0.95238095,  5.71428571,  4.28571429,  0.95238095,  0.95238095,\n",
       "        2.85714286,  6.66666667,  0.95238095,  0.47619048,  2.85714286,\n",
       "        1.42857143,  3.80952381,  2.38095238,  2.85714286,  0.95238095,\n",
       "        6.19047619,  0.47619048,  3.33333333,  3.33333333,  2.85714286,\n",
       "        3.33333333,  1.9047619 ,  2.85714286,  0.47619048,  5.23809524,\n",
       "        1.9047619 ,  0.47619048,  4.76190476,  1.42857143,  0.47619048,\n",
       "        4.76190476,  0.95238095,  4.76190476,  3.33333333,  4.76190476,\n",
       "        0.47619048,  3.33333333,  5.71428571,  2.38095238,  4.76190476,\n",
       "        0.        ,  3.80952381,  2.85714286,  0.47619048,  6.19047619,\n",
       "        2.38095238,  3.80952381,  0.        ,  0.95238095,  9.04761905,\n",
       "        2.38095238,  2.38095238,  6.19047619,  3.33333333,  1.42857143,\n",
       "        2.38095238,  3.33333333,  1.42857143,  6.19047619,  1.42857143,\n",
       "        0.47619048,  2.38095238,  7.14285714,  0.        ,  0.95238095,\n",
       "        0.47619048,  4.76190476,  1.9047619 ,  1.42857143,  4.28571429,\n",
       "        3.33333333,  3.33333333,  1.9047619 ,  3.33333333,  2.85714286,\n",
       "        4.76190476,  0.47619048,  0.        ,  2.38095238,  1.9047619 ,\n",
       "        4.76190476,  4.28571429,  1.42857143,  2.85714286,  1.42857143,\n",
       "        5.23809524,  0.47619048,  1.9047619 ,  2.38095238,  4.28571429,\n",
       "        3.33333333,  0.95238095,  3.33333333,  7.61904762,  5.23809524,\n",
       "        2.85714286,  7.61904762,  3.33333333,  1.42857143,  5.71428571,\n",
       "        2.85714286,  2.85714286,  3.33333333,  3.33333333,  1.42857143,\n",
       "        3.80952381,  2.38095238,  2.38095238,  2.85714286,  1.42857143,\n",
       "        3.33333333,  0.47619048,  1.42857143,  1.42857143,  0.47619048,\n",
       "        0.47619048,  2.38095238,  0.47619048,  3.80952381,  2.38095238,\n",
       "        1.9047619 ,  1.42857143,  3.33333333,  1.9047619 ,  5.23809524,\n",
       "        3.33333333,  0.        ,  2.85714286,  7.14285714,  4.76190476,\n",
       "        1.42857143,  0.95238095,  0.47619048,  5.71428571,  0.95238095,\n",
       "        1.42857143,  3.80952381,  1.42857143,  4.76190476,  0.95238095,\n",
       "        1.42857143,  0.95238095,  0.47619048,  0.47619048,  5.23809524,\n",
       "        1.9047619 ,  0.95238095,  3.80952381,  3.80952381,  0.95238095,\n",
       "        0.47619048,  1.42857143,  2.85714286,  5.71428571,  0.        ,\n",
       "        1.42857143,  0.95238095,  1.9047619 ,  1.9047619 ,  2.38095238,\n",
       "        1.42857143,  1.9047619 ,  1.42857143,  1.42857143,  0.95238095,\n",
       "        3.80952381,  1.9047619 ,  1.42857143,  2.85714286,  1.9047619 ,\n",
       "        2.85714286,  6.19047619,  2.85714286,  1.42857143,  2.38095238,\n",
       "        8.57142857,  1.9047619 ,  7.61904762,  4.28571429,  2.85714286,\n",
       "        0.95238095,  3.33333333,  1.42857143,  4.76190476,  1.42857143,\n",
       "        1.42857143,  3.80952381,  0.        ,  0.47619048,  0.47619048,\n",
       "        4.28571429,  1.9047619 ,  5.71428571,  2.85714286,  1.42857143,\n",
       "        0.47619048,  2.38095238,  1.9047619 ,  0.95238095,  4.76190476,\n",
       "        3.33333333,  4.28571429,  0.95238095,  5.71428571,  1.42857143,\n",
       "        8.0952381 ,  4.76190476,  3.80952381,  5.23809524,  2.38095238,\n",
       "        1.9047619 ,  0.47619048,  1.42857143,  0.        ,  0.47619048,\n",
       "        0.95238095,  0.47619048,  4.28571429,  1.42857143,  0.47619048,\n",
       "        5.71428571,  4.76190476,  1.42857143,  0.        ,  2.85714286,\n",
       "        3.80952381,  1.42857143,  3.80952381,  5.71428571,  2.85714286,\n",
       "        2.38095238,  2.38095238,  3.80952381,  5.71428571,  2.38095238,\n",
       "        0.47619048,  5.71428571,  2.38095238,  1.42857143,  5.23809524,\n",
       "        4.76190476,  0.        ,  2.38095238,  0.95238095,  0.95238095,\n",
       "        0.95238095,  0.47619048,  2.38095238,  5.23809524,  3.80952381,\n",
       "        5.71428571,  5.23809524,  1.42857143,  1.42857143,  3.33333333,\n",
       "        4.76190476,  2.38095238,  0.47619048,  0.47619048,  8.57142857,\n",
       "        1.9047619 ,  0.95238095,  3.80952381,  2.38095238,  0.47619048,\n",
       "        7.14285714,  3.80952381,  2.38095238,  5.71428571,  0.        ,\n",
       "        0.47619048,  1.9047619 ,  2.38095238,  0.        ,  5.23809524,\n",
       "        0.95238095,  3.33333333,  9.52380952,  0.47619048,  5.23809524,\n",
       "        5.71428571,  0.47619048,  2.38095238,  4.76190476,  1.42857143,\n",
       "        0.        ,  0.47619048,  2.38095238,  3.33333333,  0.47619048,\n",
       "        4.76190476,  0.47619048,  0.47619048,  3.33333333,  4.28571429,\n",
       "        4.76190476,  6.66666667,  0.95238095,  0.95238095,  0.47619048,\n",
       "        3.33333333,  3.80952381,  2.85714286,  0.        ,  0.47619048,\n",
       "        1.42857143,  2.85714286,  4.76190476,  0.95238095,  2.85714286,\n",
       "        3.80952381,  4.28571429,  1.42857143,  4.76190476,  0.95238095,\n",
       "        4.76190476,  3.33333333,  1.42857143,  1.9047619 ,  3.33333333,\n",
       "        2.38095238,  5.71428571,  6.19047619,  4.76190476,  0.95238095,\n",
       "        1.42857143,  4.76190476,  1.9047619 ,  0.95238095,  3.80952381,\n",
       "        1.9047619 ,  0.95238095,  0.47619048,  7.61904762,  2.85714286,\n",
       "        4.28571429,  2.85714286,  2.85714286,  5.23809524,  6.66666667,\n",
       "        1.9047619 ,  8.0952381 ,  2.85714286, 10.47619048,  3.33333333,\n",
       "        1.9047619 ,  6.19047619,  6.66666667,  1.42857143,  1.9047619 ,\n",
       "        0.        ,  3.33333333,  2.38095238,  4.28571429,  2.38095238,\n",
       "        1.9047619 ,  5.23809524,  3.33333333,  2.38095238,  0.        ,\n",
       "        0.95238095,  8.0952381 ,  0.47619048,  0.47619048,  4.28571429,\n",
       "        2.85714286,  1.42857143,  2.85714286,  2.38095238,  2.38095238,\n",
       "        2.85714286,  2.85714286,  4.28571429,  3.33333333,  3.33333333,\n",
       "        5.23809524,  0.47619048,  5.23809524,  3.33333333,  2.38095238,\n",
       "        0.95238095,  4.76190476,  5.23809524,  2.85714286,  3.80952381,\n",
       "        5.23809524,  0.95238095,  4.28571429,  4.76190476,  6.66666667,\n",
       "        2.38095238,  6.66666667,  1.42857143,  0.47619048,  2.85714286,\n",
       "        3.33333333,  2.38095238,  1.42857143,  1.9047619 ,  2.38095238,\n",
       "        3.80952381,  6.66666667,  0.47619048,  2.38095238,  2.85714286,\n",
       "        0.        ,  4.76190476,  5.71428571,  1.42857143,  7.14285714,\n",
       "        4.76190476,  3.33333333,  4.28571429,  0.47619048,  0.        ,\n",
       "        4.28571429,  0.95238095,  4.28571429,  2.38095238,  3.33333333,\n",
       "        5.71428571,  3.33333333,  3.33333333,  2.85714286,  1.9047619 ,\n",
       "        0.95238095,  4.76190476,  0.95238095,  0.95238095,  4.76190476,\n",
       "        1.9047619 ,  4.28571429,  2.85714286,  4.28571429,  0.        ,\n",
       "        1.9047619 ,  0.95238095,  3.80952381,  1.9047619 ,  1.42857143,\n",
       "        2.38095238,  0.95238095,  0.95238095,  2.38095238,  2.38095238,\n",
       "        3.80952381,  1.42857143,  1.9047619 ,  4.76190476,  0.        ,\n",
       "        2.38095238,  1.42857143,  5.71428571,  4.76190476,  5.71428571,\n",
       "        2.38095238,  2.38095238,  3.33333333,  7.61904762,  1.42857143,\n",
       "        3.33333333,  0.47619048,  0.95238095,  4.76190476,  1.42857143,\n",
       "        2.85714286,  3.33333333,  0.        ,  0.47619048,  3.33333333,\n",
       "        5.23809524,  0.47619048,  3.33333333,  3.80952381,  0.95238095,\n",
       "        1.9047619 ,  1.42857143,  1.9047619 ,  3.33333333,  4.76190476,\n",
       "        4.76190476,  2.38095238,  4.76190476,  4.28571429,  0.95238095,\n",
       "        0.95238095,  3.33333333,  2.38095238,  1.42857143,  2.38095238,\n",
       "        1.9047619 ,  1.9047619 ,  1.42857143,  2.38095238,  0.47619048,\n",
       "        0.95238095,  3.80952381,  2.38095238,  1.9047619 ,  3.33333333,\n",
       "        5.71428571,  0.        ,  6.19047619,  1.9047619 ,  0.95238095,\n",
       "        4.76190476,  6.19047619,  1.42857143,  0.47619048,  1.42857143,\n",
       "        2.85714286,  4.28571429,  4.28571429,  1.9047619 ,  0.        ,\n",
       "        1.42857143,  1.42857143,  5.23809524,  4.76190476,  1.9047619 ,\n",
       "        1.42857143,  0.95238095,  2.85714286,  3.33333333,  4.28571429,\n",
       "        3.33333333,  2.38095238,  1.42857143,  0.47619048,  0.95238095,\n",
       "        2.85714286,  2.38095238,  0.47619048,  7.14285714,  1.9047619 ,\n",
       "        0.95238095,  2.38095238,  4.76190476,  2.85714286,  7.61904762,\n",
       "        0.95238095,  6.19047619,  2.85714286,  4.76190476,  0.        ,\n",
       "        1.42857143,  2.38095238,  3.33333333,  1.9047619 ,  0.95238095,\n",
       "        0.95238095,  5.71428571,  2.38095238,  3.33333333,  2.85714286,\n",
       "        2.85714286,  2.85714286,  3.80952381,  2.38095238,  4.28571429,\n",
       "        2.85714286,  3.33333333,  1.42857143,  3.33333333,  0.47619048,\n",
       "        6.66666667,  8.0952381 ,  1.42857143,  2.38095238,  0.47619048,\n",
       "        2.85714286,  2.85714286,  4.28571429,  3.33333333,  1.42857143,\n",
       "        1.9047619 ,  2.38095238,  2.38095238,  7.14285714,  0.        ,\n",
       "        4.28571429,  7.14285714,  1.42857143,  1.9047619 ,  2.85714286,\n",
       "        0.95238095,  0.47619048,  2.85714286,  7.14285714,  0.47619048,\n",
       "        2.38095238,  6.66666667,  0.47619048,  7.14285714,  1.9047619 ,\n",
       "        1.9047619 ,  0.        ,  6.66666667,  5.23809524,  4.28571429,\n",
       "        2.38095238,  6.19047619,  1.42857143,  3.80952381,  1.9047619 ,\n",
       "        2.38095238,  1.9047619 ,  0.95238095,  4.28571429,  4.28571429,\n",
       "        3.80952381,  7.61904762,  3.80952381,  1.42857143,  5.23809524,\n",
       "        0.95238095,  2.38095238,  1.9047619 ,  4.28571429,  4.76190476,\n",
       "        3.33333333,  5.23809524,  6.19047619,  3.33333333,  1.42857143,\n",
       "        0.        ,  1.42857143,  2.38095238,  1.9047619 ,  7.14285714,\n",
       "        4.28571429,  0.        ,  0.        ,  0.        ,  0.47619048,\n",
       "        1.9047619 ,  0.        ,  0.47619048,  4.28571429,  1.9047619 ,\n",
       "        2.38095238,  0.95238095,  2.38095238,  3.80952381,  6.66666667,\n",
       "        2.38095238,  2.85714286,  0.47619048,  0.        ,  0.95238095,\n",
       "        0.47619048,  1.42857143,  3.33333333,  1.9047619 ,  1.42857143,\n",
       "        2.38095238,  4.76190476,  6.19047619,  3.33333333,  1.9047619 ,\n",
       "        1.9047619 ,  2.38095238,  9.52380952,  2.85714286,  1.9047619 ,\n",
       "        1.9047619 ,  1.42857143,  1.9047619 ,  0.47619048,  0.47619048,\n",
       "        0.47619048,  1.42857143,  0.95238095,  0.47619048,  1.9047619 ,\n",
       "        5.23809524,  1.9047619 ,  2.85714286,  0.        ,  3.80952381,\n",
       "        4.28571429,  1.42857143,  1.42857143,  4.76190476,  4.28571429,\n",
       "        1.42857143,  0.95238095,  1.9047619 ,  5.71428571,  0.47619048,\n",
       "        1.42857143,  5.23809524,  3.33333333,  0.95238095,  4.28571429,\n",
       "        0.95238095,  0.        ,  4.76190476,  3.33333333,  7.61904762,\n",
       "        0.95238095,  1.42857143,  1.9047619 ,  0.47619048,  1.9047619 ,\n",
       "        1.42857143,  0.        ,  1.9047619 , 10.        ,  4.76190476,\n",
       "        0.47619048,  4.28571429,  2.85714286,  2.38095238,  7.14285714,\n",
       "        0.47619048,  0.95238095,  1.9047619 ,  5.71428571,  4.28571429,\n",
       "        0.47619048,  1.9047619 ,  3.80952381,  1.42857143,  0.95238095,\n",
       "        2.85714286,  3.80952381,  0.47619048,  2.38095238,  1.9047619 ,\n",
       "        1.42857143,  3.33333333,  0.95238095,  1.9047619 ,  5.23809524,\n",
       "        4.28571429,  7.61904762,  9.04761905,  1.42857143,  1.42857143,\n",
       "        2.38095238,  0.95238095,  1.9047619 ,  0.47619048,  0.        ,\n",
       "        6.19047619,  1.42857143,  4.28571429,  4.28571429,  0.95238095,\n",
       "        3.33333333,  4.76190476,  0.        ,  2.85714286,  0.47619048,\n",
       "        4.28571429,  4.76190476,  6.66666667,  1.9047619 ,  0.47619048,\n",
       "        0.95238095,  1.9047619 ,  7.61904762,  2.38095238,  2.85714286,\n",
       "        3.33333333,  7.14285714,  1.9047619 , 10.47619048,  5.23809524,\n",
       "        4.28571429,  3.80952381,  6.66666667,  2.38095238,  0.95238095,\n",
       "        5.23809524,  4.76190476,  0.47619048,  1.42857143,  6.19047619,\n",
       "        0.47619048,  0.95238095,  5.71428571,  1.42857143,  3.33333333,\n",
       "        0.        ,  2.38095238,  0.        ,  3.80952381,  2.85714286,\n",
       "        2.85714286,  6.19047619,  4.28571429,  0.47619048,  2.85714286,\n",
       "        2.85714286,  4.76190476,  4.76190476,  2.38095238,  1.9047619 ,\n",
       "        4.28571429,  1.9047619 ,  0.95238095,  7.61904762,  0.47619048,\n",
       "        3.33333333,  0.95238095,  0.95238095,  1.42857143,  3.80952381,\n",
       "        0.95238095,  2.38095238,  2.85714286,  1.42857143,  1.9047619 ,\n",
       "        0.47619048,  2.85714286,  1.42857143,  2.38095238,  0.47619048,\n",
       "        7.61904762,  1.42857143,  3.80952381,  1.42857143,  5.23809524,\n",
       "        3.80952381,  0.95238095,  1.9047619 ,  4.28571429,  1.9047619 ,\n",
       "        0.        ,  0.95238095,  1.9047619 ,  0.95238095,  0.95238095,\n",
       "        0.47619048,  1.42857143,  0.        ,  0.47619048,  0.47619048,\n",
       "        0.47619048,  3.33333333,  1.9047619 ,  4.28571429,  3.80952381,\n",
       "        3.80952381,  0.        ,  2.38095238,  2.85714286,  8.57142857,\n",
       "        3.33333333,  3.33333333,  1.9047619 ,  0.        ,  3.80952381,\n",
       "        0.95238095,  5.71428571,  4.28571429,  3.33333333,  2.38095238,\n",
       "        0.47619048,  3.33333333,  1.42857143,  0.47619048,  6.66666667,\n",
       "        3.80952381,  0.95238095,  0.47619048,  3.33333333,  7.14285714,\n",
       "        0.47619048,  0.47619048,  0.47619048,  6.19047619, 10.47619048,\n",
       "        4.76190476,  2.38095238,  0.47619048, 12.38095238,  4.76190476,\n",
       "        1.42857143,  3.33333333,  3.33333333,  2.85714286,  2.38095238,\n",
       "        3.33333333,  4.76190476,  2.85714286,  1.9047619 ,  2.38095238,\n",
       "        2.85714286,  3.80952381,  0.95238095,  0.47619048,  6.19047619,\n",
       "        5.23809524,  4.28571429,  1.42857143,  0.95238095,  4.76190476,\n",
       "        4.76190476,  0.95238095,  1.9047619 ,  0.47619048,  1.42857143,\n",
       "        6.19047619,  0.95238095,  2.38095238,  1.42857143,  9.04761905,\n",
       "        7.14285714,  0.95238095,  1.42857143,  3.33333333,  2.85714286,\n",
       "        2.38095238,  1.9047619 ,  7.61904762,  0.95238095,  3.33333333])"
      ]
     },
     "execution_count": 34,
     "metadata": {},
     "output_type": "execute_result"
    }
   ],
   "source": [
    "num_repetitions = 1000\n",
    "num_guesses = 210\n",
    "simulated_statistics = np.array([])\n",
    "for i in range(1000):\n",
    "    simulated_statistics = np.append(simulated_statistics, simulation_and_statistic(model_proportions, expected_proportion_correct))\n",
    "simulated_statistics    "
   ]
  },
  {
   "cell_type": "code",
   "execution_count": null,
   "metadata": {
    "deletable": false,
    "editable": false
   },
   "outputs": [],
   "source": [
    "grader.check(\"q1_8\")"
   ]
  },
  {
   "cell_type": "markdown",
   "metadata": {},
   "source": [
    "Let's view the distribution of the simulated statistics under Emily's model, and visually compare where the observed statistic lies relative to the simulated statistics."
   ]
  },
  {
   "cell_type": "code",
   "execution_count": 36,
   "metadata": {},
   "outputs": [
    {
     "data": {
      "image/png": "[encoded data removed]",
      "text/plain": [
       "<Figure size 640x480 with 1 Axes>"
      ]
     },
     "metadata": {},
     "output_type": "display_data"
    }
   ],
   "source": [
    "plt.hist(simulated_statistics)\n",
    "plt.scatter(observed_statistic, 0, color='red', s=30)\n",
    "plt.show()"
   ]
  },
  {
   "cell_type": "markdown",
   "metadata": {},
   "source": [
    "We can make a visual argument as to whether we believe the observed statistic is consistent with Emily’s model. Here, since larger values of the test statistic suggest the alternative model (where the chance of guessing the correct hand is something other than 50%), we can formalize our analysis by finding what proportion of simulated statistics were as large or larger than our observed test statistic (the area at or to the right of the observed test statistic). If this area is small enough, we’ll declare that the observed data are inconsistent with our simulated model."
   ]
  },
  {
   "cell_type": "markdown",
   "metadata": {
    "deletable": false,
    "editable": false
   },
   "source": [
    "**Question 9:** Calculate the proportion of simulated statistics greater than or equal to the observed statistic. \n",
    "\n",
    "<!--\n",
    "BEGIN QUESTION\n",
    "name: q1_9\n",
    "-->"
   ]
  },
  {
   "cell_type": "code",
   "execution_count": 37,
   "metadata": {
    "scrolled": true
   },
   "outputs": [
    {
     "data": {
      "text/plain": [
       "0.082"
      ]
     },
     "execution_count": 37,
     "metadata": {},
     "output_type": "execute_result"
    }
   ],
   "source": [
    "proportion_greater_or_equal = sum(simulated_statistics>=observed_statistic)/len(simulated_statistics)\n",
    "proportion_greater_or_equal"
   ]
  },
  {
   "cell_type": "code",
   "execution_count": null,
   "metadata": {
    "deletable": false,
    "editable": false
   },
   "outputs": [],
   "source": [
    "grader.check(\"q1_9\")"
   ]
  },
  {
   "cell_type": "markdown",
   "metadata": {},
   "source": [
    "By convention, we often compare the proportion we just calculated to 0.05. If the proportion of simulated statistics greater than or equal to the observed statistic is sufficiently small (less than or equal to 0.05), then this is evidence against Emily's model. Otherwise, we don’t have any reason to doubt Emily’s model. \n",
    "\n",
    "This should help you make your own conclusions about Emily Rosa's experiment. \n",
    "\n",
    "Therapeutic touch fell out of use after this experiment, which was eventually accepted into one of the premier medical journals. TT practitioners hit back and accused Emily and her family of tampering with the results, while some claimed that Emily's bad spiritual mood towards therapeutic touch made it difficult to read her HEF. Whatever it may be, Emily's experiment is a classic example about how anyone, with the right resources, can test anything they want!\n",
    "\n",
    "Think to yourself and be prepared to talk with your learning assistant and TA about the following questions as you get checked off: \n",
    "\n",
    "1. Is the data more consistent with Emily' model (practioners were randomly guessing)?\n",
    "2. What does this mean in terms of Emily's experiment? Do the TT practitioners' answers follow an even chance model or is there something else at play? \n",
    "\n",
    "Lastly, make sure to run all the tests (the next cell has a shortcut for that), save your work, and run the submit cell before you leave lab to ensure your assignment gets graded! "
   ]
  },
  {
   "cell_type": "markdown",
   "metadata": {
    "deletable": false,
    "editable": false
   },
   "source": [
    "---\n",
    "\n",
    "To double-check your work, the cell below will rerun all of the autograder tests."
   ]
  },
  {
   "cell_type": "raw",
   "metadata": {},
   "source": [
    "The results showed that TT practitioners could not detect the hand more often than chance, and Rosa and her co-authors therefore concluded that there was no empirical basis to the HEF and by extension therapeutic touch.\n",
    "\n",
    "The TT practitioenrs answers were aqually random and any devation that was observed\n",
    "from this was due to chance"
   ]
  },
  {
   "cell_type": "code",
   "execution_count": null,
   "metadata": {
    "deletable": false,
    "editable": false
   },
   "outputs": [],
   "source": [
    "grader.check_all()"
   ]
  },
  {
   "cell_type": "markdown",
   "metadata": {
    "deletable": false,
    "editable": false
   },
   "source": [
    "## Submission\n",
    "\n",
    "Make sure you have run all cells in your notebook in order before running the cell below, so that all images/graphs appear in the output. The cell below will generate a zip file for you to submit. **Please save before exporting!**"
   ]
  },
  {
   "cell_type": "code",
   "execution_count": null,
   "metadata": {
    "deletable": false,
    "editable": false
   },
   "outputs": [],
   "source": [
    "# Save your notebook first, then run this cell to export your submission.\n",
    "grader.export(pdf=False)"
   ]
  },
  {
   "cell_type": "markdown",
   "metadata": {},
   "source": [
    " "
   ]
  }
 ],
 "metadata": {
  "celltoolbar": "Edit Metadata",
  "kernelspec": {
   "display_name": "Python 3 (ipykernel)",
   "language": "python",
   "name": "python3"
  },
  "language_info": {
   "codemirror_mode": {
    "name": "ipython",
    "version": 3
   },
   "file_extension": ".py",
   "mimetype": "text/x-python",
   "name": "python",
   "nbconvert_exporter": "python",
   "pygments_lexer": "ipython3",
   "version": "3.9.13"
  }
 },
 "nbformat": 4,
 "nbformat_minor": 2
}
